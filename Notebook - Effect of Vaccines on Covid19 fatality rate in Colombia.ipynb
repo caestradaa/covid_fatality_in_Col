{
 "cells": [
  {
   "cell_type": "markdown",
   "id": "9f0b5e29-9227-4ef5-91be-6575dc7b45f6",
   "metadata": {
    "tags": []
   },
   "source": [
    "# Effect of Vaccines on Covid-19 fatality rate in Colombia"
   ]
  },
  {
   "cell_type": "markdown",
   "id": "189760e7-5f5a-45de-b03a-04660503c51c",
   "metadata": {},
   "source": [
    "#### Objective:\n",
    "Understand the effects that mass vaccination is having on the fatality rate of the Covid-19 virus in Colombia.\n",
    "The population is segmented by age groups and a comparison is made of the fatality rate of the virus in each one of them at the start of vaccination versus at the present time..\n",
    "\n",
    "#### Tools\n",
    "- Pandas, seaborn, matplotlib, ipython-sql (SQL Magic extention)"
   ]
  },
  {
   "cell_type": "markdown",
   "id": "6c485a91-497b-4ccc-8b77-2c32a40df005",
   "metadata": {},
   "source": [
    "---\n",
    "#### Importing packges and SQL Server database connection"
   ]
  },
  {
   "cell_type": "code",
   "execution_count": 1,
   "id": "ecc08b9f-2752-4937-a7b2-c79dbacb1554",
   "metadata": {},
   "outputs": [],
   "source": [
    "#importing packeges\n",
    "import pyodbc\n",
    "import pandas as pd\n",
    "import matplotlib.pyplot as plt\n",
    "import seaborn as sns"
   ]
  },
  {
   "cell_type": "code",
   "execution_count": 2,
   "id": "3a2db3c3-d2ea-417f-85e0-efc9dc7f0f0a",
   "metadata": {},
   "outputs": [],
   "source": [
    "#database connection: #mssql://Host_name/Database_name?driver=Driver_name\n",
    "%load_ext sql\n",
    "%sql mssql://CAMILO-PCI5\\SQLEXPRESS/CovidColombia?driver=SQL+Server"
   ]
  },
  {
   "cell_type": "code",
   "execution_count": 13,
   "id": "3661c64b-43e4-4cf2-a677-570ae2aa49d2",
   "metadata": {
    "tags": []
   },
   "outputs": [
    {
     "name": "stdout",
     "output_type": "stream",
     "text": [
      "{'mssql://CAMILO-PCI5\\\\SQLEXPRESS/CovidColombia?driver=SQL+Server': <sql.connection.Connection object at 0x0000021F603DFE80>}\n"
     ]
    }
   ],
   "source": [
    "#checking connection\n",
    "conn = %sql l / --connections\n",
    "print(conn)"
   ]
  },
  {
   "cell_type": "markdown",
   "id": "da2dab51-7973-4c7f-8056-f5c71d42ab87",
   "metadata": {},
   "source": [
    "---\n",
    "#### Testing connection by retreving columns info"
   ]
  },
  {
   "cell_type": "code",
   "execution_count": 4,
   "id": "7cbd2d64-ab92-4517-8320-2587655da11a",
   "metadata": {},
   "outputs": [
    {
     "name": "stdout",
     "output_type": "stream",
     "text": [
      " * mssql://CAMILO-PCI5\\SQLEXPRESS/CovidColombia?driver=SQL+Server\n",
      "Done.\n"
     ]
    },
    {
     "data": {
      "text/html": [
       "<table>\n",
       "    <tr>\n",
       "        <th>COLUMN_NAME</th>\n",
       "        <th>DATA_TYPE</th>\n",
       "    </tr>\n",
       "    <tr>\n",
       "        <td>fecha_reporte_web</td>\n",
       "        <td>date</td>\n",
       "    </tr>\n",
       "    <tr>\n",
       "        <td>id_caso</td>\n",
       "        <td>int</td>\n",
       "    </tr>\n",
       "    <tr>\n",
       "        <td>fecha_notificacion</td>\n",
       "        <td>date</td>\n",
       "    </tr>\n",
       "    <tr>\n",
       "        <td>codigo_divipola_dpto</td>\n",
       "        <td>int</td>\n",
       "    </tr>\n",
       "    <tr>\n",
       "        <td>nombre_dpto</td>\n",
       "        <td>varchar</td>\n",
       "    </tr>\n",
       "    <tr>\n",
       "        <td>codigo_divipola_municipio</td>\n",
       "        <td>int</td>\n",
       "    </tr>\n",
       "    <tr>\n",
       "        <td>nombre_municipio</td>\n",
       "        <td>varchar</td>\n",
       "    </tr>\n",
       "    <tr>\n",
       "        <td>edad</td>\n",
       "        <td>int</td>\n",
       "    </tr>\n",
       "    <tr>\n",
       "        <td>unidad_medida_edad</td>\n",
       "        <td>int</td>\n",
       "    </tr>\n",
       "    <tr>\n",
       "        <td>sexo</td>\n",
       "        <td>varchar</td>\n",
       "    </tr>\n",
       "    <tr>\n",
       "        <td>tipo_contagio</td>\n",
       "        <td>varchar</td>\n",
       "    </tr>\n",
       "    <tr>\n",
       "        <td>ubicacion_caso</td>\n",
       "        <td>varchar</td>\n",
       "    </tr>\n",
       "    <tr>\n",
       "        <td>severidad</td>\n",
       "        <td>varchar</td>\n",
       "    </tr>\n",
       "    <tr>\n",
       "        <td>codigo_iso_pais</td>\n",
       "        <td>int</td>\n",
       "    </tr>\n",
       "    <tr>\n",
       "        <td>nombre_pais</td>\n",
       "        <td>varchar</td>\n",
       "    </tr>\n",
       "    <tr>\n",
       "        <td>estado</td>\n",
       "        <td>varchar</td>\n",
       "    </tr>\n",
       "    <tr>\n",
       "        <td>fecha_inicio_sintomas</td>\n",
       "        <td>date</td>\n",
       "    </tr>\n",
       "    <tr>\n",
       "        <td>fecha_muerte</td>\n",
       "        <td>date</td>\n",
       "    </tr>\n",
       "    <tr>\n",
       "        <td>fecha_diagnostico</td>\n",
       "        <td>date</td>\n",
       "    </tr>\n",
       "    <tr>\n",
       "        <td>fecha_recuperacion</td>\n",
       "        <td>date</td>\n",
       "    </tr>\n",
       "    <tr>\n",
       "        <td>tipo_recuperacion</td>\n",
       "        <td>varchar</td>\n",
       "    </tr>\n",
       "    <tr>\n",
       "        <td>pertenencia_etnica</td>\n",
       "        <td>varchar</td>\n",
       "    </tr>\n",
       "    <tr>\n",
       "        <td>nombre_grupo_etnico</td>\n",
       "        <td>varchar</td>\n",
       "    </tr>\n",
       "</table>"
      ],
      "text/plain": [
       "[('fecha_reporte_web', 'date'),\n",
       " ('id_caso', 'int'),\n",
       " ('fecha_notificacion', 'date'),\n",
       " ('codigo_divipola_dpto', 'int'),\n",
       " ('nombre_dpto', 'varchar'),\n",
       " ('codigo_divipola_municipio', 'int'),\n",
       " ('nombre_municipio', 'varchar'),\n",
       " ('edad', 'int'),\n",
       " ('unidad_medida_edad', 'int'),\n",
       " ('sexo', 'varchar'),\n",
       " ('tipo_contagio', 'varchar'),\n",
       " ('ubicacion_caso', 'varchar'),\n",
       " ('severidad', 'varchar'),\n",
       " ('codigo_iso_pais', 'int'),\n",
       " ('nombre_pais', 'varchar'),\n",
       " ('estado', 'varchar'),\n",
       " ('fecha_inicio_sintomas', 'date'),\n",
       " ('fecha_muerte', 'date'),\n",
       " ('fecha_diagnostico', 'date'),\n",
       " ('fecha_recuperacion', 'date'),\n",
       " ('tipo_recuperacion', 'varchar'),\n",
       " ('pertenencia_etnica', 'varchar'),\n",
       " ('nombre_grupo_etnico', 'varchar')]"
      ]
     },
     "execution_count": 4,
     "metadata": {},
     "output_type": "execute_result"
    }
   ],
   "source": [
    "%%sql\n",
    "SELECT COLUMN_NAME, DATA_TYPE from INFORMATION_SCHEMA.COLUMNS\n",
    "WHERE \n",
    " TABLE_NAME = 'Casos'"
   ]
  },
  {
   "cell_type": "markdown",
   "id": "3b8c0ce7-1584-448a-9c60-1e6fa6443150",
   "metadata": {},
   "source": [
    "---\n",
    "#### Retrieving the cleaned dataset"
   ]
  },
  {
   "cell_type": "code",
   "execution_count": 5,
   "id": "d4193f63-b59f-421e-a520-4dd5359a4ea0",
   "metadata": {
    "tags": []
   },
   "outputs": [
    {
     "name": "stdout",
     "output_type": "stream",
     "text": [
      " * mssql://CAMILO-PCI5\\SQLEXPRESS/CovidColombia?driver=SQL+Server\n",
      "Done.\n"
     ]
    },
    {
     "data": {
      "text/html": [
       "<table>\n",
       "    <tr>\n",
       "        <th>fecha_reporte_web</th>\n",
       "        <th>id_caso</th>\n",
       "        <th>edad</th>\n",
       "        <th>unidad_medida_edad</th>\n",
       "        <th>sexo</th>\n",
       "        <th>estado</th>\n",
       "        <th>fecha_muerte</th>\n",
       "    </tr>\n",
       "    <tr>\n",
       "        <td>2020-03-06</td>\n",
       "        <td>1</td>\n",
       "        <td>19</td>\n",
       "        <td>1</td>\n",
       "        <td>F</td>\n",
       "        <td>Recuperado</td>\n",
       "        <td>None</td>\n",
       "    </tr>\n",
       "    <tr>\n",
       "        <td>2020-03-09</td>\n",
       "        <td>2</td>\n",
       "        <td>34</td>\n",
       "        <td>1</td>\n",
       "        <td>M</td>\n",
       "        <td>Recuperado</td>\n",
       "        <td>None</td>\n",
       "    </tr>\n",
       "    <tr>\n",
       "        <td>2020-03-09</td>\n",
       "        <td>3</td>\n",
       "        <td>50</td>\n",
       "        <td>1</td>\n",
       "        <td>F</td>\n",
       "        <td>Recuperado</td>\n",
       "        <td>None</td>\n",
       "    </tr>\n",
       "    <tr>\n",
       "        <td>2020-03-11</td>\n",
       "        <td>4</td>\n",
       "        <td>55</td>\n",
       "        <td>1</td>\n",
       "        <td>M</td>\n",
       "        <td>Recuperado</td>\n",
       "        <td>None</td>\n",
       "    </tr>\n",
       "    <tr>\n",
       "        <td>2020-03-11</td>\n",
       "        <td>5</td>\n",
       "        <td>25</td>\n",
       "        <td>1</td>\n",
       "        <td>M</td>\n",
       "        <td>Recuperado</td>\n",
       "        <td>None</td>\n",
       "    </tr>\n",
       "</table>"
      ],
      "text/plain": [
       "[('2020-03-06', 1, 19, 1, 'F', 'Recuperado', None),\n",
       " ('2020-03-09', 2, 34, 1, 'M', 'Recuperado', None),\n",
       " ('2020-03-09', 3, 50, 1, 'F', 'Recuperado', None),\n",
       " ('2020-03-11', 4, 55, 1, 'M', 'Recuperado', None),\n",
       " ('2020-03-11', 5, 25, 1, 'M', 'Recuperado', None)]"
      ]
     },
     "execution_count": 5,
     "metadata": {},
     "output_type": "execute_result"
    }
   ],
   "source": [
    "%%sql\n",
    "SELECT TOP 5 fecha_reporte_web, id_caso, edad, unidad_medida_edad, sexo, estado, fecha_muerte\n",
    "FROM Casos\n",
    "ORDER BY fecha_reporte_web"
   ]
  },
  {
   "cell_type": "markdown",
   "id": "1eab1496-187e-4bda-bdf0-98073c0c9d47",
   "metadata": {},
   "source": [
    "---\n",
    "#### **Total Cases** reported to date"
   ]
  },
  {
   "cell_type": "code",
   "execution_count": 34,
   "id": "2b523ca9-b926-4064-ba1f-21056bc843cc",
   "metadata": {},
   "outputs": [
    {
     "name": "stdout",
     "output_type": "stream",
     "text": [
      " * mssql://CAMILO-PCI5\\SQLEXPRESS/CovidColombia?driver=SQL+Server\n",
      "Done.\n"
     ]
    }
   ],
   "source": [
    "r0 = %sql SELECT COUNT(*) FROM Casos\n",
    "total_cases = r0[0][0]"
   ]
  },
  {
   "cell_type": "code",
   "execution_count": 35,
   "id": "722a0a89-2a09-419d-bd4f-0da9fceab13c",
   "metadata": {
    "tags": []
   },
   "outputs": [
    {
     "name": "stdout",
     "output_type": "stream",
     "text": [
      "Total cases reported to date = 4565372\n",
      "Proportion of the population infected = 9.07 %\n"
     ]
    }
   ],
   "source": [
    "total_pop = 50339000\n",
    "prop_pop_inf = round((total_cases/total_pop)*100,2)\n",
    "print('Total cases reported to date =',total_cases)\n",
    "print('Proportion of the population infected =',prop_pop_inf, '%')"
   ]
  },
  {
   "cell_type": "markdown",
   "id": "c7dbf2eb-0a54-4494-9423-1216d6f11478",
   "metadata": {
    "tags": []
   },
   "source": [
    "---\n",
    "#### **Total Deaths and Fatality Rate** reported to date"
   ]
  },
  {
   "cell_type": "code",
   "execution_count": 39,
   "id": "513c272b-044e-4a3c-a883-258962c47f6c",
   "metadata": {},
   "outputs": [
    {
     "name": "stdout",
     "output_type": "stream",
     "text": [
      " * mssql://CAMILO-PCI5\\SQLEXPRESS/CovidColombia?driver=SQL+Server\n",
      "Done.\n"
     ]
    }
   ],
   "source": [
    "r1 = %sql SELECT estado, COUNT(estado) AS cantidad FROM Casos GROUP BY estado ORDER BY cantidad"
   ]
  },
  {
   "cell_type": "code",
   "execution_count": 40,
   "id": "4f47eaae-32be-4433-8fe9-b45479e51b9d",
   "metadata": {},
   "outputs": [
    {
     "data": {
      "text/html": [
       "<div>\n",
       "<style scoped>\n",
       "    .dataframe tbody tr th:only-of-type {\n",
       "        vertical-align: middle;\n",
       "    }\n",
       "\n",
       "    .dataframe tbody tr th {\n",
       "        vertical-align: top;\n",
       "    }\n",
       "\n",
       "    .dataframe thead th {\n",
       "        text-align: right;\n",
       "    }\n",
       "</style>\n",
       "<table border=\"1\" class=\"dataframe\">\n",
       "  <thead>\n",
       "    <tr style=\"text-align: right;\">\n",
       "      <th></th>\n",
       "      <th>estado</th>\n",
       "      <th>cantidad</th>\n",
       "      <th>porcentaje</th>\n",
       "    </tr>\n",
       "  </thead>\n",
       "  <tbody>\n",
       "    <tr>\n",
       "      <th>0</th>\n",
       "      <td>N/A</td>\n",
       "      <td>12926</td>\n",
       "      <td>0.28</td>\n",
       "    </tr>\n",
       "    <tr>\n",
       "      <th>1</th>\n",
       "      <td>Fallecido</td>\n",
       "      <td>114337</td>\n",
       "      <td>2.50</td>\n",
       "    </tr>\n",
       "    <tr>\n",
       "      <th>2</th>\n",
       "      <td>Activo</td>\n",
       "      <td>120673</td>\n",
       "      <td>2.64</td>\n",
       "    </tr>\n",
       "    <tr>\n",
       "      <th>3</th>\n",
       "      <td>Recuperado</td>\n",
       "      <td>4317436</td>\n",
       "      <td>94.57</td>\n",
       "    </tr>\n",
       "  </tbody>\n",
       "</table>\n",
       "</div>"
      ],
      "text/plain": [
       "       estado  cantidad  porcentaje\n",
       "0         N/A     12926        0.28\n",
       "1   Fallecido    114337        2.50\n",
       "2      Activo    120673        2.64\n",
       "3  Recuperado   4317436       94.57"
      ]
     },
     "execution_count": 40,
     "metadata": {},
     "output_type": "execute_result"
    }
   ],
   "source": [
    "df_r1 = r1.DataFrame()\n",
    "df_r1['porcentaje'] = round((df_r1['cantidad']/total_cases)*100,2)\n",
    "df_r1"
   ]
  },
  {
   "cell_type": "code",
   "execution_count": 33,
   "id": "dc7bf544-6bf3-4d9c-a4fa-16cd181bed8c",
   "metadata": {
    "tags": []
   },
   "outputs": [
    {
     "data": {
      "text/plain": [
       "([<matplotlib.patches.Wedge at 0x1e735e6e9d0>,\n",
       "  <matplotlib.patches.Wedge at 0x1e735e6ef10>,\n",
       "  <matplotlib.patches.Wedge at 0x1e735e7d430>,\n",
       "  <matplotlib.patches.Wedge at 0x1e735e7d8b0>],\n",
       " [Text(1.099956485349573, 0.009784188132643572, 'N/A'),\n",
       "  Text(1.0948855238937767, 0.10595135472399823, 'Fallecido'),\n",
       "  Text(1.063539755390138, 0.28086151161148004, 'Activo'),\n",
       "  Text(-1.0840288650002177, -0.18676568166111288, 'Recuperado')])"
      ]
     },
     "execution_count": 33,
     "metadata": {},
     "output_type": "execute_result"
    },
    {
     "data": {
      "image/png": "[encoded data removed]",
      "text/plain": [
       "<Figure size 432x288 with 1 Axes>"
      ]
     },
     "metadata": {},
     "output_type": "display_data"
    }
   ],
   "source": [
    "#ploting proportion of cases by status \n",
    "plot1 = r1.pie()\n",
    "plot1"
   ]
  },
  {
   "cell_type": "code",
   "execution_count": 37,
   "id": "6bbbd43f-ea1c-4936-9663-4ad95974f55a",
   "metadata": {
    "tags": []
   },
   "outputs": [
    {
     "name": "stdout",
     "output_type": "stream",
     "text": [
      " * mssql://CAMILO-PCI5\\SQLEXPRESS/CovidColombia?driver=SQL+Server\n",
      "Done.\n",
      "Total deaths = 114337\n",
      "General Mortality rate = 227.13 per 100,000 inhabitants\n",
      "General Fatality rate = 2.504 %\n"
     ]
    }
   ],
   "source": [
    "#mortality rate: proportion of deaths per unit of population (100,000 generally used)\n",
    "#fatality rate: proportion of deaths compared to the total number of people diagnosed.\n",
    "\n",
    "r2 = %sql SELECT COUNT(estado) FROM Casos WHERE estado = 'Fallecido'\n",
    "\n",
    "total_deaths = r2[0][0]\n",
    "gen_mortality = (total_deaths*100000/total_pop)\n",
    "gen_fatality = (total_deaths/total_cases)*100\n",
    "\n",
    "print('Total deaths =', total_deaths)\n",
    "print('General Mortality rate =', round(gen_mortality,2), 'per 100,000 inhabitants')\n",
    "print('General Fatality rate =', round(gen_fatality,3), '%')"
   ]
  },
  {
   "cell_type": "markdown",
   "id": "233239b2-addc-4365-9999-449d0887cc0d",
   "metadata": {},
   "source": [
    "---\n",
    "#### Total Cases and Deaths by **Gender**"
   ]
  },
  {
   "cell_type": "code",
   "execution_count": 12,
   "id": "0d7043cf-08de-44fa-b783-e0a3c707f591",
   "metadata": {},
   "outputs": [
    {
     "name": "stdout",
     "output_type": "stream",
     "text": [
      " * mssql://CAMILO-PCI5\\SQLEXPRESS/CovidColombia?driver=SQL+Server\n",
      "Done.\n"
     ]
    },
    {
     "data": {
      "text/html": [
       "<table>\n",
       "    <tr>\n",
       "        <th>sexo</th>\n",
       "        <th>no. de casos</th>\n",
       "    </tr>\n",
       "    <tr>\n",
       "        <td>F</td>\n",
       "        <td>2391249</td>\n",
       "    </tr>\n",
       "    <tr>\n",
       "        <td>M</td>\n",
       "        <td>2174123</td>\n",
       "    </tr>\n",
       "</table>"
      ],
      "text/plain": [
       "[('F', 2391249), ('M', 2174123)]"
      ]
     },
     "execution_count": 12,
     "metadata": {},
     "output_type": "execute_result"
    }
   ],
   "source": [
    "%sql SELECT sexo, COUNT(*) AS 'no. de casos' FROM Casos GROUP BY sexo"
   ]
  },
  {
   "cell_type": "code",
   "execution_count": 11,
   "id": "534314dc-cada-4baa-b27b-0e393ea70133",
   "metadata": {},
   "outputs": [
    {
     "name": "stdout",
     "output_type": "stream",
     "text": [
      " * mssql://CAMILO-PCI5\\SQLEXPRESS/CovidColombia?driver=SQL+Server\n",
      "Done.\n"
     ]
    },
    {
     "data": {
      "text/html": [
       "<table>\n",
       "    <tr>\n",
       "        <th>sexo</th>\n",
       "        <th>no. de fallecidos</th>\n",
       "    </tr>\n",
       "    <tr>\n",
       "        <td>F</td>\n",
       "        <td>44211</td>\n",
       "    </tr>\n",
       "    <tr>\n",
       "        <td>M</td>\n",
       "        <td>70126</td>\n",
       "    </tr>\n",
       "</table>"
      ],
      "text/plain": [
       "[('F', 44211), ('M', 70126)]"
      ]
     },
     "execution_count": 11,
     "metadata": {},
     "output_type": "execute_result"
    }
   ],
   "source": [
    "%sql SELECT sexo, COUNT(*) AS 'no. de fallecidos' FROM Casos GROUP BY sexo, estado HAVING estado = 'Fallecido'"
   ]
  },
  {
   "cell_type": "markdown",
   "id": "3d150bea-421a-4ace-b14c-26adc67d054a",
   "metadata": {},
   "source": [
    "- *Calculating **Fatality Rate** of each geneder:*"
   ]
  },
  {
   "cell_type": "code",
   "execution_count": 47,
   "id": "838318fc-7791-4428-85c7-36ac84ab1d31",
   "metadata": {},
   "outputs": [
    {
     "data": {
      "text/html": [
       "<div>\n",
       "<style scoped>\n",
       "    .dataframe tbody tr th:only-of-type {\n",
       "        vertical-align: middle;\n",
       "    }\n",
       "\n",
       "    .dataframe tbody tr th {\n",
       "        vertical-align: top;\n",
       "    }\n",
       "\n",
       "    .dataframe thead th {\n",
       "        text-align: right;\n",
       "    }\n",
       "</style>\n",
       "<table border=\"1\" class=\"dataframe\">\n",
       "  <thead>\n",
       "    <tr style=\"text-align: right;\">\n",
       "      <th></th>\n",
       "      <th>sexo</th>\n",
       "      <th>casos</th>\n",
       "      <th>fallecidos</th>\n",
       "      <th>%_fallecidos</th>\n",
       "      <th>letalidad</th>\n",
       "    </tr>\n",
       "  </thead>\n",
       "  <tbody>\n",
       "    <tr>\n",
       "      <th>0</th>\n",
       "      <td>F</td>\n",
       "      <td>2391249</td>\n",
       "      <td>44211</td>\n",
       "      <td>38.67</td>\n",
       "      <td>1.85</td>\n",
       "    </tr>\n",
       "    <tr>\n",
       "      <th>1</th>\n",
       "      <td>M</td>\n",
       "      <td>2174123</td>\n",
       "      <td>70126</td>\n",
       "      <td>61.33</td>\n",
       "      <td>3.23</td>\n",
       "    </tr>\n",
       "  </tbody>\n",
       "</table>\n",
       "</div>"
      ],
      "text/plain": [
       "  sexo    casos  fallecidos  %_fallecidos  letalidad\n",
       "0    F  2391249       44211         38.67       1.85\n",
       "1    M  2174123       70126         61.33       3.23"
      ]
     },
     "execution_count": 47,
     "metadata": {},
     "output_type": "execute_result"
    }
   ],
   "source": [
    "#Creating a dataframe from previous results and calculating fatality rate (\"letalidad\") of each gender:\n",
    "df_r2 = pd.DataFrame({\n",
    "    'sexo':['F','M'],\n",
    "    'casos':[2391249, 2174123],\n",
    "    'fallecidos':[44211,70126]\n",
    "})\n",
    "df_r2['%_fallecidos'] = round((df_r2['fallecidos']/total_deaths)*100,2)\n",
    "df_r2['letalidad'] = round((df_r2['fallecidos']/df_r2['casos'])*100,2)\n",
    "df_r2"
   ]
  },
  {
   "cell_type": "code",
   "execution_count": 50,
   "id": "04eaa8a6-85f3-4d9d-9c1e-1fef4b0dcb50",
   "metadata": {},
   "outputs": [
    {
     "data": {
      "image/png": "[encoded data removed]",
      "text/plain": [
       "<Figure size 288x288 with 1 Axes>"
      ]
     },
     "metadata": {},
     "output_type": "display_data"
    }
   ],
   "source": [
    "#ploting proportion of deaths by gender\n",
    "plot2 = df_r2.plot.pie(y='fallecidos', figsize=(4,4))"
   ]
  },
  {
   "cell_type": "markdown",
   "id": "d886a05e-ba1e-42db-aad2-919c97ddada5",
   "metadata": {},
   "source": [
    "---\n",
    "#### Categorization of Cases by **Age Group**\n",
    "We need to categorize the cases by age group in order to calculate the fatality rate of each group. For this we created a view called `Casos_con_grupo_etario` from the main dataset `Casos`. It should be noted that the column `unidad_medida_edad` indicates whether the age of each patient is measured in years, months or days."
   ]
  },
  {
   "cell_type": "code",
   "execution_count": null,
   "id": "c7ca2502-77dd-4e22-9154-8055a5e1c564",
   "metadata": {
    "tags": []
   },
   "outputs": [],
   "source": [
    "%%sql\n",
    "--CREATE VIEW Casos_con_grupo_etario AS\n",
    "SELECT fecha_reporte_web, id_caso, edad, unidad_medida_edad, sexo, estado, fecha_muerte,\n",
    "CASE\n",
    " WHEN unidad_medida_edad = 1 THEN\n",
    "   CASE\n",
    "     WHEN edad <= 4 THEN '0 - 04'\n",
    "     WHEN edad <= 9 THEN '05 - 09'\n",
    "     WHEN edad <= 19 THEN '10 - 19'\n",
    "     WHEN edad <= 29 THEN '20 - 29'\n",
    "     WHEN edad <= 39 THEN '30 - 39'\n",
    "     WHEN edad <= 49 THEN '40 - 49'\n",
    "     WHEN edad <= 59 THEN '50 - 59'\n",
    "     WHEN edad <= 69 THEN '60 - 69'\n",
    "     WHEN edad <= 79 THEN '70 - 79'\n",
    "     ELSE '80 o más'\n",
    "   END\n",
    " ELSE '0 - 04'\n",
    "END AS grupo_etario\n",
    "FROM Casos;"
   ]
  },
  {
   "cell_type": "code",
   "execution_count": 11,
   "id": "3c62df25-a4ef-4e51-9aa7-98e6db5a3333",
   "metadata": {},
   "outputs": [
    {
     "name": "stdout",
     "output_type": "stream",
     "text": [
      " * mssql://CAMILO-PCI5\\SQLEXPRESS/CovidColombia?driver=SQL+Server\n",
      "Done.\n"
     ]
    },
    {
     "data": {
      "text/html": [
       "<table>\n",
       "    <tr>\n",
       "        <th>fecha_reporte_web</th>\n",
       "        <th>id_caso</th>\n",
       "        <th>edad</th>\n",
       "        <th>unidad_medida_edad</th>\n",
       "        <th>sexo</th>\n",
       "        <th>estado</th>\n",
       "        <th>fecha_muerte</th>\n",
       "        <th>grupo_etario</th>\n",
       "    </tr>\n",
       "    <tr>\n",
       "        <td>2020-03-06</td>\n",
       "        <td>1</td>\n",
       "        <td>19</td>\n",
       "        <td>1</td>\n",
       "        <td>F</td>\n",
       "        <td>Recuperado</td>\n",
       "        <td>None</td>\n",
       "        <td>10 - 19</td>\n",
       "    </tr>\n",
       "    <tr>\n",
       "        <td>2020-03-09</td>\n",
       "        <td>2</td>\n",
       "        <td>34</td>\n",
       "        <td>1</td>\n",
       "        <td>M</td>\n",
       "        <td>Recuperado</td>\n",
       "        <td>None</td>\n",
       "        <td>30 - 39</td>\n",
       "    </tr>\n",
       "    <tr>\n",
       "        <td>2020-03-09</td>\n",
       "        <td>3</td>\n",
       "        <td>50</td>\n",
       "        <td>1</td>\n",
       "        <td>F</td>\n",
       "        <td>Recuperado</td>\n",
       "        <td>None</td>\n",
       "        <td>50 - 59</td>\n",
       "    </tr>\n",
       "    <tr>\n",
       "        <td>2020-03-11</td>\n",
       "        <td>4</td>\n",
       "        <td>55</td>\n",
       "        <td>1</td>\n",
       "        <td>M</td>\n",
       "        <td>Recuperado</td>\n",
       "        <td>None</td>\n",
       "        <td>50 - 59</td>\n",
       "    </tr>\n",
       "    <tr>\n",
       "        <td>2020-03-11</td>\n",
       "        <td>5</td>\n",
       "        <td>25</td>\n",
       "        <td>1</td>\n",
       "        <td>M</td>\n",
       "        <td>Recuperado</td>\n",
       "        <td>None</td>\n",
       "        <td>20 - 29</td>\n",
       "    </tr>\n",
       "</table>"
      ],
      "text/plain": [
       "[('2020-03-06', 1, 19, 1, 'F', 'Recuperado', None, '10 - 19'),\n",
       " ('2020-03-09', 2, 34, 1, 'M', 'Recuperado', None, '30 - 39'),\n",
       " ('2020-03-09', 3, 50, 1, 'F', 'Recuperado', None, '50 - 59'),\n",
       " ('2020-03-11', 4, 55, 1, 'M', 'Recuperado', None, '50 - 59'),\n",
       " ('2020-03-11', 5, 25, 1, 'M', 'Recuperado', None, '20 - 29')]"
      ]
     },
     "execution_count": 11,
     "metadata": {},
     "output_type": "execute_result"
    }
   ],
   "source": [
    "#Checking the VIEW: Casos_con_grupo_etario\n",
    "%sql SELECT TOP 5 * FROM Casos_con_grupo_etario ORDER BY fecha_reporte_web"
   ]
  },
  {
   "cell_type": "markdown",
   "id": "f0b55d78-7606-4565-bb9f-bba6816bd7ee",
   "metadata": {},
   "source": [
    "---\n",
    "#### Grouping Cases and Deaths by **Age group** and **Gender**\n",
    "First we group cases and deaths by Age Group and Gender in different queries. Then we **JOIN** the results of both **CTEs** tables into a single one and then create a new view from it, getting the number of **Cases and Deaths** by **Age Group** and **Gender** in the same table:"
   ]
  },
  {
   "cell_type": "code",
   "execution_count": null,
   "id": "e0d21eb5-35af-4ddc-a220-9b59259a1aa7",
   "metadata": {
    "tags": []
   },
   "outputs": [],
   "source": [
    "%%sql\n",
    "--CREATE VIEW agrupacion_por_grupoetario_y_sexo AS\n",
    "WITH CTE1_muertes (grupo_etario, sexo, fallecidos) AS (\n",
    "        SELECT grupo_etario, sexo, COUNT(grupo_etario) AS fallecidos\n",
    "        FROM Casos_con_grupo_etario\n",
    "        GROUP BY grupo_etario, sexo, estado\n",
    "        HAVING estado = 'Fallecido'\n",
    "        ),\n",
    "    CTE2_casos (grupo_etario, sexo, casos) AS (\n",
    "        SELECT grupo_etario, sexo, COUNT(grupo_etario) AS casos\n",
    "        FROM Casos_con_grupo_etario\n",
    "        GROUP BY grupo_etario, sexo\n",
    "        )\n",
    "SELECT m.grupo_etario, m.sexo, fallecidos, casos\n",
    "FROM CTE1_muertes m\n",
    "JOIN CTE2_casos c ON m.grupo_etario = c.grupo_etario AND m.sexo = c.sexo\n",
    "ORDER BY m.grupo_etario"
   ]
  },
  {
   "cell_type": "code",
   "execution_count": 25,
   "id": "1d98d0fa-ce3b-452c-b64a-e3891d51fc7e",
   "metadata": {},
   "outputs": [
    {
     "name": "stdout",
     "output_type": "stream",
     "text": [
      " * mssql://CAMILO-PCI5\\SQLEXPRESS/CovidColombia?driver=SQL+Server\n",
      "Done.\n"
     ]
    },
    {
     "data": {
      "text/html": [
       "<table>\n",
       "    <tr>\n",
       "        <th>grupo_etario</th>\n",
       "        <th>sexo</th>\n",
       "        <th>fallecidos</th>\n",
       "        <th>casos</th>\n",
       "    </tr>\n",
       "    <tr>\n",
       "        <td>0 - 04</td>\n",
       "        <td>M</td>\n",
       "        <td>53</td>\n",
       "        <td>36191</td>\n",
       "    </tr>\n",
       "    <tr>\n",
       "        <td>0 - 04</td>\n",
       "        <td>F</td>\n",
       "        <td>43</td>\n",
       "        <td>33363</td>\n",
       "    </tr>\n",
       "    <tr>\n",
       "        <td>05 - 09</td>\n",
       "        <td>M</td>\n",
       "        <td>18</td>\n",
       "        <td>42022</td>\n",
       "    </tr>\n",
       "    <tr>\n",
       "        <td>05 - 09</td>\n",
       "        <td>F</td>\n",
       "        <td>11</td>\n",
       "        <td>41018</td>\n",
       "    </tr>\n",
       "    <tr>\n",
       "        <td>10 - 19</td>\n",
       "        <td>F</td>\n",
       "        <td>64</td>\n",
       "        <td>172715</td>\n",
       "    </tr>\n",
       "    <tr>\n",
       "        <td>10 - 19</td>\n",
       "        <td>M</td>\n",
       "        <td>78</td>\n",
       "        <td>162308</td>\n",
       "    </tr>\n",
       "</table>"
      ],
      "text/plain": [
       "[('0 - 04', 'M', 53, 36191),\n",
       " ('0 - 04', 'F', 43, 33363),\n",
       " ('05 - 09', 'M', 18, 42022),\n",
       " ('05 - 09', 'F', 11, 41018),\n",
       " ('10 - 19', 'F', 64, 172715),\n",
       " ('10 - 19', 'M', 78, 162308)]"
      ]
     },
     "execution_count": 25,
     "metadata": {},
     "output_type": "execute_result"
    }
   ],
   "source": [
    "#Checking VIEW: agrupacion_por_grupoetario_y_sexo\n",
    "%sql SELECT TOP 6 * FROM agrupacion_por_grupoetario_y_sexo ORDER BY grupo_etario"
   ]
  },
  {
   "cell_type": "markdown",
   "id": "18cf1439-fc85-4fdd-af7c-e009722da17f",
   "metadata": {},
   "source": [
    "- *Calculating **Fatality Rate** by Age Group and Gender:*"
   ]
  },
  {
   "cell_type": "code",
   "execution_count": 16,
   "id": "16770591-8f98-4bcb-9e04-29ed9ab507c7",
   "metadata": {
    "tags": []
   },
   "outputs": [
    {
     "name": "stdout",
     "output_type": "stream",
     "text": [
      " * mssql://CAMILO-PCI5\\SQLEXPRESS/CovidColombia?driver=SQL+Server\n",
      "Done.\n"
     ]
    },
    {
     "data": {
      "text/html": [
       "<table>\n",
       "    <tr>\n",
       "        <th>grupo_etario</th>\n",
       "        <th>sexo</th>\n",
       "        <th>fallecidos</th>\n",
       "        <th>casos</th>\n",
       "        <th>letalidad</th>\n",
       "    </tr>\n",
       "    <tr>\n",
       "        <td>0 - 04</td>\n",
       "        <td>M</td>\n",
       "        <td>53</td>\n",
       "        <td>36191</td>\n",
       "        <td>0.15</td>\n",
       "    </tr>\n",
       "    <tr>\n",
       "        <td>0 - 04</td>\n",
       "        <td>F</td>\n",
       "        <td>43</td>\n",
       "        <td>33363</td>\n",
       "        <td>0.13</td>\n",
       "    </tr>\n",
       "    <tr>\n",
       "        <td>05 - 09</td>\n",
       "        <td>M</td>\n",
       "        <td>18</td>\n",
       "        <td>42022</td>\n",
       "        <td>0.04</td>\n",
       "    </tr>\n",
       "    <tr>\n",
       "        <td>05 - 09</td>\n",
       "        <td>F</td>\n",
       "        <td>11</td>\n",
       "        <td>41018</td>\n",
       "        <td>0.03</td>\n",
       "    </tr>\n",
       "    <tr>\n",
       "        <td>10 - 19</td>\n",
       "        <td>F</td>\n",
       "        <td>64</td>\n",
       "        <td>172715</td>\n",
       "        <td>0.04</td>\n",
       "    </tr>\n",
       "    <tr>\n",
       "        <td>10 - 19</td>\n",
       "        <td>M</td>\n",
       "        <td>78</td>\n",
       "        <td>162308</td>\n",
       "        <td>0.05</td>\n",
       "    </tr>\n",
       "    <tr>\n",
       "        <td>20 - 29</td>\n",
       "        <td>F</td>\n",
       "        <td>533</td>\n",
       "        <td>517230</td>\n",
       "        <td>0.1</td>\n",
       "    </tr>\n",
       "    <tr>\n",
       "        <td>20 - 29</td>\n",
       "        <td>M</td>\n",
       "        <td>743</td>\n",
       "        <td>451502</td>\n",
       "        <td>0.16</td>\n",
       "    </tr>\n",
       "    <tr>\n",
       "        <td>30 - 39</td>\n",
       "        <td>F</td>\n",
       "        <td>1216</td>\n",
       "        <td>527228</td>\n",
       "        <td>0.23</td>\n",
       "    </tr>\n",
       "    <tr>\n",
       "        <td>30 - 39</td>\n",
       "        <td>M</td>\n",
       "        <td>2525</td>\n",
       "        <td>497208</td>\n",
       "        <td>0.51</td>\n",
       "    </tr>\n",
       "    <tr>\n",
       "        <td>40 - 49</td>\n",
       "        <td>M</td>\n",
       "        <td>5782</td>\n",
       "        <td>370405</td>\n",
       "        <td>1.56</td>\n",
       "    </tr>\n",
       "    <tr>\n",
       "        <td>40 - 49</td>\n",
       "        <td>F</td>\n",
       "        <td>2693</td>\n",
       "        <td>404965</td>\n",
       "        <td>0.66</td>\n",
       "    </tr>\n",
       "    <tr>\n",
       "        <td>50 - 59</td>\n",
       "        <td>M</td>\n",
       "        <td>11278</td>\n",
       "        <td>298413</td>\n",
       "        <td>3.78</td>\n",
       "    </tr>\n",
       "    <tr>\n",
       "        <td>50 - 59</td>\n",
       "        <td>F</td>\n",
       "        <td>6194</td>\n",
       "        <td>343072</td>\n",
       "        <td>1.81</td>\n",
       "    </tr>\n",
       "    <tr>\n",
       "        <td>60 - 69</td>\n",
       "        <td>M</td>\n",
       "        <td>16890</td>\n",
       "        <td>179597</td>\n",
       "        <td>9.4</td>\n",
       "    </tr>\n",
       "    <tr>\n",
       "        <td>60 - 69</td>\n",
       "        <td>F</td>\n",
       "        <td>10532</td>\n",
       "        <td>201555</td>\n",
       "        <td>5.23</td>\n",
       "    </tr>\n",
       "    <tr>\n",
       "        <td>70 - 79</td>\n",
       "        <td>M</td>\n",
       "        <td>17343</td>\n",
       "        <td>89421</td>\n",
       "        <td>19.39</td>\n",
       "    </tr>\n",
       "    <tr>\n",
       "        <td>70 - 79</td>\n",
       "        <td>F</td>\n",
       "        <td>11012</td>\n",
       "        <td>94811</td>\n",
       "        <td>11.61</td>\n",
       "    </tr>\n",
       "    <tr>\n",
       "        <td>80 o más</td>\n",
       "        <td>M</td>\n",
       "        <td>15416</td>\n",
       "        <td>47056</td>\n",
       "        <td>32.76</td>\n",
       "    </tr>\n",
       "    <tr>\n",
       "        <td>80 o más</td>\n",
       "        <td>F</td>\n",
       "        <td>11913</td>\n",
       "        <td>55292</td>\n",
       "        <td>21.55</td>\n",
       "    </tr>\n",
       "</table>"
      ],
      "text/plain": [
       "[('0 - 04', 'M', 53, 36191, 0.15),\n",
       " ('0 - 04', 'F', 43, 33363, 0.13),\n",
       " ('05 - 09', 'M', 18, 42022, 0.04),\n",
       " ('05 - 09', 'F', 11, 41018, 0.03),\n",
       " ('10 - 19', 'F', 64, 172715, 0.04),\n",
       " ('10 - 19', 'M', 78, 162308, 0.05),\n",
       " ('20 - 29', 'F', 533, 517230, 0.1),\n",
       " ('20 - 29', 'M', 743, 451502, 0.16),\n",
       " ('30 - 39', 'F', 1216, 527228, 0.23),\n",
       " ('30 - 39', 'M', 2525, 497208, 0.51),\n",
       " ('40 - 49', 'M', 5782, 370405, 1.56),\n",
       " ('40 - 49', 'F', 2693, 404965, 0.66),\n",
       " ('50 - 59', 'M', 11278, 298413, 3.78),\n",
       " ('50 - 59', 'F', 6194, 343072, 1.81),\n",
       " ('60 - 69', 'M', 16890, 179597, 9.4),\n",
       " ('60 - 69', 'F', 10532, 201555, 5.23),\n",
       " ('70 - 79', 'M', 17343, 89421, 19.39),\n",
       " ('70 - 79', 'F', 11012, 94811, 11.61),\n",
       " ('80 o más', 'M', 15416, 47056, 32.76),\n",
       " ('80 o más', 'F', 11913, 55292, 21.55)]"
      ]
     },
     "execution_count": 16,
     "metadata": {},
     "output_type": "execute_result"
    }
   ],
   "source": [
    "%%sql\n",
    "SELECT *, ROUND((CONVERT(FLOAT, fallecidos)/CONVERT(FLOAT, casos))*100,2) AS letalidad\n",
    "FROM agrupacion_por_grupoetario_y_sexo\n",
    "ORDER BY grupo_etario;"
   ]
  },
  {
   "cell_type": "markdown",
   "id": "8f8c0b06-8613-4439-a6aa-0a653b65a0a8",
   "metadata": {},
   "source": [
    "- *What is the segment of the population (age group and gender) with the **highest fatality rate**?*"
   ]
  },
  {
   "cell_type": "code",
   "execution_count": 17,
   "id": "6ac1251b-2a30-43d4-a120-10ede80fd49d",
   "metadata": {
    "tags": []
   },
   "outputs": [
    {
     "name": "stdout",
     "output_type": "stream",
     "text": [
      " * mssql://CAMILO-PCI5\\SQLEXPRESS/CovidColombia?driver=SQL+Server\n",
      "Done.\n"
     ]
    },
    {
     "data": {
      "text/html": [
       "<table>\n",
       "    <tr>\n",
       "        <th>grupo_etario</th>\n",
       "        <th>sexo</th>\n",
       "        <th>fallecidos</th>\n",
       "        <th>casos</th>\n",
       "        <th>letalidad</th>\n",
       "    </tr>\n",
       "    <tr>\n",
       "        <td>80 o más</td>\n",
       "        <td>M</td>\n",
       "        <td>15416</td>\n",
       "        <td>47056</td>\n",
       "        <td>32.76</td>\n",
       "    </tr>\n",
       "</table>"
      ],
      "text/plain": [
       "[('80 o más', 'M', 15416, 47056, 32.76)]"
      ]
     },
     "execution_count": 17,
     "metadata": {},
     "output_type": "execute_result"
    }
   ],
   "source": [
    "%%sql\n",
    "WITH CTE1_letalidad (grupo_etario, sexo, fallecidos, casos, letalidad) AS (\n",
    "    SELECT *, ROUND((CONVERT(FLOAT, fallecidos)/CONVERT(FLOAT, casos))*100,2) AS letalidad\n",
    "    FROM agrupacion_por_grupoetario_y_sexo\n",
    "    )\n",
    "SELECT * \n",
    "FROM CTE1_letalidad\n",
    "WHERE letalidad = (SELECT MAX(letalidad) FROM CTE1_letalidad)"
   ]
  },
  {
   "cell_type": "markdown",
   "id": "9b7862ef-5f23-4877-bc8d-6c079c921d1b",
   "metadata": {},
   "source": [
    "---\n",
    "#### Fatality Rate by **Age Group**\n",
    "- *Calculating **Fatality Rate** just by Age Group:*"
   ]
  },
  {
   "cell_type": "code",
   "execution_count": null,
   "id": "b44a1668-2194-4072-b7cb-9a40b228680d",
   "metadata": {
    "tags": []
   },
   "outputs": [],
   "source": [
    "%%sql\n",
    "--CREATE VIEW letalidad_por_grupoetario AS\n",
    "SELECT grupo_etario, SUM(fallecidos) AS fallecidos, SUM(casos) AS casos, ROUND((CONVERT(FLOAT, SUM(fallecidos))/CONVERT(FLOAT,SUM(casos)))*100,2) AS letalidad\n",
    "FROM agrupacion_por_grupoetario_y_sexo\n",
    "GROUP BY grupo_etario;"
   ]
  },
  {
   "cell_type": "code",
   "execution_count": 3,
   "id": "f2eae189-2e48-40d6-a48f-be6fb4ee927e",
   "metadata": {},
   "outputs": [
    {
     "name": "stdout",
     "output_type": "stream",
     "text": [
      " * mssql://CAMILO-PCI5\\SQLEXPRESS/CovidColombia?driver=SQL+Server\n",
      "Done.\n"
     ]
    },
    {
     "data": {
      "text/html": [
       "<div>\n",
       "<style scoped>\n",
       "    .dataframe tbody tr th:only-of-type {\n",
       "        vertical-align: middle;\n",
       "    }\n",
       "\n",
       "    .dataframe tbody tr th {\n",
       "        vertical-align: top;\n",
       "    }\n",
       "\n",
       "    .dataframe thead th {\n",
       "        text-align: right;\n",
       "    }\n",
       "</style>\n",
       "<table border=\"1\" class=\"dataframe\">\n",
       "  <thead>\n",
       "    <tr style=\"text-align: right;\">\n",
       "      <th></th>\n",
       "      <th>grupo_etario</th>\n",
       "      <th>fallecidos</th>\n",
       "      <th>casos</th>\n",
       "      <th>letalidad</th>\n",
       "    </tr>\n",
       "  </thead>\n",
       "  <tbody>\n",
       "    <tr>\n",
       "      <th>0</th>\n",
       "      <td>0 - 04</td>\n",
       "      <td>96</td>\n",
       "      <td>69554</td>\n",
       "      <td>0.14</td>\n",
       "    </tr>\n",
       "    <tr>\n",
       "      <th>1</th>\n",
       "      <td>05 - 09</td>\n",
       "      <td>29</td>\n",
       "      <td>83040</td>\n",
       "      <td>0.03</td>\n",
       "    </tr>\n",
       "    <tr>\n",
       "      <th>2</th>\n",
       "      <td>10 - 19</td>\n",
       "      <td>142</td>\n",
       "      <td>335023</td>\n",
       "      <td>0.04</td>\n",
       "    </tr>\n",
       "    <tr>\n",
       "      <th>3</th>\n",
       "      <td>20 - 29</td>\n",
       "      <td>1276</td>\n",
       "      <td>968732</td>\n",
       "      <td>0.13</td>\n",
       "    </tr>\n",
       "    <tr>\n",
       "      <th>4</th>\n",
       "      <td>30 - 39</td>\n",
       "      <td>3741</td>\n",
       "      <td>1024436</td>\n",
       "      <td>0.37</td>\n",
       "    </tr>\n",
       "    <tr>\n",
       "      <th>5</th>\n",
       "      <td>40 - 49</td>\n",
       "      <td>8475</td>\n",
       "      <td>775370</td>\n",
       "      <td>1.09</td>\n",
       "    </tr>\n",
       "    <tr>\n",
       "      <th>6</th>\n",
       "      <td>50 - 59</td>\n",
       "      <td>17472</td>\n",
       "      <td>641485</td>\n",
       "      <td>2.72</td>\n",
       "    </tr>\n",
       "    <tr>\n",
       "      <th>7</th>\n",
       "      <td>60 - 69</td>\n",
       "      <td>27422</td>\n",
       "      <td>381152</td>\n",
       "      <td>7.19</td>\n",
       "    </tr>\n",
       "    <tr>\n",
       "      <th>8</th>\n",
       "      <td>70 - 79</td>\n",
       "      <td>28355</td>\n",
       "      <td>184232</td>\n",
       "      <td>15.39</td>\n",
       "    </tr>\n",
       "    <tr>\n",
       "      <th>9</th>\n",
       "      <td>80 o más</td>\n",
       "      <td>27329</td>\n",
       "      <td>102348</td>\n",
       "      <td>26.70</td>\n",
       "    </tr>\n",
       "  </tbody>\n",
       "</table>\n",
       "</div>"
      ],
      "text/plain": [
       "  grupo_etario  fallecidos    casos  letalidad\n",
       "0       0 - 04          96    69554       0.14\n",
       "1      05 - 09          29    83040       0.03\n",
       "2      10 - 19         142   335023       0.04\n",
       "3      20 - 29        1276   968732       0.13\n",
       "4      30 - 39        3741  1024436       0.37\n",
       "5      40 - 49        8475   775370       1.09\n",
       "6      50 - 59       17472   641485       2.72\n",
       "7      60 - 69       27422   381152       7.19\n",
       "8      70 - 79       28355   184232      15.39\n",
       "9     80 o más       27329   102348      26.70"
      ]
     },
     "execution_count": 3,
     "metadata": {},
     "output_type": "execute_result"
    }
   ],
   "source": [
    "#Cheking view:\n",
    "r3 = %sql SELECT * FROM letalidad_por_grupoetario ORDER BY grupo_etario\n",
    "df_r3 = r3.DataFrame()\n",
    "df_r3"
   ]
  },
  {
   "cell_type": "code",
   "execution_count": 4,
   "id": "9e31540e-0249-4ca6-af26-e72e9c96c08d",
   "metadata": {},
   "outputs": [
    {
     "data": {
      "image/png": "[encoded data removed]",
      "text/plain": [
       "<Figure size 360x288 with 1 Axes>"
      ]
     },
     "metadata": {
      "needs_background": "light"
     },
     "output_type": "display_data"
    }
   ],
   "source": [
    "#cases by age group\n",
    "plot3 = df_r3.plot.bar(x='grupo_etario', y='casos', figsize=(5,4))"
   ]
  },
  {
   "cell_type": "code",
   "execution_count": 5,
   "id": "04ea0f64-ccc7-4a16-87fb-ac291653c7e3",
   "metadata": {},
   "outputs": [
    {
     "data": {
      "image/png": "[encoded data removed]",
      "text/plain": [
       "<Figure size 360x288 with 1 Axes>"
      ]
     },
     "metadata": {
      "needs_background": "light"
     },
     "output_type": "display_data"
    }
   ],
   "source": [
    "#deaths by age group\n",
    "plot3_1 = df_r3.plot.bar(x='grupo_etario', y='fallecidos', figsize=(5,4), color = 'red')"
   ]
  },
  {
   "cell_type": "markdown",
   "id": "d5014d0b-9c73-4ac2-9e7b-21d191d1aa82",
   "metadata": {},
   "source": [
    "- *What is the age group with the **highest fatality rate**?*"
   ]
  },
  {
   "cell_type": "code",
   "execution_count": 23,
   "id": "997eb0ab-45ee-43e2-8636-837556afbfb0",
   "metadata": {},
   "outputs": [
    {
     "name": "stdout",
     "output_type": "stream",
     "text": [
      " * mssql://CAMILO-PCI5\\SQLEXPRESS/CovidColombia?driver=SQL+Server\n",
      "Done.\n"
     ]
    },
    {
     "data": {
      "text/html": [
       "<table>\n",
       "    <tr>\n",
       "        <th>grupo_etario</th>\n",
       "        <th>fallecidos</th>\n",
       "        <th>casos</th>\n",
       "        <th>letalidad</th>\n",
       "    </tr>\n",
       "    <tr>\n",
       "        <td>80 o más</td>\n",
       "        <td>27329</td>\n",
       "        <td>102348</td>\n",
       "        <td>26.7</td>\n",
       "    </tr>\n",
       "</table>"
      ],
      "text/plain": [
       "[('80 o más', 27329, 102348, 26.7)]"
      ]
     },
     "execution_count": 23,
     "metadata": {},
     "output_type": "execute_result"
    }
   ],
   "source": [
    "%sql SELECT * FROM letalidad_por_grupoetario WHERE letalidad = (SELECT MAX(letalidad) FROM letalidad_por_grupoetario)"
   ]
  },
  {
   "cell_type": "markdown",
   "id": "6349e2dc-7b5e-4e06-8ffd-1cb598e8826c",
   "metadata": {},
   "source": [
    "- *What is the age group with the **lowest fatality rate**?*"
   ]
  },
  {
   "cell_type": "code",
   "execution_count": 22,
   "id": "7218bd50-8633-4eeb-81ef-b300e9baa08e",
   "metadata": {},
   "outputs": [
    {
     "name": "stdout",
     "output_type": "stream",
     "text": [
      " * mssql://CAMILO-PCI5\\SQLEXPRESS/CovidColombia?driver=SQL+Server\n",
      "Done.\n"
     ]
    },
    {
     "data": {
      "text/html": [
       "<table>\n",
       "    <tr>\n",
       "        <th>grupo_etario</th>\n",
       "        <th>fallecidos</th>\n",
       "        <th>casos</th>\n",
       "        <th>letalidad</th>\n",
       "    </tr>\n",
       "    <tr>\n",
       "        <td>05 - 09</td>\n",
       "        <td>29</td>\n",
       "        <td>83040</td>\n",
       "        <td>0.03</td>\n",
       "    </tr>\n",
       "</table>"
      ],
      "text/plain": [
       "[('05 - 09', 29, 83040, 0.03)]"
      ]
     },
     "execution_count": 22,
     "metadata": {},
     "output_type": "execute_result"
    }
   ],
   "source": [
    "%sql SELECT * FROM letalidad_por_grupoetario WHERE letalidad = (SELECT MIN(letalidad) FROM letalidad_por_grupoetario);"
   ]
  },
  {
   "cell_type": "markdown",
   "id": "c19510e6-673c-476b-a01e-e45aa07c667d",
   "metadata": {},
   "source": [
    "> **Remarks:**\n",
    ">- *Within each age group, the gender with the highest latility rate is the Male, having a greater risk of death if they contract the disease.*\n",
    ">- *The age groups with the highest latality rate are the more advance ones: `60 - 69`, `70 - 79` and `80 o más` with 7.2%, 15.4% and 26.7% respectively.*\n",
    ">- *The fatality rate of these groups is quite high compared with the general rate that is 2.50%.*\n",
    ">- *It is shown that we cannot use the general fatality rate as a comparable measure for all age groups.*"
   ]
  },
  {
   "cell_type": "markdown",
   "id": "f882939a-a626-4df6-93ba-f1b219f6fce3",
   "metadata": {},
   "source": [
    "---\n",
    "#### Effect of vaccines on Fatality Rate\n",
    "Next, we will study how the fatality rate of each age group has evolved from month to month since the start of the pandemic. We will focus primarily on comparing the behavior of this measure before and after the start of vaccination in February 2021. We will see if there is any positive effect by reducing mortality for each age group."
   ]
  },
  {
   "cell_type": "markdown",
   "id": "67717fb3-40e7-4967-b272-832524e0947a",
   "metadata": {},
   "source": [
    "- *Grouping Cases and Deaths by **Month** and **Age group**:*"
   ]
  },
  {
   "cell_type": "code",
   "execution_count": null,
   "id": "1efaa877-9e89-4e13-840f-660ab1296432",
   "metadata": {
    "tags": []
   },
   "outputs": [],
   "source": [
    "%%sql\n",
    "--CREATE VIEW agrupacion_por_mes_y_grupoetario AS\n",
    "WITH CTE3_casos (año, mes, grupo_etario, casos) AS (\n",
    "      SELECT YEAR(fecha_reporte_web) AS año, MONTH(fecha_reporte_web) AS mes, grupo_etario, COUNT(fecha_reporte_web) AS casos\n",
    "      FROM Casos_con_grupo_etario\n",
    "      GROUP BY YEAR(fecha_reporte_web), MONTH(fecha_reporte_web), grupo_etario\n",
    "      ),\n",
    "    CTE4_muertes (año, mes, grupo_etario, fallecidos) AS (\n",
    "      SELECT YEAR(fecha_muerte) AS año, MONTH(fecha_muerte) AS mes, grupo_etario, COUNT(fecha_muerte) AS fallecidos\n",
    "      FROM Casos_con_grupo_etario\n",
    "      GROUP BY YEAR(fecha_muerte), MONTH(fecha_muerte), grupo_etario, estado\n",
    "      HAVING estado = 'Fallecido'\n",
    "      )\n",
    "SELECT c.año, c.mes, c.grupo_etario, fallecidos, casos\n",
    "FROM CTE3_casos c\n",
    "LEFT JOIN CTE4_muertes m ON c.año = m.año AND c.mes = m.mes AND c.grupo_etario = m.grupo_etario"
   ]
  },
  {
   "cell_type": "code",
   "execution_count": 31,
   "id": "0abae7bb-3cb5-4485-ad5f-e2b5acc08716",
   "metadata": {
    "tags": []
   },
   "outputs": [
    {
     "name": "stdout",
     "output_type": "stream",
     "text": [
      " * mssql://CAMILO-PCI5\\SQLEXPRESS/CovidColombia?driver=SQL+Server\n",
      "Done.\n"
     ]
    },
    {
     "data": {
      "text/html": [
       "<table>\n",
       "    <tr>\n",
       "        <th>año</th>\n",
       "        <th>mes</th>\n",
       "        <th>grupo_etario</th>\n",
       "        <th>fallecidos</th>\n",
       "        <th>casos</th>\n",
       "    </tr>\n",
       "    <tr>\n",
       "        <td>2020</td>\n",
       "        <td>3</td>\n",
       "        <td>0 - 04</td>\n",
       "        <td>1</td>\n",
       "        <td>7</td>\n",
       "    </tr>\n",
       "    <tr>\n",
       "        <td>2020</td>\n",
       "        <td>3</td>\n",
       "        <td>05 - 09</td>\n",
       "        <td>None</td>\n",
       "        <td>7</td>\n",
       "    </tr>\n",
       "    <tr>\n",
       "        <td>2020</td>\n",
       "        <td>3</td>\n",
       "        <td>10 - 19</td>\n",
       "        <td>1</td>\n",
       "        <td>31</td>\n",
       "    </tr>\n",
       "    <tr>\n",
       "        <td>2020</td>\n",
       "        <td>3</td>\n",
       "        <td>20 - 29</td>\n",
       "        <td>2</td>\n",
       "        <td>195</td>\n",
       "    </tr>\n",
       "    <tr>\n",
       "        <td>2020</td>\n",
       "        <td>3</td>\n",
       "        <td>30 - 39</td>\n",
       "        <td>4</td>\n",
       "        <td>208</td>\n",
       "    </tr>\n",
       "</table>"
      ],
      "text/plain": [
       "[(2020, 3, '0 - 04', 1, 7),\n",
       " (2020, 3, '05 - 09', None, 7),\n",
       " (2020, 3, '10 - 19', 1, 31),\n",
       " (2020, 3, '20 - 29', 2, 195),\n",
       " (2020, 3, '30 - 39', 4, 208)]"
      ]
     },
     "execution_count": 31,
     "metadata": {},
     "output_type": "execute_result"
    }
   ],
   "source": [
    "#Checking view:\n",
    "%sql SELECT TOP 5 * FROM agrupacion_por_mes_y_grupoetario ORDER BY año, mes, grupo_etario;"
   ]
  },
  {
   "cell_type": "markdown",
   "id": "52a0a44f-1506-4b0f-b6ab-effe1c4bbb83",
   "metadata": {},
   "source": [
    "- *Calculating general Fatality Rate by **Month**:*"
   ]
  },
  {
   "cell_type": "code",
   "execution_count": 6,
   "id": "d929a03e-9552-4bb3-9a3c-c4988130d62b",
   "metadata": {},
   "outputs": [
    {
     "name": "stdout",
     "output_type": "stream",
     "text": [
      " * mssql://CAMILO-PCI5\\SQLEXPRESS/CovidColombia?driver=SQL+Server\n",
      "Done.\n",
      "Returning data to local variable r4\n"
     ]
    }
   ],
   "source": [
    "%%sql r4 <<\n",
    "SELECT CONCAT(año,'-', mes) AS año_mes, SUM(fallecidos) AS fallecidos, SUM(casos) AS casos, ROUND((CONVERT(FLOAT, SUM(fallecidos))/CONVERT(FLOAT,SUM(casos)))*100,2) AS letalidad\n",
    "FROM agrupacion_por_mes_y_grupoetario\n",
    "GROUP BY año, mes\n",
    "ORDER BY año, mes"
   ]
  },
  {
   "cell_type": "code",
   "execution_count": 15,
   "id": "1fc9bcf4-5c14-46dd-ae6b-88d599fc8562",
   "metadata": {},
   "outputs": [
    {
     "data": {
      "text/html": [
       "<div>\n",
       "<style scoped>\n",
       "    .dataframe tbody tr th:only-of-type {\n",
       "        vertical-align: middle;\n",
       "    }\n",
       "\n",
       "    .dataframe tbody tr th {\n",
       "        vertical-align: top;\n",
       "    }\n",
       "\n",
       "    .dataframe thead th {\n",
       "        text-align: right;\n",
       "    }\n",
       "</style>\n",
       "<table border=\"1\" class=\"dataframe\">\n",
       "  <thead>\n",
       "    <tr style=\"text-align: right;\">\n",
       "      <th></th>\n",
       "      <th>año_mes</th>\n",
       "      <th>fallecidos</th>\n",
       "      <th>casos</th>\n",
       "      <th>letalidad</th>\n",
       "    </tr>\n",
       "  </thead>\n",
       "  <tbody>\n",
       "    <tr>\n",
       "      <th>0</th>\n",
       "      <td>2020-3</td>\n",
       "      <td>32</td>\n",
       "      <td>905</td>\n",
       "      <td>3.54</td>\n",
       "    </tr>\n",
       "    <tr>\n",
       "      <th>1</th>\n",
       "      <td>2020-4</td>\n",
       "      <td>331</td>\n",
       "      <td>5560</td>\n",
       "      <td>5.95</td>\n",
       "    </tr>\n",
       "    <tr>\n",
       "      <th>2</th>\n",
       "      <td>2020-5</td>\n",
       "      <td>873</td>\n",
       "      <td>22917</td>\n",
       "      <td>3.81</td>\n",
       "    </tr>\n",
       "    <tr>\n",
       "      <th>3</th>\n",
       "      <td>2020-6</td>\n",
       "      <td>3119</td>\n",
       "      <td>68471</td>\n",
       "      <td>4.56</td>\n",
       "    </tr>\n",
       "    <tr>\n",
       "      <th>4</th>\n",
       "      <td>2020-7</td>\n",
       "      <td>7685</td>\n",
       "      <td>197663</td>\n",
       "      <td>3.89</td>\n",
       "    </tr>\n",
       "    <tr>\n",
       "      <th>5</th>\n",
       "      <td>2020-8</td>\n",
       "      <td>8971</td>\n",
       "      <td>319661</td>\n",
       "      <td>2.81</td>\n",
       "    </tr>\n",
       "    <tr>\n",
       "      <th>6</th>\n",
       "      <td>2020-9</td>\n",
       "      <td>5746</td>\n",
       "      <td>214510</td>\n",
       "      <td>2.68</td>\n",
       "    </tr>\n",
       "    <tr>\n",
       "      <th>7</th>\n",
       "      <td>2020-10</td>\n",
       "      <td>5344</td>\n",
       "      <td>244502</td>\n",
       "      <td>2.19</td>\n",
       "    </tr>\n",
       "    <tr>\n",
       "      <th>8</th>\n",
       "      <td>2020-11</td>\n",
       "      <td>5414</td>\n",
       "      <td>242662</td>\n",
       "      <td>2.23</td>\n",
       "    </tr>\n",
       "    <tr>\n",
       "      <th>9</th>\n",
       "      <td>2020-12</td>\n",
       "      <td>6793</td>\n",
       "      <td>325951</td>\n",
       "      <td>2.08</td>\n",
       "    </tr>\n",
       "    <tr>\n",
       "      <th>10</th>\n",
       "      <td>2021-1</td>\n",
       "      <td>10978</td>\n",
       "      <td>452095</td>\n",
       "      <td>2.43</td>\n",
       "    </tr>\n",
       "    <tr>\n",
       "      <th>11</th>\n",
       "      <td>2021-2</td>\n",
       "      <td>5160</td>\n",
       "      <td>156794</td>\n",
       "      <td>3.29</td>\n",
       "    </tr>\n",
       "    <tr>\n",
       "      <th>12</th>\n",
       "      <td>2021-3</td>\n",
       "      <td>3633</td>\n",
       "      <td>154685</td>\n",
       "      <td>2.35</td>\n",
       "    </tr>\n",
       "    <tr>\n",
       "      <th>13</th>\n",
       "      <td>2021-4</td>\n",
       "      <td>11162</td>\n",
       "      <td>453337</td>\n",
       "      <td>2.46</td>\n",
       "    </tr>\n",
       "    <tr>\n",
       "      <th>14</th>\n",
       "      <td>2021-5</td>\n",
       "      <td>15231</td>\n",
       "      <td>546742</td>\n",
       "      <td>2.79</td>\n",
       "    </tr>\n",
       "    <tr>\n",
       "      <th>15</th>\n",
       "      <td>2021-6</td>\n",
       "      <td>17525</td>\n",
       "      <td>834526</td>\n",
       "      <td>2.10</td>\n",
       "    </tr>\n",
       "    <tr>\n",
       "      <th>16</th>\n",
       "      <td>2021-7</td>\n",
       "      <td>6340</td>\n",
       "      <td>324391</td>\n",
       "      <td>1.95</td>\n",
       "    </tr>\n",
       "  </tbody>\n",
       "</table>\n",
       "</div>"
      ],
      "text/plain": [
       "    año_mes  fallecidos   casos  letalidad\n",
       "0    2020-3          32     905       3.54\n",
       "1    2020-4         331    5560       5.95\n",
       "2    2020-5         873   22917       3.81\n",
       "3    2020-6        3119   68471       4.56\n",
       "4    2020-7        7685  197663       3.89\n",
       "5    2020-8        8971  319661       2.81\n",
       "6    2020-9        5746  214510       2.68\n",
       "7   2020-10        5344  244502       2.19\n",
       "8   2020-11        5414  242662       2.23\n",
       "9   2020-12        6793  325951       2.08\n",
       "10   2021-1       10978  452095       2.43\n",
       "11   2021-2        5160  156794       3.29\n",
       "12   2021-3        3633  154685       2.35\n",
       "13   2021-4       11162  453337       2.46\n",
       "14   2021-5       15231  546742       2.79\n",
       "15   2021-6       17525  834526       2.10\n",
       "16   2021-7        6340  324391       1.95"
      ]
     },
     "execution_count": 15,
     "metadata": {},
     "output_type": "execute_result"
    }
   ],
   "source": [
    "df_r4 = r4.DataFrame()\n",
    "df_r4"
   ]
  },
  {
   "cell_type": "code",
   "execution_count": 14,
   "id": "7f9dd116-27d1-4b59-83f8-a052c0a66192",
   "metadata": {},
   "outputs": [
    {
     "data": {
      "text/plain": [
       "<function matplotlib.pyplot.show(close=None, block=None)>"
      ]
     },
     "execution_count": 14,
     "metadata": {},
     "output_type": "execute_result"
    },
    {
     "data": {
      "image/png": "[encoded data removed]",
      "text/plain": [
       "<Figure size 1080x360 with 1 Axes>"
      ]
     },
     "metadata": {
      "needs_background": "light"
     },
     "output_type": "display_data"
    }
   ],
   "source": [
    "plt.figure(figsize=(15,5))\n",
    "plot = sns.lineplot(x='año_mes', y='letalidad', data = df_r4)\n",
    "plt.show"
   ]
  },
  {
   "cell_type": "markdown",
   "id": "9b751431-fb50-4ea2-85e3-caec4cc2523b",
   "metadata": {},
   "source": [
    ">**Remarks:**\n",
    "> - *During the first months the general fatality rate remains is very high. It begins to stabilize at values between 2% and 3% from month 08-2020.*\n",
    "> - *After 3 months of vaccination, from month 05-2021, a downward trend in fatality is observed reaching 1.95% in 07-2021. It is the lowest value in the entire pandemic.*"
   ]
  },
  {
   "cell_type": "markdown",
   "id": "412b77e3-4303-4a1a-96fe-d61ba18d4e7a",
   "metadata": {},
   "source": [
    "- *Calculating Fatality Rate by **Month** and **Age Group**:*"
   ]
  },
  {
   "cell_type": "code",
   "execution_count": null,
   "id": "2427a494-9bdb-41c9-953b-d8ffec6f4aea",
   "metadata": {
    "tags": []
   },
   "outputs": [],
   "source": [
    "%%sql\n",
    "--CREATE VIEW letalidad_por_grupoetario_por_mes AS\n",
    "SELECT año, mes, CONCAT(año,'-', mes) AS año_mes, grupo_etario, fallecidos, casos, ROUND((CONVERT(FLOAT, fallecidos)/CONVERT(FLOAT,casos))*100,2) AS letalidad\n",
    "FROM agrupacion_por_mes_y_grupoetario\n",
    "ORDER BY año, mes, grupo_etario"
   ]
  },
  {
   "cell_type": "code",
   "execution_count": 34,
   "id": "537ef417-90e0-4389-aa53-c28f5d410dda",
   "metadata": {},
   "outputs": [
    {
     "name": "stdout",
     "output_type": "stream",
     "text": [
      " * mssql://CAMILO-PCI5\\SQLEXPRESS/CovidColombia?driver=SQL+Server\n",
      "Done.\n"
     ]
    },
    {
     "data": {
      "text/html": [
       "<div>\n",
       "<style scoped>\n",
       "    .dataframe tbody tr th:only-of-type {\n",
       "        vertical-align: middle;\n",
       "    }\n",
       "\n",
       "    .dataframe tbody tr th {\n",
       "        vertical-align: top;\n",
       "    }\n",
       "\n",
       "    .dataframe thead th {\n",
       "        text-align: right;\n",
       "    }\n",
       "</style>\n",
       "<table border=\"1\" class=\"dataframe\">\n",
       "  <thead>\n",
       "    <tr style=\"text-align: right;\">\n",
       "      <th></th>\n",
       "      <th>año_mes</th>\n",
       "      <th>grupo_etario</th>\n",
       "      <th>fallecidos</th>\n",
       "      <th>casos</th>\n",
       "      <th>letalidad</th>\n",
       "    </tr>\n",
       "  </thead>\n",
       "  <tbody>\n",
       "    <tr>\n",
       "      <th>0</th>\n",
       "      <td>2020-3</td>\n",
       "      <td>0 - 04</td>\n",
       "      <td>1.0</td>\n",
       "      <td>7</td>\n",
       "      <td>14.29</td>\n",
       "    </tr>\n",
       "    <tr>\n",
       "      <th>1</th>\n",
       "      <td>2020-3</td>\n",
       "      <td>05 - 09</td>\n",
       "      <td>NaN</td>\n",
       "      <td>7</td>\n",
       "      <td>NaN</td>\n",
       "    </tr>\n",
       "    <tr>\n",
       "      <th>2</th>\n",
       "      <td>2020-3</td>\n",
       "      <td>10 - 19</td>\n",
       "      <td>1.0</td>\n",
       "      <td>31</td>\n",
       "      <td>3.23</td>\n",
       "    </tr>\n",
       "    <tr>\n",
       "      <th>3</th>\n",
       "      <td>2020-3</td>\n",
       "      <td>20 - 29</td>\n",
       "      <td>2.0</td>\n",
       "      <td>195</td>\n",
       "      <td>1.03</td>\n",
       "    </tr>\n",
       "    <tr>\n",
       "      <th>4</th>\n",
       "      <td>2020-3</td>\n",
       "      <td>30 - 39</td>\n",
       "      <td>4.0</td>\n",
       "      <td>208</td>\n",
       "      <td>1.92</td>\n",
       "    </tr>\n",
       "    <tr>\n",
       "      <th>...</th>\n",
       "      <td>...</td>\n",
       "      <td>...</td>\n",
       "      <td>...</td>\n",
       "      <td>...</td>\n",
       "      <td>...</td>\n",
       "    </tr>\n",
       "    <tr>\n",
       "      <th>165</th>\n",
       "      <td>2021-7</td>\n",
       "      <td>40 - 49</td>\n",
       "      <td>848.0</td>\n",
       "      <td>61161</td>\n",
       "      <td>1.39</td>\n",
       "    </tr>\n",
       "    <tr>\n",
       "      <th>166</th>\n",
       "      <td>2021-7</td>\n",
       "      <td>50 - 59</td>\n",
       "      <td>1181.0</td>\n",
       "      <td>37676</td>\n",
       "      <td>3.13</td>\n",
       "    </tr>\n",
       "    <tr>\n",
       "      <th>167</th>\n",
       "      <td>2021-7</td>\n",
       "      <td>60 - 69</td>\n",
       "      <td>1381.0</td>\n",
       "      <td>21600</td>\n",
       "      <td>6.39</td>\n",
       "    </tr>\n",
       "    <tr>\n",
       "      <th>168</th>\n",
       "      <td>2021-7</td>\n",
       "      <td>70 - 79</td>\n",
       "      <td>1247.0</td>\n",
       "      <td>10757</td>\n",
       "      <td>11.59</td>\n",
       "    </tr>\n",
       "    <tr>\n",
       "      <th>169</th>\n",
       "      <td>2021-7</td>\n",
       "      <td>80 o más</td>\n",
       "      <td>1245.0</td>\n",
       "      <td>5740</td>\n",
       "      <td>21.69</td>\n",
       "    </tr>\n",
       "  </tbody>\n",
       "</table>\n",
       "<p>170 rows × 5 columns</p>\n",
       "</div>"
      ],
      "text/plain": [
       "    año_mes grupo_etario  fallecidos  casos  letalidad\n",
       "0    2020-3       0 - 04         1.0      7      14.29\n",
       "1    2020-3      05 - 09         NaN      7        NaN\n",
       "2    2020-3      10 - 19         1.0     31       3.23\n",
       "3    2020-3      20 - 29         2.0    195       1.03\n",
       "4    2020-3      30 - 39         4.0    208       1.92\n",
       "..      ...          ...         ...    ...        ...\n",
       "165  2021-7      40 - 49       848.0  61161       1.39\n",
       "166  2021-7      50 - 59      1181.0  37676       3.13\n",
       "167  2021-7      60 - 69      1381.0  21600       6.39\n",
       "168  2021-7      70 - 79      1247.0  10757      11.59\n",
       "169  2021-7     80 o más      1245.0   5740      21.69\n",
       "\n",
       "[170 rows x 5 columns]"
      ]
     },
     "execution_count": 34,
     "metadata": {},
     "output_type": "execute_result"
    }
   ],
   "source": [
    "#Cheking view and convertint it to dataframe:\n",
    "r5 = %sql SELECT * FROM letalidad_por_grupoetario_por_mes ORDER BY año, mes, grupo_etario\n",
    "df_5 = r5.DataFrame()\n",
    "df_5.iloc[:,2:]"
   ]
  },
  {
   "cell_type": "markdown",
   "id": "f309dd03-501e-44fc-a626-adee92be6355",
   "metadata": {},
   "source": [
    "- *Ploting Fatality Rate by **Month** and **Age Group**:*"
   ]
  },
  {
   "cell_type": "code",
   "execution_count": 18,
   "id": "2e135443-052a-4d2b-8a19-420227d778b3",
   "metadata": {},
   "outputs": [
    {
     "data": {
      "text/plain": [
       "<function matplotlib.pyplot.show(close=None, block=None)>"
      ]
     },
     "execution_count": 18,
     "metadata": {},
     "output_type": "execute_result"
    },
    {
     "data": {
      "image/png": "[encoded data removed]",
      "text/plain": [
       "<Figure size 1080x576 with 1 Axes>"
      ]
     },
     "metadata": {
      "needs_background": "light"
     },
     "output_type": "display_data"
    }
   ],
   "source": [
    "plt.figure(figsize=(15,8))\n",
    "plot = sns.lineplot(x='año_mes', y='letalidad', hue='grupo_etario', data=df_5)\n",
    "plt.show"
   ]
  },
  {
   "cell_type": "markdown",
   "id": "0a6f68ec-3073-4b4f-9d8f-569ea45e4f5d",
   "metadata": {},
   "source": [
    "- *Filtering **'80 o más'** age group:*"
   ]
  },
  {
   "cell_type": "code",
   "execution_count": 40,
   "id": "1593ebc2-d0a2-4bb6-bf2c-d62c070a2aa1",
   "metadata": {},
   "outputs": [
    {
     "name": "stdout",
     "output_type": "stream",
     "text": [
      " * mssql://CAMILO-PCI5\\SQLEXPRESS/CovidColombia?driver=SQL+Server\n",
      "Done.\n"
     ]
    },
    {
     "data": {
      "text/plain": [
       "<function matplotlib.pyplot.show(close=None, block=None)>"
      ]
     },
     "execution_count": 40,
     "metadata": {},
     "output_type": "execute_result"
    },
    {
     "data": {
      "image/png": "[encoded data removed]",
      "text/plain": [
       "<Figure size 1080x360 with 1 Axes>"
      ]
     },
     "metadata": {
      "needs_background": "light"
     },
     "output_type": "display_data"
    }
   ],
   "source": [
    "resultado3 = %sql SELECT * FROM letalidad_por_grupoetario_por_mes WHERE grupo_etario = '80 o más' ORDER BY año, mes, grupo_etario\n",
    "df_letalidad_ge = resultado.DataFrame()\n",
    "plt.figure(figsize=(15,5))\n",
    "plot = sns.lineplot(x='año_mes', y='letalidad', data = df_letalidad_ge)\n",
    "plt.show"
   ]
  },
  {
   "cell_type": "markdown",
   "id": "d1dc911b-f98f-4b35-ade1-c06115901b6f",
   "metadata": {},
   "source": [
    ">**Remarks:**\n",
    ">- *The fatality rate tends to be higher in older age groups. This behavior is maintained month by month throughout the pandemic, confirming that older people have been the hardest hit by the virus. Therefore, it is correct to conclude that the older a person is, the greater risk of dying if they contract the disease.*\n",
    ">- *According to the graphs, the people least affected by the pandemic are between 0 and 49 years old. In these age groups, fatality averages below 2%.*\n",
    ">- *For the more advanced age groups, from 50 years old onwards, the changes in fatality rate are much more sensitive to the number of cases in each month.*\n",
    ">- *During the first 3 months after the start of vaccination (02-2021), there does not seem to be a significant change that indicates a decrease in fatality rate, on the contrary, there are notable peaks and valleys in its behavior, given the sudden increase and decrease in the number of infections during those same months.*\n",
    ">- *A decrease in the fatality rate is notorious only from 05-2021, which is the 4th month after the start of vaccination. Naturally, this change is noticeable in the more advanced age groups since they were a priority in the country's vaccination scheme.*\n",
    ">- *The downward trend in the fatality rate is very pronounced in the \"70 -79\" and \"80 or more\" groups.*\n",
    ">- *Fatality rate in the group of \"80 or more\" decreased from an average of 26.21% in the last 10 months to 21.69% in 07-2021. Fatality rate in the group of \"70 - 79\" decreased from an average of 15.51% in the last 10 months to 11.59% in 07-2021.*\n",
    ">- *In other words, fatality rate has decreased by 17.24% for the group of \"80 or more\" and by 25.27% for the group of \"70 - 79\" after 6 months from the start of vaccination.*"
   ]
  },
  {
   "cell_type": "markdown",
   "id": "73a8166a-320d-4875-bc74-ba5d5d3ec3af",
   "metadata": {
    "tags": []
   },
   "source": [
    "---"
   ]
  }
 ],
 "metadata": {
  "kernelspec": {
   "display_name": "Python 3 (ipykernel)",
   "language": "python",
   "name": "python3"
  },
  "language_info": {
   "codemirror_mode": {
    "name": "ipython",
    "version": 3
   },
   "file_extension": ".py",
   "mimetype": "text/x-python",
   "name": "python",
   "nbconvert_exporter": "python",
   "pygments_lexer": "ipython3",
   "version": "3.9.5"
  }
 },
 "nbformat": 4,
 "nbformat_minor": 5
}

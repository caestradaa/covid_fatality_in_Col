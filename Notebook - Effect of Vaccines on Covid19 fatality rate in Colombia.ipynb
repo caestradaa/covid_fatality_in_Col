{
 "cells": [
  {
   "cell_type": "markdown",
   "id": "9f0b5e29-9227-4ef5-91be-6575dc7b45f6",
   "metadata": {
    "tags": []
   },
   "source": [
    "# Effect of Vaccines on Covid-19 fatality rate in Colombia"
   ]
  },
  {
   "cell_type": "markdown",
   "id": "189760e7-5f5a-45de-b03a-04660503c51c",
   "metadata": {},
   "source": [
    "#### Objective:\n",
    "Understand the effects that mass vaccination is having on the fatality rate of the Covid-19 virus in Colombia.\n",
    "The population is segmented by age groups and a comparison is made of the fatality rate of the virus in each one of them at the start of vaccination versus at the present time..\n",
    "\n",
    "#### Tools\n",
    "- Pandas, seaborn, matplotlib, ipython-sql (SQL Magic extention)"
   ]
  },
  {
   "cell_type": "markdown",
   "id": "6c485a91-497b-4ccc-8b77-2c32a40df005",
   "metadata": {},
   "source": [
    "---\n",
    "#### Importing packges and SQL Server database connection"
   ]
  },
  {
   "cell_type": "code",
   "execution_count": 1,
   "id": "ecc08b9f-2752-4937-a7b2-c79dbacb1554",
   "metadata": {},
   "outputs": [],
   "source": [
    "#importing packeges\n",
    "import pyodbc\n",
    "import pandas as pd\n",
    "import matplotlib.pyplot as plt\n",
    "import seaborn as sns\n",
    "import numpy as np"
   ]
  },
  {
   "cell_type": "code",
   "execution_count": 2,
   "id": "3a2db3c3-d2ea-417f-85e0-efc9dc7f0f0a",
   "metadata": {},
   "outputs": [],
   "source": [
    "#database connection: #mssql://Host_name/Database_name?driver=Driver_name\n",
    "%load_ext sql\n",
    "%sql mssql://CAMILO-PCI5\\SQLEXPRESS/CovidColombia?driver=SQL+Server"
   ]
  },
  {
   "cell_type": "code",
   "execution_count": 3,
   "id": "3661c64b-43e4-4cf2-a677-570ae2aa49d2",
   "metadata": {
    "tags": []
   },
   "outputs": [
    {
     "name": "stdout",
     "output_type": "stream",
     "text": [
      "{'mssql://CAMILO-PCI5\\\\SQLEXPRESS/CovidColombia?driver=SQL+Server': <sql.connection.Connection object at 0x000001EB4F307B50>}\n"
     ]
    }
   ],
   "source": [
    "#checking connection\n",
    "conn = %sql l / --connections\n",
    "print(conn)"
   ]
  },
  {
   "cell_type": "markdown",
   "id": "da2dab51-7973-4c7f-8056-f5c71d42ab87",
   "metadata": {},
   "source": [
    "---\n",
    "#### Testing connection by retreving columns info"
   ]
  },
  {
   "cell_type": "code",
   "execution_count": 4,
   "id": "7cbd2d64-ab92-4517-8320-2587655da11a",
   "metadata": {},
   "outputs": [
    {
     "name": "stdout",
     "output_type": "stream",
     "text": [
      " * mssql://CAMILO-PCI5\\SQLEXPRESS/CovidColombia?driver=SQL+Server\n",
      "Done.\n"
     ]
    },
    {
     "data": {
      "text/html": [
       "<table>\n",
       "    <tr>\n",
       "        <th>COLUMN_NAME</th>\n",
       "        <th>DATA_TYPE</th>\n",
       "    </tr>\n",
       "    <tr>\n",
       "        <td>fecha_reporte_web</td>\n",
       "        <td>date</td>\n",
       "    </tr>\n",
       "    <tr>\n",
       "        <td>id_caso</td>\n",
       "        <td>int</td>\n",
       "    </tr>\n",
       "    <tr>\n",
       "        <td>fecha_notificacion</td>\n",
       "        <td>date</td>\n",
       "    </tr>\n",
       "    <tr>\n",
       "        <td>codigo_divipola_dpto</td>\n",
       "        <td>int</td>\n",
       "    </tr>\n",
       "    <tr>\n",
       "        <td>nombre_dpto</td>\n",
       "        <td>varchar</td>\n",
       "    </tr>\n",
       "    <tr>\n",
       "        <td>codigo_divipola_municipio</td>\n",
       "        <td>int</td>\n",
       "    </tr>\n",
       "    <tr>\n",
       "        <td>nombre_municipio</td>\n",
       "        <td>varchar</td>\n",
       "    </tr>\n",
       "    <tr>\n",
       "        <td>edad</td>\n",
       "        <td>int</td>\n",
       "    </tr>\n",
       "    <tr>\n",
       "        <td>unidad_medida_edad</td>\n",
       "        <td>int</td>\n",
       "    </tr>\n",
       "    <tr>\n",
       "        <td>sexo</td>\n",
       "        <td>varchar</td>\n",
       "    </tr>\n",
       "    <tr>\n",
       "        <td>tipo_contagio</td>\n",
       "        <td>varchar</td>\n",
       "    </tr>\n",
       "    <tr>\n",
       "        <td>ubicacion_caso</td>\n",
       "        <td>varchar</td>\n",
       "    </tr>\n",
       "    <tr>\n",
       "        <td>severidad</td>\n",
       "        <td>varchar</td>\n",
       "    </tr>\n",
       "    <tr>\n",
       "        <td>codigo_iso_pais</td>\n",
       "        <td>int</td>\n",
       "    </tr>\n",
       "    <tr>\n",
       "        <td>nombre_pais</td>\n",
       "        <td>varchar</td>\n",
       "    </tr>\n",
       "    <tr>\n",
       "        <td>estado</td>\n",
       "        <td>varchar</td>\n",
       "    </tr>\n",
       "    <tr>\n",
       "        <td>fecha_inicio_sintomas</td>\n",
       "        <td>date</td>\n",
       "    </tr>\n",
       "    <tr>\n",
       "        <td>fecha_muerte</td>\n",
       "        <td>date</td>\n",
       "    </tr>\n",
       "    <tr>\n",
       "        <td>fecha_diagnostico</td>\n",
       "        <td>date</td>\n",
       "    </tr>\n",
       "    <tr>\n",
       "        <td>fecha_recuperacion</td>\n",
       "        <td>date</td>\n",
       "    </tr>\n",
       "    <tr>\n",
       "        <td>tipo_recuperacion</td>\n",
       "        <td>varchar</td>\n",
       "    </tr>\n",
       "    <tr>\n",
       "        <td>pertenencia_etnica</td>\n",
       "        <td>varchar</td>\n",
       "    </tr>\n",
       "    <tr>\n",
       "        <td>nombre_grupo_etnico</td>\n",
       "        <td>varchar</td>\n",
       "    </tr>\n",
       "</table>"
      ],
      "text/plain": [
       "[('fecha_reporte_web', 'date'),\n",
       " ('id_caso', 'int'),\n",
       " ('fecha_notificacion', 'date'),\n",
       " ('codigo_divipola_dpto', 'int'),\n",
       " ('nombre_dpto', 'varchar'),\n",
       " ('codigo_divipola_municipio', 'int'),\n",
       " ('nombre_municipio', 'varchar'),\n",
       " ('edad', 'int'),\n",
       " ('unidad_medida_edad', 'int'),\n",
       " ('sexo', 'varchar'),\n",
       " ('tipo_contagio', 'varchar'),\n",
       " ('ubicacion_caso', 'varchar'),\n",
       " ('severidad', 'varchar'),\n",
       " ('codigo_iso_pais', 'int'),\n",
       " ('nombre_pais', 'varchar'),\n",
       " ('estado', 'varchar'),\n",
       " ('fecha_inicio_sintomas', 'date'),\n",
       " ('fecha_muerte', 'date'),\n",
       " ('fecha_diagnostico', 'date'),\n",
       " ('fecha_recuperacion', 'date'),\n",
       " ('tipo_recuperacion', 'varchar'),\n",
       " ('pertenencia_etnica', 'varchar'),\n",
       " ('nombre_grupo_etnico', 'varchar')]"
      ]
     },
     "execution_count": 4,
     "metadata": {},
     "output_type": "execute_result"
    }
   ],
   "source": [
    "%%sql\n",
    "SELECT COLUMN_NAME, DATA_TYPE from INFORMATION_SCHEMA.COLUMNS\n",
    "WHERE \n",
    " TABLE_NAME = 'Casos'"
   ]
  },
  {
   "cell_type": "markdown",
   "id": "3b8c0ce7-1584-448a-9c60-1e6fa6443150",
   "metadata": {},
   "source": [
    "---\n",
    "#### Retrieving the cleaned dataset"
   ]
  },
  {
   "cell_type": "code",
   "execution_count": 5,
   "id": "d4193f63-b59f-421e-a520-4dd5359a4ea0",
   "metadata": {
    "tags": []
   },
   "outputs": [
    {
     "name": "stdout",
     "output_type": "stream",
     "text": [
      " * mssql://CAMILO-PCI5\\SQLEXPRESS/CovidColombia?driver=SQL+Server\n",
      "Done.\n"
     ]
    },
    {
     "data": {
      "text/html": [
       "<table>\n",
       "    <tr>\n",
       "        <th>fecha_reporte_web</th>\n",
       "        <th>id_caso</th>\n",
       "        <th>edad</th>\n",
       "        <th>unidad_medida_edad</th>\n",
       "        <th>sexo</th>\n",
       "        <th>estado</th>\n",
       "        <th>fecha_muerte</th>\n",
       "    </tr>\n",
       "    <tr>\n",
       "        <td>2020-03-06</td>\n",
       "        <td>1</td>\n",
       "        <td>19</td>\n",
       "        <td>1</td>\n",
       "        <td>F</td>\n",
       "        <td>Recuperado</td>\n",
       "        <td>None</td>\n",
       "    </tr>\n",
       "    <tr>\n",
       "        <td>2020-03-09</td>\n",
       "        <td>2</td>\n",
       "        <td>34</td>\n",
       "        <td>1</td>\n",
       "        <td>M</td>\n",
       "        <td>Recuperado</td>\n",
       "        <td>None</td>\n",
       "    </tr>\n",
       "    <tr>\n",
       "        <td>2020-03-09</td>\n",
       "        <td>3</td>\n",
       "        <td>50</td>\n",
       "        <td>1</td>\n",
       "        <td>F</td>\n",
       "        <td>Recuperado</td>\n",
       "        <td>None</td>\n",
       "    </tr>\n",
       "    <tr>\n",
       "        <td>2020-03-11</td>\n",
       "        <td>4</td>\n",
       "        <td>55</td>\n",
       "        <td>1</td>\n",
       "        <td>M</td>\n",
       "        <td>Recuperado</td>\n",
       "        <td>None</td>\n",
       "    </tr>\n",
       "    <tr>\n",
       "        <td>2020-03-11</td>\n",
       "        <td>5</td>\n",
       "        <td>25</td>\n",
       "        <td>1</td>\n",
       "        <td>M</td>\n",
       "        <td>Recuperado</td>\n",
       "        <td>None</td>\n",
       "    </tr>\n",
       "</table>"
      ],
      "text/plain": [
       "[('2020-03-06', 1, 19, 1, 'F', 'Recuperado', None),\n",
       " ('2020-03-09', 2, 34, 1, 'M', 'Recuperado', None),\n",
       " ('2020-03-09', 3, 50, 1, 'F', 'Recuperado', None),\n",
       " ('2020-03-11', 4, 55, 1, 'M', 'Recuperado', None),\n",
       " ('2020-03-11', 5, 25, 1, 'M', 'Recuperado', None)]"
      ]
     },
     "execution_count": 5,
     "metadata": {},
     "output_type": "execute_result"
    }
   ],
   "source": [
    "%%sql\n",
    "SELECT TOP 5 fecha_reporte_web, id_caso, edad, unidad_medida_edad, sexo, estado, fecha_muerte\n",
    "FROM Casos\n",
    "ORDER BY fecha_reporte_web"
   ]
  },
  {
   "cell_type": "markdown",
   "id": "1eab1496-187e-4bda-bdf0-98073c0c9d47",
   "metadata": {},
   "source": [
    "---\n",
    "#### **Total Cases** reported to date"
   ]
  },
  {
   "cell_type": "code",
   "execution_count": 6,
   "id": "2b523ca9-b926-4064-ba1f-21056bc843cc",
   "metadata": {},
   "outputs": [
    {
     "name": "stdout",
     "output_type": "stream",
     "text": [
      " * mssql://CAMILO-PCI5\\SQLEXPRESS/CovidColombia?driver=SQL+Server\n",
      "Done.\n"
     ]
    }
   ],
   "source": [
    "r0 = %sql SELECT COUNT(*) FROM Casos\n",
    "total_cases = r0[0][0]"
   ]
  },
  {
   "cell_type": "code",
   "execution_count": 7,
   "id": "722a0a89-2a09-419d-bd4f-0da9fceab13c",
   "metadata": {
    "tags": []
   },
   "outputs": [
    {
     "name": "stdout",
     "output_type": "stream",
     "text": [
      "Total cases reported to date = 4932998\n",
      "Proportion of the population infected = 9.8 %\n"
     ]
    }
   ],
   "source": [
    "total_pop = 50339000\n",
    "prop_pop_inf = round((total_cases/total_pop)*100,2)\n",
    "print('Total cases reported to date =',total_cases)\n",
    "print('Proportion of the population infected =',prop_pop_inf, '%')"
   ]
  },
  {
   "cell_type": "markdown",
   "id": "c7dbf2eb-0a54-4494-9423-1216d6f11478",
   "metadata": {
    "tags": []
   },
   "source": [
    "---\n",
    "#### **Total Deaths** and **Fatality Rate** reported to date"
   ]
  },
  {
   "cell_type": "code",
   "execution_count": 8,
   "id": "513c272b-044e-4a3c-a883-258962c47f6c",
   "metadata": {},
   "outputs": [
    {
     "name": "stdout",
     "output_type": "stream",
     "text": [
      " * mssql://CAMILO-PCI5\\SQLEXPRESS/CovidColombia?driver=SQL+Server\n",
      "Done.\n"
     ]
    }
   ],
   "source": [
    "r1 = %sql SELECT estado, COUNT(estado) AS cantidad FROM Casos GROUP BY estado ORDER BY cantidad"
   ]
  },
  {
   "cell_type": "code",
   "execution_count": 9,
   "id": "4f47eaae-32be-4433-8fe9-b45479e51b9d",
   "metadata": {},
   "outputs": [
    {
     "data": {
      "text/html": [
       "<div>\n",
       "<style scoped>\n",
       "    .dataframe tbody tr th:only-of-type {\n",
       "        vertical-align: middle;\n",
       "    }\n",
       "\n",
       "    .dataframe tbody tr th {\n",
       "        vertical-align: top;\n",
       "    }\n",
       "\n",
       "    .dataframe thead th {\n",
       "        text-align: right;\n",
       "    }\n",
       "</style>\n",
       "<table border=\"1\" class=\"dataframe\">\n",
       "  <thead>\n",
       "    <tr style=\"text-align: right;\">\n",
       "      <th></th>\n",
       "      <th>estado</th>\n",
       "      <th>cantidad</th>\n",
       "      <th>porcentaje</th>\n",
       "    </tr>\n",
       "  </thead>\n",
       "  <tbody>\n",
       "    <tr>\n",
       "      <th>0</th>\n",
       "      <td>N/A</td>\n",
       "      <td>15256</td>\n",
       "      <td>0.31</td>\n",
       "    </tr>\n",
       "    <tr>\n",
       "      <th>1</th>\n",
       "      <td>Activo</td>\n",
       "      <td>20904</td>\n",
       "      <td>0.42</td>\n",
       "    </tr>\n",
       "    <tr>\n",
       "      <th>2</th>\n",
       "      <td>Fallecido</td>\n",
       "      <td>125713</td>\n",
       "      <td>2.55</td>\n",
       "    </tr>\n",
       "    <tr>\n",
       "      <th>3</th>\n",
       "      <td>Recuperado</td>\n",
       "      <td>4771125</td>\n",
       "      <td>96.72</td>\n",
       "    </tr>\n",
       "  </tbody>\n",
       "</table>\n",
       "</div>"
      ],
      "text/plain": [
       "       estado  cantidad  porcentaje\n",
       "0         N/A     15256        0.31\n",
       "1      Activo     20904        0.42\n",
       "2   Fallecido    125713        2.55\n",
       "3  Recuperado   4771125       96.72"
      ]
     },
     "execution_count": 9,
     "metadata": {},
     "output_type": "execute_result"
    }
   ],
   "source": [
    "df_r1 = r1.DataFrame()\n",
    "df_r1['porcentaje'] = round((df_r1['cantidad']/total_cases)*100,2)\n",
    "df_r1"
   ]
  },
  {
   "cell_type": "code",
   "execution_count": 10,
   "id": "dc7bf544-6bf3-4d9c-a4fa-16cd181bed8c",
   "metadata": {
    "tags": []
   },
   "outputs": [
    {
     "data": {
      "text/plain": [
       "<AxesSubplot:ylabel='porcentaje'>"
      ]
     },
     "execution_count": 10,
     "metadata": {},
     "output_type": "execute_result"
    },
    {
     "data": {
      "image/png": "[encoded data removed]",
      "text/plain": [
       "<Figure size 432x432 with 1 Axes>"
      ]
     },
     "metadata": {},
     "output_type": "display_data"
    }
   ],
   "source": [
    "#ploting proportion of cases by status \n",
    "plot1 = df_r1.plot.pie(y = 'porcentaje', labels = df_r1.estado, figsize=(6,6))\n",
    "plot1"
   ]
  },
  {
   "cell_type": "code",
   "execution_count": 11,
   "id": "6bbbd43f-ea1c-4936-9663-4ad95974f55a",
   "metadata": {
    "tags": []
   },
   "outputs": [
    {
     "name": "stdout",
     "output_type": "stream",
     "text": [
      " * mssql://CAMILO-PCI5\\SQLEXPRESS/CovidColombia?driver=SQL+Server\n",
      "Done.\n",
      "Total deaths = 125713\n",
      "General Mortality rate = 249.73 per 100,000 inhabitants\n",
      "General Fatality rate = 2.55 %\n"
     ]
    }
   ],
   "source": [
    "#mortality rate: proportion of deaths per unit of population (100,000 generally used)\n",
    "#fatality rate: proportion of deaths compared to the total number of people diagnosed.\n",
    "\n",
    "r2 = %sql SELECT COUNT(estado) FROM Casos WHERE estado = 'Fallecido'\n",
    "\n",
    "total_deaths = r2[0][0]\n",
    "gen_mortality = (total_deaths*100000/total_pop)\n",
    "gen_fatality = (total_deaths/total_cases)*100\n",
    "\n",
    "print('Total deaths =', total_deaths)\n",
    "print('General Mortality rate =', round(gen_mortality,2), 'per 100,000 inhabitants')\n",
    "print('General Fatality rate =', round(gen_fatality,2), '%')"
   ]
  },
  {
   "cell_type": "markdown",
   "id": "233239b2-addc-4365-9999-449d0887cc0d",
   "metadata": {},
   "source": [
    "---\n",
    "#### Total Cases and Deaths by **Gender**"
   ]
  },
  {
   "cell_type": "code",
   "execution_count": 12,
   "id": "0d7043cf-08de-44fa-b783-e0a3c707f591",
   "metadata": {},
   "outputs": [
    {
     "name": "stdout",
     "output_type": "stream",
     "text": [
      " * mssql://CAMILO-PCI5\\SQLEXPRESS/CovidColombia?driver=SQL+Server\n",
      "Done.\n"
     ]
    },
    {
     "data": {
      "text/html": [
       "<table>\n",
       "    <tr>\n",
       "        <th>sexo</th>\n",
       "        <th>no. de casos</th>\n",
       "    </tr>\n",
       "    <tr>\n",
       "        <td>F</td>\n",
       "        <td>2589365</td>\n",
       "    </tr>\n",
       "    <tr>\n",
       "        <td>M</td>\n",
       "        <td>2343633</td>\n",
       "    </tr>\n",
       "</table>"
      ],
      "text/plain": [
       "[('F', 2589365), ('M', 2343633)]"
      ]
     },
     "execution_count": 12,
     "metadata": {},
     "output_type": "execute_result"
    }
   ],
   "source": [
    "%sql SELECT sexo, COUNT(*) AS 'no. de casos' FROM Casos GROUP BY sexo"
   ]
  },
  {
   "cell_type": "code",
   "execution_count": 13,
   "id": "534314dc-cada-4baa-b27b-0e393ea70133",
   "metadata": {},
   "outputs": [
    {
     "name": "stdout",
     "output_type": "stream",
     "text": [
      " * mssql://CAMILO-PCI5\\SQLEXPRESS/CovidColombia?driver=SQL+Server\n",
      "Done.\n"
     ]
    },
    {
     "data": {
      "text/html": [
       "<table>\n",
       "    <tr>\n",
       "        <th>sexo</th>\n",
       "        <th>no. de fallecidos</th>\n",
       "    </tr>\n",
       "    <tr>\n",
       "        <td>F</td>\n",
       "        <td>48918</td>\n",
       "    </tr>\n",
       "    <tr>\n",
       "        <td>M</td>\n",
       "        <td>76795</td>\n",
       "    </tr>\n",
       "</table>"
      ],
      "text/plain": [
       "[('F', 48918), ('M', 76795)]"
      ]
     },
     "execution_count": 13,
     "metadata": {},
     "output_type": "execute_result"
    }
   ],
   "source": [
    "%sql SELECT sexo, COUNT(*) AS 'no. de fallecidos' FROM Casos GROUP BY sexo, estado HAVING estado = 'Fallecido'"
   ]
  },
  {
   "cell_type": "code",
   "execution_count": 14,
   "id": "85d02c82-bfa3-4f48-9ecf-3d96c33806f6",
   "metadata": {},
   "outputs": [
    {
     "name": "stdout",
     "output_type": "stream",
     "text": [
      " * mssql://CAMILO-PCI5\\SQLEXPRESS/CovidColombia?driver=SQL+Server\n",
      "Done.\n",
      " * mssql://CAMILO-PCI5\\SQLEXPRESS/CovidColombia?driver=SQL+Server\n",
      "Done.\n",
      " * mssql://CAMILO-PCI5\\SQLEXPRESS/CovidColombia?driver=SQL+Server\n",
      "Done.\n",
      " * mssql://CAMILO-PCI5\\SQLEXPRESS/CovidColombia?driver=SQL+Server\n",
      "Done.\n"
     ]
    }
   ],
   "source": [
    "rf = %sql SELECT COUNT(*) FROM Casos WHERE sexo = 'F'\n",
    "rm = %sql SELECT COUNT(*) FROM Casos WHERE sexo = 'M'\n",
    "rf_d = %sql SELECT COUNT(*) FROM Casos WHERE sexo = 'F' AND estado = 'Fallecido'\n",
    "rm_d = %sql SELECT COUNT(*) FROM Casos WHERE sexo = 'M' AND estado = 'Fallecido'"
   ]
  },
  {
   "cell_type": "code",
   "execution_count": 15,
   "id": "bd69ba70-d2f2-4d39-bef5-c51017d2030c",
   "metadata": {},
   "outputs": [
    {
     "name": "stdout",
     "output_type": "stream",
     "text": [
      "2589365 2343633 48918 76795\n"
     ]
    }
   ],
   "source": [
    "print (rf[0][0], rm[0][0], rf_d[0][0], rm_d[0][0])"
   ]
  },
  {
   "cell_type": "markdown",
   "id": "3d150bea-421a-4ace-b14c-26adc67d054a",
   "metadata": {},
   "source": [
    "- *Calculating **Fatality Rate** of each geneder:*"
   ]
  },
  {
   "cell_type": "code",
   "execution_count": 16,
   "id": "838318fc-7791-4428-85c7-36ac84ab1d31",
   "metadata": {},
   "outputs": [
    {
     "data": {
      "text/html": [
       "<div>\n",
       "<style scoped>\n",
       "    .dataframe tbody tr th:only-of-type {\n",
       "        vertical-align: middle;\n",
       "    }\n",
       "\n",
       "    .dataframe tbody tr th {\n",
       "        vertical-align: top;\n",
       "    }\n",
       "\n",
       "    .dataframe thead th {\n",
       "        text-align: right;\n",
       "    }\n",
       "</style>\n",
       "<table border=\"1\" class=\"dataframe\">\n",
       "  <thead>\n",
       "    <tr style=\"text-align: right;\">\n",
       "      <th></th>\n",
       "      <th>sexo</th>\n",
       "      <th>casos</th>\n",
       "      <th>fallecidos</th>\n",
       "      <th>%_casos</th>\n",
       "      <th>%_fallecidos</th>\n",
       "      <th>letalidad (%)</th>\n",
       "    </tr>\n",
       "  </thead>\n",
       "  <tbody>\n",
       "    <tr>\n",
       "      <th>0</th>\n",
       "      <td>F</td>\n",
       "      <td>2589365</td>\n",
       "      <td>48918</td>\n",
       "      <td>52.49</td>\n",
       "      <td>38.91</td>\n",
       "      <td>1.89</td>\n",
       "    </tr>\n",
       "    <tr>\n",
       "      <th>1</th>\n",
       "      <td>M</td>\n",
       "      <td>2343633</td>\n",
       "      <td>76795</td>\n",
       "      <td>47.51</td>\n",
       "      <td>61.09</td>\n",
       "      <td>3.28</td>\n",
       "    </tr>\n",
       "  </tbody>\n",
       "</table>\n",
       "</div>"
      ],
      "text/plain": [
       "  sexo    casos  fallecidos  %_casos  %_fallecidos  letalidad (%)\n",
       "0    F  2589365       48918    52.49         38.91           1.89\n",
       "1    M  2343633       76795    47.51         61.09           3.28"
      ]
     },
     "execution_count": 16,
     "metadata": {},
     "output_type": "execute_result"
    }
   ],
   "source": [
    "#Creating a dataframe from previous results and calculating fatality rate (\"letalidad\") of each gender:\n",
    "df_r2 = pd.DataFrame({\n",
    "    'sexo':['F','M'],\n",
    "    'casos':[rf[0][0], rm[0][0]],\n",
    "    'fallecidos':[rf_d[0][0],rm_d[0][0]]\n",
    "})\n",
    "df_r2['%_casos'] = round((df_r2['casos']/total_cases)*100,2)\n",
    "df_r2['%_fallecidos'] = round((df_r2['fallecidos']/total_deaths)*100,2)\n",
    "df_r2['letalidad (%)'] = round((df_r2['fallecidos']/df_r2['casos'])*100,2)\n",
    "df_r2"
   ]
  },
  {
   "cell_type": "code",
   "execution_count": 17,
   "id": "0cf89cf2-bae3-410a-8da9-6e84e7c1d985",
   "metadata": {},
   "outputs": [
    {
     "data": {
      "image/png": "[encoded data removed]",
      "text/plain": [
       "<Figure size 288x288 with 1 Axes>"
      ]
     },
     "metadata": {},
     "output_type": "display_data"
    }
   ],
   "source": [
    "plot2C = df_r2.plot.pie(y='casos', figsize=(4,4), labels = df_r2.sexo)"
   ]
  },
  {
   "cell_type": "code",
   "execution_count": 18,
   "id": "04eaa8a6-85f3-4d9d-9c1e-1fef4b0dcb50",
   "metadata": {},
   "outputs": [
    {
     "data": {
      "image/png": "[encoded data removed]",
      "text/plain": [
       "<Figure size 288x288 with 1 Axes>"
      ]
     },
     "metadata": {},
     "output_type": "display_data"
    }
   ],
   "source": [
    "#ploting proportion of deaths by gender\n",
    "plot2F = df_r2.plot.pie(y='fallecidos', figsize=(4,4), labels = df_r2.sexo)"
   ]
  },
  {
   "cell_type": "markdown",
   "id": "4b5ccc41-e450-4020-84c1-9f8642854a4d",
   "metadata": {},
   "source": [
    "---\n",
    "#### Exploring **Vaccinations** Dataset\n",
    "Vaccinations Data Exploratory Analysis"
   ]
  },
  {
   "cell_type": "code",
   "execution_count": 19,
   "id": "d3babd67-0ca9-4d27-9ce7-b4ab59ab7b85",
   "metadata": {
    "tags": []
   },
   "outputs": [
    {
     "name": "stdout",
     "output_type": "stream",
     "text": [
      " * mssql://CAMILO-PCI5\\SQLEXPRESS/CovidColombia?driver=SQL+Server\n",
      "Done.\n",
      " * mssql://CAMILO-PCI5\\SQLEXPRESS/CovidColombia?driver=SQL+Server\n",
      "Done.\n",
      " * mssql://CAMILO-PCI5\\SQLEXPRESS/CovidColombia?driver=SQL+Server\n",
      "Done.\n",
      " * mssql://CAMILO-PCI5\\SQLEXPRESS/CovidColombia?driver=SQL+Server\n",
      "Done.\n",
      " * mssql://CAMILO-PCI5\\SQLEXPRESS/CovidColombia?driver=SQL+Server\n",
      "Done.\n",
      " * mssql://CAMILO-PCI5\\SQLEXPRESS/CovidColombia?driver=SQL+Server\n",
      "Done.\n"
     ]
    }
   ],
   "source": [
    "v1 = %sql SELECT COUNT(*) FROM Vaccinations\n",
    "v2 = %sql SELECT COUNT(*) FROM Vaccinations WHERE location = 'Colombia'\n",
    "v3 = %sql SELECT MIN([date]) FROM Vaccinations WHERE location = 'Colombia'\n",
    "v4 = %sql SELECT MAX(total_vaccinations) FROM Vaccinations WHERE location = 'Colombia'\n",
    "v5 = %sql SELECT MAX(people_vaccinated) FROM Vaccinations WHERE location = 'Colombia'\n",
    "v6 = %sql SELECT MAX(people_fully_vaccinated) FROM Vaccinations WHERE location = 'Colombia'"
   ]
  },
  {
   "cell_type": "code",
   "execution_count": 20,
   "id": "2f6dd165-3938-49e1-b3c6-ebd6c022e7f3",
   "metadata": {},
   "outputs": [],
   "source": [
    "exploration = ['Total number of rows',\n",
    "               'Number of Vaccination dates in Colombia',\n",
    "               'Vaccination start date',\n",
    "               'Total number of doses administered',\n",
    "               'People vaccinaed (at least one vaccine dose)',\n",
    "               'People with the complete scheme to date']\n",
    "results = [v1[0][0], v2[0][0], v3[0][0], v4[0][0], v5[0][0], v6[0][0]]"
   ]
  },
  {
   "cell_type": "markdown",
   "id": "a232a43c-ff01-4321-b5cb-31f05179d49e",
   "metadata": {},
   "source": [
    "- *Exploration results:*"
   ]
  },
  {
   "cell_type": "code",
   "execution_count": 21,
   "id": "d9295cad-628a-45d4-a6f1-e7ef85ee9233",
   "metadata": {},
   "outputs": [
    {
     "data": {
      "text/plain": [
       "Total number of rows                                 47844\n",
       "Number of Vaccination dates in Colombia                208\n",
       "Vaccination start date                          2021-02-17\n",
       "Total number of doses administered              37444197.0\n",
       "People vaccinaed (at least one vaccine dose)    24499752.0\n",
       "People with the complete scheme to date         15746173.0\n",
       "dtype: object"
      ]
     },
     "execution_count": 21,
     "metadata": {},
     "output_type": "execute_result"
    }
   ],
   "source": [
    "pd.Series(results, index=exploration)"
   ]
  },
  {
   "cell_type": "markdown",
   "id": "0e8e1d0b-2e34-46dc-a4fb-12d9f2cecf0f",
   "metadata": {},
   "source": [
    "- *Setting the dataframe:*"
   ]
  },
  {
   "cell_type": "code",
   "execution_count": 22,
   "id": "a256dea2-ecde-4681-9dc5-48a71528f7b1",
   "metadata": {},
   "outputs": [
    {
     "name": "stdout",
     "output_type": "stream",
     "text": [
      " * mssql://CAMILO-PCI5\\SQLEXPRESS/CovidColombia?driver=SQL+Server\n",
      "Done.\n",
      "Returning data to local variable rv\n"
     ]
    }
   ],
   "source": [
    "%%sql rv <<\n",
    "SELECT date, total_vaccinations, people_vaccinated, people_fully_vaccinated, daily_vaccinations\n",
    "FROM Vaccinations\n",
    "WHERE location = 'Colombia' ORDER BY date"
   ]
  },
  {
   "cell_type": "code",
   "execution_count": 23,
   "id": "f834a9ec-dcb0-4459-bb47-3f6cdd790bc3",
   "metadata": {},
   "outputs": [
    {
     "data": {
      "text/html": [
       "<div>\n",
       "<style scoped>\n",
       "    .dataframe tbody tr th:only-of-type {\n",
       "        vertical-align: middle;\n",
       "    }\n",
       "\n",
       "    .dataframe tbody tr th {\n",
       "        vertical-align: top;\n",
       "    }\n",
       "\n",
       "    .dataframe thead th {\n",
       "        text-align: right;\n",
       "    }\n",
       "</style>\n",
       "<table border=\"1\" class=\"dataframe\">\n",
       "  <thead>\n",
       "    <tr style=\"text-align: right;\">\n",
       "      <th></th>\n",
       "      <th>date</th>\n",
       "      <th>total_vaccinations</th>\n",
       "      <th>people_vaccinated</th>\n",
       "      <th>people_fully_vaccinated</th>\n",
       "      <th>daily_vaccinations</th>\n",
       "    </tr>\n",
       "  </thead>\n",
       "  <tbody>\n",
       "    <tr>\n",
       "      <th>0</th>\n",
       "      <td>2021-02-17</td>\n",
       "      <td>18.0</td>\n",
       "      <td>0.0</td>\n",
       "      <td>0.0</td>\n",
       "      <td>0.0</td>\n",
       "    </tr>\n",
       "    <tr>\n",
       "      <th>1</th>\n",
       "      <td>2021-02-18</td>\n",
       "      <td>9935.0</td>\n",
       "      <td>0.0</td>\n",
       "      <td>0.0</td>\n",
       "      <td>9917.0</td>\n",
       "    </tr>\n",
       "    <tr>\n",
       "      <th>2</th>\n",
       "      <td>2021-02-19</td>\n",
       "      <td>21307.0</td>\n",
       "      <td>0.0</td>\n",
       "      <td>0.0</td>\n",
       "      <td>10644.0</td>\n",
       "    </tr>\n",
       "    <tr>\n",
       "      <th>3</th>\n",
       "      <td>2021-02-20</td>\n",
       "      <td>33140.0</td>\n",
       "      <td>0.0</td>\n",
       "      <td>0.0</td>\n",
       "      <td>11041.0</td>\n",
       "    </tr>\n",
       "    <tr>\n",
       "      <th>4</th>\n",
       "      <td>2021-02-21</td>\n",
       "      <td>39827.0</td>\n",
       "      <td>0.0</td>\n",
       "      <td>0.0</td>\n",
       "      <td>9952.0</td>\n",
       "    </tr>\n",
       "  </tbody>\n",
       "</table>\n",
       "</div>"
      ],
      "text/plain": [
       "         date  total_vaccinations  people_vaccinated  people_fully_vaccinated  \\\n",
       "0  2021-02-17                18.0                0.0                      0.0   \n",
       "1  2021-02-18              9935.0                0.0                      0.0   \n",
       "2  2021-02-19             21307.0                0.0                      0.0   \n",
       "3  2021-02-20             33140.0                0.0                      0.0   \n",
       "4  2021-02-21             39827.0                0.0                      0.0   \n",
       "\n",
       "   daily_vaccinations  \n",
       "0                 0.0  \n",
       "1              9917.0  \n",
       "2             10644.0  \n",
       "3             11041.0  \n",
       "4              9952.0  "
      ]
     },
     "execution_count": 23,
     "metadata": {},
     "output_type": "execute_result"
    }
   ],
   "source": [
    "df_rv = rv.DataFrame()\n",
    "df_rv.head()"
   ]
  },
  {
   "cell_type": "code",
   "execution_count": 24,
   "id": "5b4a9359-7660-4437-b6c9-74399e71f4b8",
   "metadata": {
    "tags": []
   },
   "outputs": [
    {
     "data": {
      "image/png": "[encoded data removed]",
      "text/plain": [
       "<Figure size 720x288 with 1 Axes>"
      ]
     },
     "metadata": {
      "needs_background": "light"
     },
     "output_type": "display_data"
    }
   ],
   "source": [
    "plt.figure(figsize=(10,4))\n",
    "\n",
    "sns.barplot(x='date', y='people_vaccinated', data=df_rv, color = 'yellowgreen')\n",
    "\n",
    "sns.barplot(x='date', y='people_fully_vaccinated', data=df_rv, color='forestgreen')\n",
    "\n",
    "#plt.xticks(np.arange(0,208,1), [i if i in range(0,208,10) else '' for i in range(208)])\n",
    "x = np.random.randint(low=0, high=50, size=208)\n",
    "plt.xticks(np.arange(0, len(x)+1, 10))\n",
    "\n",
    "plt.legend(fontsize='large' ,loc='upper left', labels=['People vaccinated (at least 1 dose)', 'People fully vaccinated (complete scheme)'], labelcolor=['yellowgreen','forestgreen'])\n",
    "plt.ylabel('Number of People')\n",
    "plt.xlabel('Date')\n",
    "plt.xticks(rotation=45)\n",
    "plt.show()"
   ]
  },
  {
   "cell_type": "markdown",
   "id": "d886a05e-ba1e-42db-aad2-919c97ddada5",
   "metadata": {},
   "source": [
    "---\n",
    "#### Categorization of Cases by **Age Group**\n",
    "We need to categorize the cases by age group in order to calculate the fatality rate of each group. For this we created a view called `Casos_con_grupo_etario` from the main dataset `Casos`. It should be noted that the column `unidad_medida_edad` indicates whether the age of each patient is measured in years, months or days."
   ]
  },
  {
   "cell_type": "code",
   "execution_count": 25,
   "id": "c7ca2502-77dd-4e22-9154-8055a5e1c564",
   "metadata": {
    "tags": []
   },
   "outputs": [
    {
     "name": "stdout",
     "output_type": "stream",
     "text": [
      " * mssql://CAMILO-PCI5\\SQLEXPRESS/CovidColombia?driver=SQL+Server\n",
      "Done.\n"
     ]
    },
    {
     "data": {
      "text/html": [
       "<table>\n",
       "    <tr>\n",
       "        <th>fecha_reporte_web</th>\n",
       "        <th>id_caso</th>\n",
       "        <th>edad</th>\n",
       "        <th>unidad_medida_edad</th>\n",
       "        <th>sexo</th>\n",
       "        <th>estado</th>\n",
       "        <th>fecha_muerte</th>\n",
       "        <th>grupo_etario</th>\n",
       "    </tr>\n",
       "    <tr>\n",
       "        <td>2020-03-06</td>\n",
       "        <td>1</td>\n",
       "        <td>19</td>\n",
       "        <td>1</td>\n",
       "        <td>F</td>\n",
       "        <td>Recuperado</td>\n",
       "        <td>None</td>\n",
       "        <td>10 - 19</td>\n",
       "    </tr>\n",
       "    <tr>\n",
       "        <td>2020-03-09</td>\n",
       "        <td>2</td>\n",
       "        <td>34</td>\n",
       "        <td>1</td>\n",
       "        <td>M</td>\n",
       "        <td>Recuperado</td>\n",
       "        <td>None</td>\n",
       "        <td>30 - 39</td>\n",
       "    </tr>\n",
       "    <tr>\n",
       "        <td>2020-03-09</td>\n",
       "        <td>3</td>\n",
       "        <td>50</td>\n",
       "        <td>1</td>\n",
       "        <td>F</td>\n",
       "        <td>Recuperado</td>\n",
       "        <td>None</td>\n",
       "        <td>50 - 59</td>\n",
       "    </tr>\n",
       "    <tr>\n",
       "        <td>2020-03-11</td>\n",
       "        <td>4</td>\n",
       "        <td>55</td>\n",
       "        <td>1</td>\n",
       "        <td>M</td>\n",
       "        <td>Recuperado</td>\n",
       "        <td>None</td>\n",
       "        <td>50 - 59</td>\n",
       "    </tr>\n",
       "    <tr>\n",
       "        <td>2020-03-11</td>\n",
       "        <td>5</td>\n",
       "        <td>25</td>\n",
       "        <td>1</td>\n",
       "        <td>M</td>\n",
       "        <td>Recuperado</td>\n",
       "        <td>None</td>\n",
       "        <td>20 - 29</td>\n",
       "    </tr>\n",
       "</table>"
      ],
      "text/plain": [
       "[('2020-03-06', 1, 19, 1, 'F', 'Recuperado', None, '10 - 19'),\n",
       " ('2020-03-09', 2, 34, 1, 'M', 'Recuperado', None, '30 - 39'),\n",
       " ('2020-03-09', 3, 50, 1, 'F', 'Recuperado', None, '50 - 59'),\n",
       " ('2020-03-11', 4, 55, 1, 'M', 'Recuperado', None, '50 - 59'),\n",
       " ('2020-03-11', 5, 25, 1, 'M', 'Recuperado', None, '20 - 29')]"
      ]
     },
     "execution_count": 25,
     "metadata": {},
     "output_type": "execute_result"
    }
   ],
   "source": [
    "%%sql\n",
    "--CREATE VIEW Casos_con_grupo_etario AS\n",
    "SELECT TOP 5 fecha_reporte_web, id_caso, edad, unidad_medida_edad, sexo, estado, fecha_muerte,\n",
    "CASE\n",
    " WHEN unidad_medida_edad = 1 THEN\n",
    "   CASE\n",
    "     WHEN edad <= 4 THEN '0 - 04'\n",
    "     WHEN edad <= 9 THEN '05 - 09'\n",
    "     WHEN edad <= 19 THEN '10 - 19'\n",
    "     WHEN edad <= 29 THEN '20 - 29'\n",
    "     WHEN edad <= 39 THEN '30 - 39'\n",
    "     WHEN edad <= 49 THEN '40 - 49'\n",
    "     WHEN edad <= 59 THEN '50 - 59'\n",
    "     WHEN edad <= 69 THEN '60 - 69'\n",
    "     WHEN edad <= 79 THEN '70 - 79'\n",
    "     ELSE '80 o más'\n",
    "   END\n",
    " ELSE '0 - 04'\n",
    "END AS grupo_etario\n",
    "FROM Casos\n",
    "ORDER BY fecha_reporte_web;"
   ]
  },
  {
   "cell_type": "markdown",
   "id": "f0b55d78-7606-4565-bb9f-bba6816bd7ee",
   "metadata": {},
   "source": [
    "---\n",
    "#### Grouping Cases and Deaths by **Age group** and **Gender**\n",
    "First we group cases and deaths by Age Group and Gender in different queries. Then we **JOIN** the results of both **CTEs** tables into a single one and then create a new view from it, getting the number of **Cases and Deaths** by **Age Group** and **Gender** in the same table:"
   ]
  },
  {
   "cell_type": "code",
   "execution_count": 26,
   "id": "e0d21eb5-35af-4ddc-a220-9b59259a1aa7",
   "metadata": {
    "tags": []
   },
   "outputs": [
    {
     "name": "stdout",
     "output_type": "stream",
     "text": [
      " * mssql://CAMILO-PCI5\\SQLEXPRESS/CovidColombia?driver=SQL+Server\n",
      "Done.\n"
     ]
    },
    {
     "data": {
      "text/html": [
       "<table>\n",
       "    <tr>\n",
       "        <th>grupo_etario</th>\n",
       "        <th>sexo</th>\n",
       "        <th>fallecidos</th>\n",
       "        <th>casos</th>\n",
       "    </tr>\n",
       "    <tr>\n",
       "        <td>0 - 04</td>\n",
       "        <td>M</td>\n",
       "        <td>64</td>\n",
       "        <td>40139</td>\n",
       "    </tr>\n",
       "    <tr>\n",
       "        <td>0 - 04</td>\n",
       "        <td>F</td>\n",
       "        <td>46</td>\n",
       "        <td>36887</td>\n",
       "    </tr>\n",
       "    <tr>\n",
       "        <td>05 - 09</td>\n",
       "        <td>M</td>\n",
       "        <td>21</td>\n",
       "        <td>46873</td>\n",
       "    </tr>\n",
       "    <tr>\n",
       "        <td>05 - 09</td>\n",
       "        <td>F</td>\n",
       "        <td>12</td>\n",
       "        <td>45569</td>\n",
       "    </tr>\n",
       "    <tr>\n",
       "        <td>10 - 19</td>\n",
       "        <td>F</td>\n",
       "        <td>73</td>\n",
       "        <td>192955</td>\n",
       "    </tr>\n",
       "    <tr>\n",
       "        <td>10 - 19</td>\n",
       "        <td>M</td>\n",
       "        <td>91</td>\n",
       "        <td>180715</td>\n",
       "    </tr>\n",
       "    <tr>\n",
       "        <td>20 - 29</td>\n",
       "        <td>F</td>\n",
       "        <td>603</td>\n",
       "        <td>561016</td>\n",
       "    </tr>\n",
       "    <tr>\n",
       "        <td>20 - 29</td>\n",
       "        <td>M</td>\n",
       "        <td>855</td>\n",
       "        <td>488316</td>\n",
       "    </tr>\n",
       "    <tr>\n",
       "        <td>30 - 39</td>\n",
       "        <td>F</td>\n",
       "        <td>1411</td>\n",
       "        <td>571459</td>\n",
       "    </tr>\n",
       "    <tr>\n",
       "        <td>30 - 39</td>\n",
       "        <td>M</td>\n",
       "        <td>2928</td>\n",
       "        <td>535368</td>\n",
       "    </tr>\n",
       "    <tr>\n",
       "        <td>40 - 49</td>\n",
       "        <td>M</td>\n",
       "        <td>6589</td>\n",
       "        <td>398523</td>\n",
       "    </tr>\n",
       "    <tr>\n",
       "        <td>40 - 49</td>\n",
       "        <td>F</td>\n",
       "        <td>3100</td>\n",
       "        <td>438275</td>\n",
       "    </tr>\n",
       "    <tr>\n",
       "        <td>50 - 59</td>\n",
       "        <td>M</td>\n",
       "        <td>12311</td>\n",
       "        <td>315386</td>\n",
       "    </tr>\n",
       "    <tr>\n",
       "        <td>50 - 59</td>\n",
       "        <td>F</td>\n",
       "        <td>6916</td>\n",
       "        <td>364326</td>\n",
       "    </tr>\n",
       "    <tr>\n",
       "        <td>60 - 69</td>\n",
       "        <td>M</td>\n",
       "        <td>18190</td>\n",
       "        <td>191225</td>\n",
       "    </tr>\n",
       "    <tr>\n",
       "        <td>60 - 69</td>\n",
       "        <td>F</td>\n",
       "        <td>11580</td>\n",
       "        <td>216534</td>\n",
       "    </tr>\n",
       "    <tr>\n",
       "        <td>70 - 79</td>\n",
       "        <td>M</td>\n",
       "        <td>18858</td>\n",
       "        <td>96105</td>\n",
       "    </tr>\n",
       "    <tr>\n",
       "        <td>70 - 79</td>\n",
       "        <td>F</td>\n",
       "        <td>12121</td>\n",
       "        <td>102455</td>\n",
       "    </tr>\n",
       "    <tr>\n",
       "        <td>80 o más</td>\n",
       "        <td>M</td>\n",
       "        <td>16888</td>\n",
       "        <td>50983</td>\n",
       "    </tr>\n",
       "    <tr>\n",
       "        <td>80 o más</td>\n",
       "        <td>F</td>\n",
       "        <td>13056</td>\n",
       "        <td>59889</td>\n",
       "    </tr>\n",
       "</table>"
      ],
      "text/plain": [
       "[('0 - 04', 'M', 64, 40139),\n",
       " ('0 - 04', 'F', 46, 36887),\n",
       " ('05 - 09', 'M', 21, 46873),\n",
       " ('05 - 09', 'F', 12, 45569),\n",
       " ('10 - 19', 'F', 73, 192955),\n",
       " ('10 - 19', 'M', 91, 180715),\n",
       " ('20 - 29', 'F', 603, 561016),\n",
       " ('20 - 29', 'M', 855, 488316),\n",
       " ('30 - 39', 'F', 1411, 571459),\n",
       " ('30 - 39', 'M', 2928, 535368),\n",
       " ('40 - 49', 'M', 6589, 398523),\n",
       " ('40 - 49', 'F', 3100, 438275),\n",
       " ('50 - 59', 'M', 12311, 315386),\n",
       " ('50 - 59', 'F', 6916, 364326),\n",
       " ('60 - 69', 'M', 18190, 191225),\n",
       " ('60 - 69', 'F', 11580, 216534),\n",
       " ('70 - 79', 'M', 18858, 96105),\n",
       " ('70 - 79', 'F', 12121, 102455),\n",
       " ('80 o más', 'M', 16888, 50983),\n",
       " ('80 o más', 'F', 13056, 59889)]"
      ]
     },
     "execution_count": 26,
     "metadata": {},
     "output_type": "execute_result"
    }
   ],
   "source": [
    "%%sql\n",
    "--CREATE VIEW agrupacion_por_grupoetario_y_sexo AS\n",
    "WITH CTE1_muertes (grupo_etario, sexo, fallecidos) AS (\n",
    "        SELECT grupo_etario, sexo, COUNT(grupo_etario) AS fallecidos\n",
    "        FROM Casos_con_grupo_etario\n",
    "        GROUP BY grupo_etario, sexo, estado\n",
    "        HAVING estado = 'Fallecido'\n",
    "        ),\n",
    "    CTE2_casos (grupo_etario, sexo, casos) AS (\n",
    "        SELECT grupo_etario, sexo, COUNT(grupo_etario) AS casos\n",
    "        FROM Casos_con_grupo_etario\n",
    "        GROUP BY grupo_etario, sexo\n",
    "        )\n",
    "SELECT m.grupo_etario, m.sexo, fallecidos, casos\n",
    "FROM CTE1_muertes m\n",
    "JOIN CTE2_casos c ON m.grupo_etario = c.grupo_etario AND m.sexo = c.sexo\n",
    "ORDER BY m.grupo_etario"
   ]
  },
  {
   "cell_type": "markdown",
   "id": "18cf1439-fc85-4fdd-af7c-e009722da17f",
   "metadata": {},
   "source": [
    "- *Calculating **Fatality Rate** by Age Group and Gender:*"
   ]
  },
  {
   "cell_type": "code",
   "execution_count": 27,
   "id": "16770591-8f98-4bcb-9e04-29ed9ab507c7",
   "metadata": {
    "tags": []
   },
   "outputs": [
    {
     "name": "stdout",
     "output_type": "stream",
     "text": [
      " * mssql://CAMILO-PCI5\\SQLEXPRESS/CovidColombia?driver=SQL+Server\n",
      "Done.\n"
     ]
    },
    {
     "data": {
      "text/html": [
       "<table>\n",
       "    <tr>\n",
       "        <th>grupo_etario</th>\n",
       "        <th>sexo</th>\n",
       "        <th>fallecidos</th>\n",
       "        <th>casos</th>\n",
       "        <th>letalidad</th>\n",
       "    </tr>\n",
       "    <tr>\n",
       "        <td>0 - 04</td>\n",
       "        <td>M</td>\n",
       "        <td>64</td>\n",
       "        <td>40139</td>\n",
       "        <td>0.16</td>\n",
       "    </tr>\n",
       "    <tr>\n",
       "        <td>0 - 04</td>\n",
       "        <td>F</td>\n",
       "        <td>46</td>\n",
       "        <td>36887</td>\n",
       "        <td>0.12</td>\n",
       "    </tr>\n",
       "    <tr>\n",
       "        <td>05 - 09</td>\n",
       "        <td>M</td>\n",
       "        <td>21</td>\n",
       "        <td>46873</td>\n",
       "        <td>0.04</td>\n",
       "    </tr>\n",
       "    <tr>\n",
       "        <td>05 - 09</td>\n",
       "        <td>F</td>\n",
       "        <td>12</td>\n",
       "        <td>45569</td>\n",
       "        <td>0.03</td>\n",
       "    </tr>\n",
       "    <tr>\n",
       "        <td>10 - 19</td>\n",
       "        <td>F</td>\n",
       "        <td>73</td>\n",
       "        <td>192955</td>\n",
       "        <td>0.04</td>\n",
       "    </tr>\n",
       "    <tr>\n",
       "        <td>10 - 19</td>\n",
       "        <td>M</td>\n",
       "        <td>91</td>\n",
       "        <td>180715</td>\n",
       "        <td>0.05</td>\n",
       "    </tr>\n",
       "    <tr>\n",
       "        <td>20 - 29</td>\n",
       "        <td>F</td>\n",
       "        <td>603</td>\n",
       "        <td>561016</td>\n",
       "        <td>0.11</td>\n",
       "    </tr>\n",
       "    <tr>\n",
       "        <td>20 - 29</td>\n",
       "        <td>M</td>\n",
       "        <td>855</td>\n",
       "        <td>488316</td>\n",
       "        <td>0.18</td>\n",
       "    </tr>\n",
       "    <tr>\n",
       "        <td>30 - 39</td>\n",
       "        <td>F</td>\n",
       "        <td>1411</td>\n",
       "        <td>571459</td>\n",
       "        <td>0.25</td>\n",
       "    </tr>\n",
       "    <tr>\n",
       "        <td>30 - 39</td>\n",
       "        <td>M</td>\n",
       "        <td>2928</td>\n",
       "        <td>535368</td>\n",
       "        <td>0.55</td>\n",
       "    </tr>\n",
       "    <tr>\n",
       "        <td>40 - 49</td>\n",
       "        <td>M</td>\n",
       "        <td>6589</td>\n",
       "        <td>398523</td>\n",
       "        <td>1.65</td>\n",
       "    </tr>\n",
       "    <tr>\n",
       "        <td>40 - 49</td>\n",
       "        <td>F</td>\n",
       "        <td>3100</td>\n",
       "        <td>438275</td>\n",
       "        <td>0.71</td>\n",
       "    </tr>\n",
       "    <tr>\n",
       "        <td>50 - 59</td>\n",
       "        <td>M</td>\n",
       "        <td>12311</td>\n",
       "        <td>315386</td>\n",
       "        <td>3.9</td>\n",
       "    </tr>\n",
       "    <tr>\n",
       "        <td>50 - 59</td>\n",
       "        <td>F</td>\n",
       "        <td>6916</td>\n",
       "        <td>364326</td>\n",
       "        <td>1.9</td>\n",
       "    </tr>\n",
       "    <tr>\n",
       "        <td>60 - 69</td>\n",
       "        <td>M</td>\n",
       "        <td>18190</td>\n",
       "        <td>191225</td>\n",
       "        <td>9.51</td>\n",
       "    </tr>\n",
       "    <tr>\n",
       "        <td>60 - 69</td>\n",
       "        <td>F</td>\n",
       "        <td>11580</td>\n",
       "        <td>216534</td>\n",
       "        <td>5.35</td>\n",
       "    </tr>\n",
       "    <tr>\n",
       "        <td>70 - 79</td>\n",
       "        <td>M</td>\n",
       "        <td>18858</td>\n",
       "        <td>96105</td>\n",
       "        <td>19.62</td>\n",
       "    </tr>\n",
       "    <tr>\n",
       "        <td>70 - 79</td>\n",
       "        <td>F</td>\n",
       "        <td>12121</td>\n",
       "        <td>102455</td>\n",
       "        <td>11.83</td>\n",
       "    </tr>\n",
       "    <tr>\n",
       "        <td>80 o más</td>\n",
       "        <td>M</td>\n",
       "        <td>16888</td>\n",
       "        <td>50983</td>\n",
       "        <td>33.12</td>\n",
       "    </tr>\n",
       "    <tr>\n",
       "        <td>80 o más</td>\n",
       "        <td>F</td>\n",
       "        <td>13056</td>\n",
       "        <td>59889</td>\n",
       "        <td>21.8</td>\n",
       "    </tr>\n",
       "</table>"
      ],
      "text/plain": [
       "[('0 - 04', 'M', 64, 40139, 0.16),\n",
       " ('0 - 04', 'F', 46, 36887, 0.12),\n",
       " ('05 - 09', 'M', 21, 46873, 0.04),\n",
       " ('05 - 09', 'F', 12, 45569, 0.03),\n",
       " ('10 - 19', 'F', 73, 192955, 0.04),\n",
       " ('10 - 19', 'M', 91, 180715, 0.05),\n",
       " ('20 - 29', 'F', 603, 561016, 0.11),\n",
       " ('20 - 29', 'M', 855, 488316, 0.18),\n",
       " ('30 - 39', 'F', 1411, 571459, 0.25),\n",
       " ('30 - 39', 'M', 2928, 535368, 0.55),\n",
       " ('40 - 49', 'M', 6589, 398523, 1.65),\n",
       " ('40 - 49', 'F', 3100, 438275, 0.71),\n",
       " ('50 - 59', 'M', 12311, 315386, 3.9),\n",
       " ('50 - 59', 'F', 6916, 364326, 1.9),\n",
       " ('60 - 69', 'M', 18190, 191225, 9.51),\n",
       " ('60 - 69', 'F', 11580, 216534, 5.35),\n",
       " ('70 - 79', 'M', 18858, 96105, 19.62),\n",
       " ('70 - 79', 'F', 12121, 102455, 11.83),\n",
       " ('80 o más', 'M', 16888, 50983, 33.12),\n",
       " ('80 o más', 'F', 13056, 59889, 21.8)]"
      ]
     },
     "execution_count": 27,
     "metadata": {},
     "output_type": "execute_result"
    }
   ],
   "source": [
    "%%sql\n",
    "SELECT *, ROUND((CONVERT(FLOAT, fallecidos)/CONVERT(FLOAT, casos))*100,2) AS letalidad\n",
    "FROM agrupacion_por_grupoetario_y_sexo\n",
    "ORDER BY grupo_etario;"
   ]
  },
  {
   "cell_type": "markdown",
   "id": "8f8c0b06-8613-4439-a6aa-0a653b65a0a8",
   "metadata": {},
   "source": [
    "- *What is the segment of the population (age group and gender) with the **highest fatality rate**?*"
   ]
  },
  {
   "cell_type": "code",
   "execution_count": 28,
   "id": "6ac1251b-2a30-43d4-a120-10ede80fd49d",
   "metadata": {
    "tags": []
   },
   "outputs": [
    {
     "name": "stdout",
     "output_type": "stream",
     "text": [
      " * mssql://CAMILO-PCI5\\SQLEXPRESS/CovidColombia?driver=SQL+Server\n",
      "Done.\n"
     ]
    },
    {
     "data": {
      "text/html": [
       "<table>\n",
       "    <tr>\n",
       "        <th>grupo_etario</th>\n",
       "        <th>sexo</th>\n",
       "        <th>fallecidos</th>\n",
       "        <th>casos</th>\n",
       "        <th>letalidad</th>\n",
       "    </tr>\n",
       "    <tr>\n",
       "        <td>80 o más</td>\n",
       "        <td>M</td>\n",
       "        <td>16888</td>\n",
       "        <td>50983</td>\n",
       "        <td>33.12</td>\n",
       "    </tr>\n",
       "</table>"
      ],
      "text/plain": [
       "[('80 o más', 'M', 16888, 50983, 33.12)]"
      ]
     },
     "execution_count": 28,
     "metadata": {},
     "output_type": "execute_result"
    }
   ],
   "source": [
    "%%sql\n",
    "WITH CTE1_letalidad (grupo_etario, sexo, fallecidos, casos, letalidad) AS (\n",
    "    SELECT *, ROUND((CONVERT(FLOAT, fallecidos)/CONVERT(FLOAT, casos))*100,2) AS letalidad\n",
    "    FROM agrupacion_por_grupoetario_y_sexo\n",
    "    )\n",
    "SELECT * \n",
    "FROM CTE1_letalidad\n",
    "WHERE letalidad = (SELECT MAX(letalidad) FROM CTE1_letalidad)"
   ]
  },
  {
   "cell_type": "markdown",
   "id": "9b7862ef-5f23-4877-bc8d-6c079c921d1b",
   "metadata": {},
   "source": [
    "---\n",
    "#### Fatality Rate by **Age Group**\n",
    "- *Calculating **Fatality Rate** just by Age Group:*"
   ]
  },
  {
   "cell_type": "code",
   "execution_count": 29,
   "id": "b44a1668-2194-4072-b7cb-9a40b228680d",
   "metadata": {
    "tags": []
   },
   "outputs": [
    {
     "name": "stdout",
     "output_type": "stream",
     "text": [
      " * mssql://CAMILO-PCI5\\SQLEXPRESS/CovidColombia?driver=SQL+Server\n",
      "Done.\n"
     ]
    },
    {
     "data": {
      "text/html": [
       "<table>\n",
       "    <tr>\n",
       "        <th>grupo_etario</th>\n",
       "        <th>fallecidos</th>\n",
       "        <th>casos</th>\n",
       "        <th>letalidad</th>\n",
       "    </tr>\n",
       "    <tr>\n",
       "        <td>0 - 04</td>\n",
       "        <td>110</td>\n",
       "        <td>77026</td>\n",
       "        <td>0.14</td>\n",
       "    </tr>\n",
       "    <tr>\n",
       "        <td>05 - 09</td>\n",
       "        <td>33</td>\n",
       "        <td>92442</td>\n",
       "        <td>0.04</td>\n",
       "    </tr>\n",
       "    <tr>\n",
       "        <td>10 - 19</td>\n",
       "        <td>164</td>\n",
       "        <td>373670</td>\n",
       "        <td>0.04</td>\n",
       "    </tr>\n",
       "    <tr>\n",
       "        <td>20 - 29</td>\n",
       "        <td>1458</td>\n",
       "        <td>1049332</td>\n",
       "        <td>0.14</td>\n",
       "    </tr>\n",
       "    <tr>\n",
       "        <td>30 - 39</td>\n",
       "        <td>4339</td>\n",
       "        <td>1106827</td>\n",
       "        <td>0.39</td>\n",
       "    </tr>\n",
       "    <tr>\n",
       "        <td>40 - 49</td>\n",
       "        <td>9689</td>\n",
       "        <td>836798</td>\n",
       "        <td>1.16</td>\n",
       "    </tr>\n",
       "    <tr>\n",
       "        <td>50 - 59</td>\n",
       "        <td>19227</td>\n",
       "        <td>679712</td>\n",
       "        <td>2.83</td>\n",
       "    </tr>\n",
       "    <tr>\n",
       "        <td>60 - 69</td>\n",
       "        <td>29770</td>\n",
       "        <td>407759</td>\n",
       "        <td>7.3</td>\n",
       "    </tr>\n",
       "    <tr>\n",
       "        <td>70 - 79</td>\n",
       "        <td>30979</td>\n",
       "        <td>198560</td>\n",
       "        <td>15.6</td>\n",
       "    </tr>\n",
       "    <tr>\n",
       "        <td>80 o más</td>\n",
       "        <td>29944</td>\n",
       "        <td>110872</td>\n",
       "        <td>27.01</td>\n",
       "    </tr>\n",
       "</table>"
      ],
      "text/plain": [
       "[('0 - 04', 110, 77026, 0.14),\n",
       " ('05 - 09', 33, 92442, 0.04),\n",
       " ('10 - 19', 164, 373670, 0.04),\n",
       " ('20 - 29', 1458, 1049332, 0.14),\n",
       " ('30 - 39', 4339, 1106827, 0.39),\n",
       " ('40 - 49', 9689, 836798, 1.16),\n",
       " ('50 - 59', 19227, 679712, 2.83),\n",
       " ('60 - 69', 29770, 407759, 7.3),\n",
       " ('70 - 79', 30979, 198560, 15.6),\n",
       " ('80 o más', 29944, 110872, 27.01)]"
      ]
     },
     "execution_count": 29,
     "metadata": {},
     "output_type": "execute_result"
    }
   ],
   "source": [
    "%%sql\n",
    "--CREATE VIEW letalidad_por_grupoetario AS\n",
    "SELECT grupo_etario, SUM(fallecidos) AS fallecidos, SUM(casos) AS casos, ROUND((CONVERT(FLOAT, SUM(fallecidos))/CONVERT(FLOAT,SUM(casos)))*100,2) AS letalidad\n",
    "FROM agrupacion_por_grupoetario_y_sexo\n",
    "GROUP BY grupo_etario;"
   ]
  },
  {
   "cell_type": "code",
   "execution_count": 30,
   "id": "f2eae189-2e48-40d6-a48f-be6fb4ee927e",
   "metadata": {},
   "outputs": [
    {
     "name": "stdout",
     "output_type": "stream",
     "text": [
      " * mssql://CAMILO-PCI5\\SQLEXPRESS/CovidColombia?driver=SQL+Server\n",
      "Done.\n"
     ]
    },
    {
     "data": {
      "text/html": [
       "<div>\n",
       "<style scoped>\n",
       "    .dataframe tbody tr th:only-of-type {\n",
       "        vertical-align: middle;\n",
       "    }\n",
       "\n",
       "    .dataframe tbody tr th {\n",
       "        vertical-align: top;\n",
       "    }\n",
       "\n",
       "    .dataframe thead th {\n",
       "        text-align: right;\n",
       "    }\n",
       "</style>\n",
       "<table border=\"1\" class=\"dataframe\">\n",
       "  <thead>\n",
       "    <tr style=\"text-align: right;\">\n",
       "      <th></th>\n",
       "      <th>grupo_etario</th>\n",
       "      <th>fallecidos</th>\n",
       "      <th>casos</th>\n",
       "      <th>letalidad</th>\n",
       "    </tr>\n",
       "  </thead>\n",
       "  <tbody>\n",
       "    <tr>\n",
       "      <th>0</th>\n",
       "      <td>0 - 04</td>\n",
       "      <td>110</td>\n",
       "      <td>77026</td>\n",
       "      <td>0.14</td>\n",
       "    </tr>\n",
       "    <tr>\n",
       "      <th>1</th>\n",
       "      <td>05 - 09</td>\n",
       "      <td>33</td>\n",
       "      <td>92442</td>\n",
       "      <td>0.04</td>\n",
       "    </tr>\n",
       "    <tr>\n",
       "      <th>2</th>\n",
       "      <td>10 - 19</td>\n",
       "      <td>164</td>\n",
       "      <td>373670</td>\n",
       "      <td>0.04</td>\n",
       "    </tr>\n",
       "    <tr>\n",
       "      <th>3</th>\n",
       "      <td>20 - 29</td>\n",
       "      <td>1458</td>\n",
       "      <td>1049332</td>\n",
       "      <td>0.14</td>\n",
       "    </tr>\n",
       "    <tr>\n",
       "      <th>4</th>\n",
       "      <td>30 - 39</td>\n",
       "      <td>4339</td>\n",
       "      <td>1106827</td>\n",
       "      <td>0.39</td>\n",
       "    </tr>\n",
       "    <tr>\n",
       "      <th>5</th>\n",
       "      <td>40 - 49</td>\n",
       "      <td>9689</td>\n",
       "      <td>836798</td>\n",
       "      <td>1.16</td>\n",
       "    </tr>\n",
       "    <tr>\n",
       "      <th>6</th>\n",
       "      <td>50 - 59</td>\n",
       "      <td>19227</td>\n",
       "      <td>679712</td>\n",
       "      <td>2.83</td>\n",
       "    </tr>\n",
       "    <tr>\n",
       "      <th>7</th>\n",
       "      <td>60 - 69</td>\n",
       "      <td>29770</td>\n",
       "      <td>407759</td>\n",
       "      <td>7.30</td>\n",
       "    </tr>\n",
       "    <tr>\n",
       "      <th>8</th>\n",
       "      <td>70 - 79</td>\n",
       "      <td>30979</td>\n",
       "      <td>198560</td>\n",
       "      <td>15.60</td>\n",
       "    </tr>\n",
       "    <tr>\n",
       "      <th>9</th>\n",
       "      <td>80 o más</td>\n",
       "      <td>29944</td>\n",
       "      <td>110872</td>\n",
       "      <td>27.01</td>\n",
       "    </tr>\n",
       "  </tbody>\n",
       "</table>\n",
       "</div>"
      ],
      "text/plain": [
       "  grupo_etario  fallecidos    casos  letalidad\n",
       "0       0 - 04         110    77026       0.14\n",
       "1      05 - 09          33    92442       0.04\n",
       "2      10 - 19         164   373670       0.04\n",
       "3      20 - 29        1458  1049332       0.14\n",
       "4      30 - 39        4339  1106827       0.39\n",
       "5      40 - 49        9689   836798       1.16\n",
       "6      50 - 59       19227   679712       2.83\n",
       "7      60 - 69       29770   407759       7.30\n",
       "8      70 - 79       30979   198560      15.60\n",
       "9     80 o más       29944   110872      27.01"
      ]
     },
     "execution_count": 30,
     "metadata": {},
     "output_type": "execute_result"
    }
   ],
   "source": [
    "#Cheking view and creating the dataframe:\n",
    "r3 = %sql SELECT * FROM letalidad_por_grupoetario ORDER BY grupo_etario\n",
    "df_r3 = r3.DataFrame()\n",
    "df_r3"
   ]
  },
  {
   "cell_type": "code",
   "execution_count": 31,
   "id": "9e31540e-0249-4ca6-af26-e72e9c96c08d",
   "metadata": {},
   "outputs": [
    {
     "data": {
      "image/png": "[encoded data removed]",
      "text/plain": [
       "<Figure size 360x288 with 1 Axes>"
      ]
     },
     "metadata": {
      "needs_background": "light"
     },
     "output_type": "display_data"
    }
   ],
   "source": [
    "#cases by age group\n",
    "plot3 = df_r3.plot.bar(x='grupo_etario', y='casos', figsize=(5,4))"
   ]
  },
  {
   "cell_type": "code",
   "execution_count": 32,
   "id": "04ea0f64-ccc7-4a16-87fb-ac291653c7e3",
   "metadata": {},
   "outputs": [
    {
     "data": {
      "image/png": "[encoded data removed]",
      "text/plain": [
       "<Figure size 360x288 with 1 Axes>"
      ]
     },
     "metadata": {
      "needs_background": "light"
     },
     "output_type": "display_data"
    }
   ],
   "source": [
    "#deaths by age group\n",
    "plot3_1 = df_r3.plot.bar(x='grupo_etario', y='fallecidos', figsize=(5,4), color = 'tab:red')"
   ]
  },
  {
   "cell_type": "markdown",
   "id": "d5014d0b-9c73-4ac2-9e7b-21d191d1aa82",
   "metadata": {},
   "source": [
    "- *What is the age group with the **highest fatality rate**?*"
   ]
  },
  {
   "cell_type": "code",
   "execution_count": 33,
   "id": "997eb0ab-45ee-43e2-8636-837556afbfb0",
   "metadata": {},
   "outputs": [
    {
     "name": "stdout",
     "output_type": "stream",
     "text": [
      " * mssql://CAMILO-PCI5\\SQLEXPRESS/CovidColombia?driver=SQL+Server\n",
      "Done.\n"
     ]
    },
    {
     "data": {
      "text/html": [
       "<table>\n",
       "    <tr>\n",
       "        <th>grupo_etario</th>\n",
       "        <th>fallecidos</th>\n",
       "        <th>casos</th>\n",
       "        <th>letalidad</th>\n",
       "    </tr>\n",
       "    <tr>\n",
       "        <td>80 o más</td>\n",
       "        <td>29944</td>\n",
       "        <td>110872</td>\n",
       "        <td>27.01</td>\n",
       "    </tr>\n",
       "</table>"
      ],
      "text/plain": [
       "[('80 o más', 29944, 110872, 27.01)]"
      ]
     },
     "execution_count": 33,
     "metadata": {},
     "output_type": "execute_result"
    }
   ],
   "source": [
    "%sql SELECT * FROM letalidad_por_grupoetario WHERE letalidad = (SELECT MAX(letalidad) FROM letalidad_por_grupoetario)"
   ]
  },
  {
   "cell_type": "markdown",
   "id": "6349e2dc-7b5e-4e06-8ffd-1cb598e8826c",
   "metadata": {},
   "source": [
    "- *What is the age group with the **lowest fatality rate**?*"
   ]
  },
  {
   "cell_type": "code",
   "execution_count": 34,
   "id": "7218bd50-8633-4eeb-81ef-b300e9baa08e",
   "metadata": {},
   "outputs": [
    {
     "name": "stdout",
     "output_type": "stream",
     "text": [
      " * mssql://CAMILO-PCI5\\SQLEXPRESS/CovidColombia?driver=SQL+Server\n",
      "Done.\n"
     ]
    },
    {
     "data": {
      "text/html": [
       "<table>\n",
       "    <tr>\n",
       "        <th>grupo_etario</th>\n",
       "        <th>fallecidos</th>\n",
       "        <th>casos</th>\n",
       "        <th>letalidad</th>\n",
       "    </tr>\n",
       "    <tr>\n",
       "        <td>05 - 09</td>\n",
       "        <td>33</td>\n",
       "        <td>92442</td>\n",
       "        <td>0.04</td>\n",
       "    </tr>\n",
       "    <tr>\n",
       "        <td>10 - 19</td>\n",
       "        <td>164</td>\n",
       "        <td>373670</td>\n",
       "        <td>0.04</td>\n",
       "    </tr>\n",
       "</table>"
      ],
      "text/plain": [
       "[('05 - 09', 33, 92442, 0.04), ('10 - 19', 164, 373670, 0.04)]"
      ]
     },
     "execution_count": 34,
     "metadata": {},
     "output_type": "execute_result"
    }
   ],
   "source": [
    "%sql SELECT * FROM letalidad_por_grupoetario WHERE letalidad = (SELECT MIN(letalidad) FROM letalidad_por_grupoetario);"
   ]
  },
  {
   "cell_type": "markdown",
   "id": "c19510e6-673c-476b-a01e-e45aa07c667d",
   "metadata": {},
   "source": [
    "> **Remarks:**\n",
    ">- *Within each age group, the gender with the highest latility rate is the Male, having a greater risk of death if they contract the disease.*\n",
    ">- *The age groups with the highest latality rate are the more advance ones: `60 - 69`, `70 - 79` and `80 o más` with 7.3%, 15.6% and 27.1% respectively.*\n",
    ">- *The fatality rate of these groups is quite high compared with the general rate that is 2.55%.*\n",
    ">- *It is shown that we cannot use the general fatality rate as a comparable measure for all age groups.*"
   ]
  },
  {
   "cell_type": "markdown",
   "id": "f882939a-a626-4df6-93ba-f1b219f6fce3",
   "metadata": {},
   "source": [
    "---\n",
    "#### Effect of vaccines on Fatality Rate\n",
    "Next, we will study how the fatality rate of each age group has evolved from month to month since the start of the pandemic. We will focus primarily on comparing the behavior of this measure before and after the start of vaccination in February 2021. We will see if there is any positive effect by reducing mortality for each age group."
   ]
  },
  {
   "cell_type": "markdown",
   "id": "67717fb3-40e7-4967-b272-832524e0947a",
   "metadata": {},
   "source": [
    "- *Grouping Cases and Deaths by **Month** and **Age group**:*"
   ]
  },
  {
   "cell_type": "code",
   "execution_count": 35,
   "id": "1efaa877-9e89-4e13-840f-660ab1296432",
   "metadata": {
    "tags": []
   },
   "outputs": [
    {
     "name": "stdout",
     "output_type": "stream",
     "text": [
      " * mssql://CAMILO-PCI5\\SQLEXPRESS/CovidColombia?driver=SQL+Server\n",
      "Done.\n"
     ]
    },
    {
     "data": {
      "text/html": [
       "<table>\n",
       "    <tr>\n",
       "        <th>año</th>\n",
       "        <th>mes</th>\n",
       "        <th>grupo_etario</th>\n",
       "        <th>fallecidos</th>\n",
       "        <th>casos</th>\n",
       "    </tr>\n",
       "    <tr>\n",
       "        <td>2021</td>\n",
       "        <td>5</td>\n",
       "        <td>50 - 59</td>\n",
       "        <td>2864</td>\n",
       "        <td>84982</td>\n",
       "    </tr>\n",
       "    <tr>\n",
       "        <td>2020</td>\n",
       "        <td>6</td>\n",
       "        <td>80 o más</td>\n",
       "        <td>770</td>\n",
       "        <td>1871</td>\n",
       "    </tr>\n",
       "    <tr>\n",
       "        <td>2021</td>\n",
       "        <td>6</td>\n",
       "        <td>40 - 49</td>\n",
       "        <td>2085</td>\n",
       "        <td>151771</td>\n",
       "    </tr>\n",
       "    <tr>\n",
       "        <td>2020</td>\n",
       "        <td>10</td>\n",
       "        <td>70 - 79</td>\n",
       "        <td>1479</td>\n",
       "        <td>10468</td>\n",
       "    </tr>\n",
       "    <tr>\n",
       "        <td>2021</td>\n",
       "        <td>7</td>\n",
       "        <td>70 - 79</td>\n",
       "        <td>2733</td>\n",
       "        <td>19014</td>\n",
       "    </tr>\n",
       "</table>"
      ],
      "text/plain": [
       "[(2021, 5, '50 - 59', 2864, 84982),\n",
       " (2020, 6, '80 o más', 770, 1871),\n",
       " (2021, 6, '40 - 49', 2085, 151771),\n",
       " (2020, 10, '70 - 79', 1479, 10468),\n",
       " (2021, 7, '70 - 79', 2733, 19014)]"
      ]
     },
     "execution_count": 35,
     "metadata": {},
     "output_type": "execute_result"
    }
   ],
   "source": [
    "%%sql\n",
    "--CREATE VIEW agrupacion_por_mes_y_grupoetario AS\n",
    "WITH CTE3_casos (año, mes, grupo_etario, casos) AS (\n",
    "      SELECT YEAR(fecha_reporte_web) AS año, MONTH(fecha_reporte_web) AS mes, grupo_etario, COUNT(fecha_reporte_web) AS casos\n",
    "      FROM Casos_con_grupo_etario\n",
    "      GROUP BY YEAR(fecha_reporte_web), MONTH(fecha_reporte_web), grupo_etario\n",
    "      ),\n",
    "    CTE4_muertes (año, mes, grupo_etario, fallecidos) AS (\n",
    "      SELECT YEAR(fecha_muerte) AS año, MONTH(fecha_muerte) AS mes, grupo_etario, COUNT(fecha_muerte) AS fallecidos\n",
    "      FROM Casos_con_grupo_etario\n",
    "      GROUP BY YEAR(fecha_muerte), MONTH(fecha_muerte), grupo_etario, estado\n",
    "      HAVING estado = 'Fallecido'\n",
    "      )\n",
    "SELECT TOP 5 c.año, c.mes, c.grupo_etario, fallecidos, casos\n",
    "FROM CTE3_casos c\n",
    "LEFT JOIN CTE4_muertes m ON c.año = m.año AND c.mes = m.mes AND c.grupo_etario = m.grupo_etario"
   ]
  },
  {
   "cell_type": "markdown",
   "id": "52a0a44f-1506-4b0f-b6ab-effe1c4bbb83",
   "metadata": {},
   "source": [
    "- *Calculating general Fatality Rate by **Month**:*"
   ]
  },
  {
   "cell_type": "code",
   "execution_count": 36,
   "id": "d929a03e-9552-4bb3-9a3c-c4988130d62b",
   "metadata": {},
   "outputs": [
    {
     "name": "stdout",
     "output_type": "stream",
     "text": [
      " * mssql://CAMILO-PCI5\\SQLEXPRESS/CovidColombia?driver=SQL+Server\n",
      "Done.\n",
      "Returning data to local variable r4\n"
     ]
    }
   ],
   "source": [
    "%%sql r4 <<\n",
    "SELECT CONCAT(año,'-', mes) AS año_mes, SUM(fallecidos) AS fallecidos, SUM(casos) AS casos, ROUND((CONVERT(FLOAT, SUM(fallecidos))/CONVERT(FLOAT,SUM(casos)))*100,2) AS letalidad\n",
    "FROM agrupacion_por_mes_y_grupoetario\n",
    "GROUP BY año, mes\n",
    "ORDER BY año, mes"
   ]
  },
  {
   "cell_type": "code",
   "execution_count": 37,
   "id": "1fc9bcf4-5c14-46dd-ae6b-88d599fc8562",
   "metadata": {},
   "outputs": [
    {
     "data": {
      "text/html": [
       "<div>\n",
       "<style scoped>\n",
       "    .dataframe tbody tr th:only-of-type {\n",
       "        vertical-align: middle;\n",
       "    }\n",
       "\n",
       "    .dataframe tbody tr th {\n",
       "        vertical-align: top;\n",
       "    }\n",
       "\n",
       "    .dataframe thead th {\n",
       "        text-align: right;\n",
       "    }\n",
       "</style>\n",
       "<table border=\"1\" class=\"dataframe\">\n",
       "  <thead>\n",
       "    <tr style=\"text-align: right;\">\n",
       "      <th></th>\n",
       "      <th>año_mes</th>\n",
       "      <th>fallecidos</th>\n",
       "      <th>casos</th>\n",
       "      <th>letalidad</th>\n",
       "    </tr>\n",
       "  </thead>\n",
       "  <tbody>\n",
       "    <tr>\n",
       "      <th>0</th>\n",
       "      <td>2020-3</td>\n",
       "      <td>32</td>\n",
       "      <td>905</td>\n",
       "      <td>3.54</td>\n",
       "    </tr>\n",
       "    <tr>\n",
       "      <th>1</th>\n",
       "      <td>2020-4</td>\n",
       "      <td>331</td>\n",
       "      <td>5560</td>\n",
       "      <td>5.95</td>\n",
       "    </tr>\n",
       "    <tr>\n",
       "      <th>2</th>\n",
       "      <td>2020-5</td>\n",
       "      <td>873</td>\n",
       "      <td>22917</td>\n",
       "      <td>3.81</td>\n",
       "    </tr>\n",
       "    <tr>\n",
       "      <th>3</th>\n",
       "      <td>2020-6</td>\n",
       "      <td>3119</td>\n",
       "      <td>68471</td>\n",
       "      <td>4.56</td>\n",
       "    </tr>\n",
       "    <tr>\n",
       "      <th>4</th>\n",
       "      <td>2020-7</td>\n",
       "      <td>7685</td>\n",
       "      <td>197663</td>\n",
       "      <td>3.89</td>\n",
       "    </tr>\n",
       "    <tr>\n",
       "      <th>5</th>\n",
       "      <td>2020-8</td>\n",
       "      <td>8971</td>\n",
       "      <td>319661</td>\n",
       "      <td>2.81</td>\n",
       "    </tr>\n",
       "    <tr>\n",
       "      <th>6</th>\n",
       "      <td>2020-9</td>\n",
       "      <td>5746</td>\n",
       "      <td>214510</td>\n",
       "      <td>2.68</td>\n",
       "    </tr>\n",
       "    <tr>\n",
       "      <th>7</th>\n",
       "      <td>2020-10</td>\n",
       "      <td>5344</td>\n",
       "      <td>244502</td>\n",
       "      <td>2.19</td>\n",
       "    </tr>\n",
       "    <tr>\n",
       "      <th>8</th>\n",
       "      <td>2020-11</td>\n",
       "      <td>5414</td>\n",
       "      <td>242662</td>\n",
       "      <td>2.23</td>\n",
       "    </tr>\n",
       "    <tr>\n",
       "      <th>9</th>\n",
       "      <td>2020-12</td>\n",
       "      <td>6793</td>\n",
       "      <td>325951</td>\n",
       "      <td>2.08</td>\n",
       "    </tr>\n",
       "    <tr>\n",
       "      <th>10</th>\n",
       "      <td>2021-1</td>\n",
       "      <td>11007</td>\n",
       "      <td>452096</td>\n",
       "      <td>2.43</td>\n",
       "    </tr>\n",
       "    <tr>\n",
       "      <th>11</th>\n",
       "      <td>2021-2</td>\n",
       "      <td>5187</td>\n",
       "      <td>156794</td>\n",
       "      <td>3.31</td>\n",
       "    </tr>\n",
       "    <tr>\n",
       "      <th>12</th>\n",
       "      <td>2021-3</td>\n",
       "      <td>3650</td>\n",
       "      <td>154685</td>\n",
       "      <td>2.36</td>\n",
       "    </tr>\n",
       "    <tr>\n",
       "      <th>13</th>\n",
       "      <td>2021-4</td>\n",
       "      <td>11215</td>\n",
       "      <td>453336</td>\n",
       "      <td>2.47</td>\n",
       "    </tr>\n",
       "    <tr>\n",
       "      <th>14</th>\n",
       "      <td>2021-5</td>\n",
       "      <td>15328</td>\n",
       "      <td>546742</td>\n",
       "      <td>2.80</td>\n",
       "    </tr>\n",
       "    <tr>\n",
       "      <th>15</th>\n",
       "      <td>2021-6</td>\n",
       "      <td>17902</td>\n",
       "      <td>834525</td>\n",
       "      <td>2.15</td>\n",
       "    </tr>\n",
       "    <tr>\n",
       "      <th>16</th>\n",
       "      <td>2021-7</td>\n",
       "      <td>13013</td>\n",
       "      <td>544340</td>\n",
       "      <td>2.39</td>\n",
       "    </tr>\n",
       "    <tr>\n",
       "      <th>17</th>\n",
       "      <td>2021-8</td>\n",
       "      <td>3603</td>\n",
       "      <td>123766</td>\n",
       "      <td>2.91</td>\n",
       "    </tr>\n",
       "    <tr>\n",
       "      <th>18</th>\n",
       "      <td>2021-9</td>\n",
       "      <td>500</td>\n",
       "      <td>23912</td>\n",
       "      <td>2.09</td>\n",
       "    </tr>\n",
       "  </tbody>\n",
       "</table>\n",
       "</div>"
      ],
      "text/plain": [
       "    año_mes  fallecidos   casos  letalidad\n",
       "0    2020-3          32     905       3.54\n",
       "1    2020-4         331    5560       5.95\n",
       "2    2020-5         873   22917       3.81\n",
       "3    2020-6        3119   68471       4.56\n",
       "4    2020-7        7685  197663       3.89\n",
       "5    2020-8        8971  319661       2.81\n",
       "6    2020-9        5746  214510       2.68\n",
       "7   2020-10        5344  244502       2.19\n",
       "8   2020-11        5414  242662       2.23\n",
       "9   2020-12        6793  325951       2.08\n",
       "10   2021-1       11007  452096       2.43\n",
       "11   2021-2        5187  156794       3.31\n",
       "12   2021-3        3650  154685       2.36\n",
       "13   2021-4       11215  453336       2.47\n",
       "14   2021-5       15328  546742       2.80\n",
       "15   2021-6       17902  834525       2.15\n",
       "16   2021-7       13013  544340       2.39\n",
       "17   2021-8        3603  123766       2.91\n",
       "18   2021-9         500   23912       2.09"
      ]
     },
     "execution_count": 37,
     "metadata": {},
     "output_type": "execute_result"
    }
   ],
   "source": [
    "df_r4 = r4.DataFrame()\n",
    "df_r4"
   ]
  },
  {
   "cell_type": "code",
   "execution_count": 38,
   "id": "7f9dd116-27d1-4b59-83f8-a052c0a66192",
   "metadata": {},
   "outputs": [
    {
     "data": {
      "text/plain": [
       "<function matplotlib.pyplot.show(close=None, block=None)>"
      ]
     },
     "execution_count": 38,
     "metadata": {},
     "output_type": "execute_result"
    },
    {
     "data": {
      "image/png": "[encoded data removed]",
      "text/plain": [
       "<Figure size 1080x288 with 1 Axes>"
      ]
     },
     "metadata": {
      "needs_background": "light"
     },
     "output_type": "display_data"
    }
   ],
   "source": [
    "plt.figure(figsize=(15,4))\n",
    "plot = sns.lineplot(x='año_mes', y='letalidad', data = df_r4, color='royalblue')\n",
    "plt.xticks(rotation=30)\n",
    "plt.vlines(11, 1.7,6, linestyles=\"dashed\", colors=\"black\")\n",
    "plt.ylabel('Fatality rate (%)')\n",
    "plt.xlabel('Year-Month')\n",
    "plt.show"
   ]
  },
  {
   "cell_type": "markdown",
   "id": "412b77e3-4303-4a1a-96fe-d61ba18d4e7a",
   "metadata": {},
   "source": [
    "- *Calculating Fatality Rate by **Month** and **Age Group**:*"
   ]
  },
  {
   "cell_type": "code",
   "execution_count": 39,
   "id": "2427a494-9bdb-41c9-953b-d8ffec6f4aea",
   "metadata": {
    "tags": []
   },
   "outputs": [
    {
     "name": "stdout",
     "output_type": "stream",
     "text": [
      " * mssql://CAMILO-PCI5\\SQLEXPRESS/CovidColombia?driver=SQL+Server\n",
      "Done.\n",
      "Returning data to local variable r5\n"
     ]
    }
   ],
   "source": [
    "%%sql r5 <<\n",
    "--CREATE VIEW letalidad_por_grupoetario_por_mes AS\n",
    "SELECT año, mes, CONCAT(año,'-', mes) AS año_mes, grupo_etario, fallecidos, casos, ROUND((CONVERT(FLOAT, fallecidos)/CONVERT(FLOAT,casos))*100,2) AS letalidad\n",
    "FROM agrupacion_por_mes_y_grupoetario\n",
    "ORDER BY año, mes, grupo_etario"
   ]
  },
  {
   "cell_type": "code",
   "execution_count": 40,
   "id": "537ef417-90e0-4389-aa53-c28f5d410dda",
   "metadata": {},
   "outputs": [
    {
     "data": {
      "text/html": [
       "<div>\n",
       "<style scoped>\n",
       "    .dataframe tbody tr th:only-of-type {\n",
       "        vertical-align: middle;\n",
       "    }\n",
       "\n",
       "    .dataframe tbody tr th {\n",
       "        vertical-align: top;\n",
       "    }\n",
       "\n",
       "    .dataframe thead th {\n",
       "        text-align: right;\n",
       "    }\n",
       "</style>\n",
       "<table border=\"1\" class=\"dataframe\">\n",
       "  <thead>\n",
       "    <tr style=\"text-align: right;\">\n",
       "      <th></th>\n",
       "      <th>año_mes</th>\n",
       "      <th>grupo_etario</th>\n",
       "      <th>fallecidos</th>\n",
       "      <th>casos</th>\n",
       "      <th>letalidad</th>\n",
       "    </tr>\n",
       "  </thead>\n",
       "  <tbody>\n",
       "    <tr>\n",
       "      <th>0</th>\n",
       "      <td>2020-3</td>\n",
       "      <td>0 - 04</td>\n",
       "      <td>1.0</td>\n",
       "      <td>7</td>\n",
       "      <td>14.29</td>\n",
       "    </tr>\n",
       "    <tr>\n",
       "      <th>1</th>\n",
       "      <td>2020-3</td>\n",
       "      <td>05 - 09</td>\n",
       "      <td>NaN</td>\n",
       "      <td>7</td>\n",
       "      <td>NaN</td>\n",
       "    </tr>\n",
       "    <tr>\n",
       "      <th>2</th>\n",
       "      <td>2020-3</td>\n",
       "      <td>10 - 19</td>\n",
       "      <td>1.0</td>\n",
       "      <td>31</td>\n",
       "      <td>3.23</td>\n",
       "    </tr>\n",
       "    <tr>\n",
       "      <th>3</th>\n",
       "      <td>2020-3</td>\n",
       "      <td>20 - 29</td>\n",
       "      <td>2.0</td>\n",
       "      <td>195</td>\n",
       "      <td>1.03</td>\n",
       "    </tr>\n",
       "    <tr>\n",
       "      <th>4</th>\n",
       "      <td>2020-3</td>\n",
       "      <td>30 - 39</td>\n",
       "      <td>4.0</td>\n",
       "      <td>208</td>\n",
       "      <td>1.92</td>\n",
       "    </tr>\n",
       "    <tr>\n",
       "      <th>...</th>\n",
       "      <td>...</td>\n",
       "      <td>...</td>\n",
       "      <td>...</td>\n",
       "      <td>...</td>\n",
       "      <td>...</td>\n",
       "    </tr>\n",
       "    <tr>\n",
       "      <th>185</th>\n",
       "      <td>2021-9</td>\n",
       "      <td>40 - 49</td>\n",
       "      <td>32.0</td>\n",
       "      <td>3632</td>\n",
       "      <td>0.88</td>\n",
       "    </tr>\n",
       "    <tr>\n",
       "      <th>186</th>\n",
       "      <td>2021-9</td>\n",
       "      <td>50 - 59</td>\n",
       "      <td>57.0</td>\n",
       "      <td>2576</td>\n",
       "      <td>2.21</td>\n",
       "    </tr>\n",
       "    <tr>\n",
       "      <th>187</th>\n",
       "      <td>2021-9</td>\n",
       "      <td>60 - 69</td>\n",
       "      <td>95.0</td>\n",
       "      <td>1713</td>\n",
       "      <td>5.55</td>\n",
       "    </tr>\n",
       "    <tr>\n",
       "      <th>188</th>\n",
       "      <td>2021-9</td>\n",
       "      <td>70 - 79</td>\n",
       "      <td>131.0</td>\n",
       "      <td>1075</td>\n",
       "      <td>12.19</td>\n",
       "    </tr>\n",
       "    <tr>\n",
       "      <th>189</th>\n",
       "      <td>2021-9</td>\n",
       "      <td>80 o más</td>\n",
       "      <td>155.0</td>\n",
       "      <td>672</td>\n",
       "      <td>23.07</td>\n",
       "    </tr>\n",
       "  </tbody>\n",
       "</table>\n",
       "<p>190 rows × 5 columns</p>\n",
       "</div>"
      ],
      "text/plain": [
       "    año_mes grupo_etario  fallecidos  casos  letalidad\n",
       "0    2020-3       0 - 04         1.0      7      14.29\n",
       "1    2020-3      05 - 09         NaN      7        NaN\n",
       "2    2020-3      10 - 19         1.0     31       3.23\n",
       "3    2020-3      20 - 29         2.0    195       1.03\n",
       "4    2020-3      30 - 39         4.0    208       1.92\n",
       "..      ...          ...         ...    ...        ...\n",
       "185  2021-9      40 - 49        32.0   3632       0.88\n",
       "186  2021-9      50 - 59        57.0   2576       2.21\n",
       "187  2021-9      60 - 69        95.0   1713       5.55\n",
       "188  2021-9      70 - 79       131.0   1075      12.19\n",
       "189  2021-9     80 o más       155.0    672      23.07\n",
       "\n",
       "[190 rows x 5 columns]"
      ]
     },
     "execution_count": 40,
     "metadata": {},
     "output_type": "execute_result"
    }
   ],
   "source": [
    "#Creating the dataframe:\n",
    "df_5 = r5.DataFrame()\n",
    "df_5.iloc[:,2:]"
   ]
  },
  {
   "cell_type": "markdown",
   "id": "f309dd03-501e-44fc-a626-adee92be6355",
   "metadata": {},
   "source": [
    "- *Ploting Fatality Rate by **Month** and **Age Group**:*"
   ]
  },
  {
   "cell_type": "code",
   "execution_count": 41,
   "id": "2e135443-052a-4d2b-8a19-420227d778b3",
   "metadata": {},
   "outputs": [
    {
     "data": {
      "text/plain": [
       "<function matplotlib.pyplot.show(close=None, block=None)>"
      ]
     },
     "execution_count": 41,
     "metadata": {},
     "output_type": "execute_result"
    },
    {
     "data": {
      "image/png": "[encoded data removed]",
      "text/plain": [
       "<Figure size 1080x504 with 1 Axes>"
      ]
     },
     "metadata": {
      "needs_background": "light"
     },
     "output_type": "display_data"
    }
   ],
   "source": [
    "plt.figure(figsize=(15,7))\n",
    "plot = sns.lineplot(x='año_mes', y='letalidad', hue='grupo_etario', data=df_5)\n",
    "plt.xticks(rotation=30)\n",
    "plt.show"
   ]
  },
  {
   "cell_type": "markdown",
   "id": "9b751431-fb50-4ea2-85e3-caec4cc2523b",
   "metadata": {},
   "source": [
    ">**Remarks:**\n",
    "> - *During the first five months the general fatality rate remains is very high. It begins to stabilize at values between 2% and 3% from month 08-2020.*\n",
    "> - *If we analyze from 08-2020 to 09-2021, it it hard to say that there is a significant difference before and after the start vaccination at leats at this level of granularity.*\n",
    "> - *A downward trend in fatality is observed reaching 2.03% in 09-2021 which is the lowest value in the entire pandemic.*\n",
    "> - *We must take a closer look at the data and analyze the behavior of the fatality rate week by week*"
   ]
  },
  {
   "cell_type": "markdown",
   "id": "e1b32cec-1fee-4ad3-bb1f-6a2f81c8a76f",
   "metadata": {},
   "source": [
    "---\n",
    "#### Effect of vaccines on Fatality Rate - Weekly Detail\n",
    "Due to the lack of details we got from month to month, we are going to study how the fatality rate has evolved from **week to week**. Againg, we will focus primarily on comparing fatality rate  before and after the start of vaccination (Feb 2021), but also how is the **behaviour of this measure related with the number of vaccines dosed every week**. We will see if there is any positive effect by reducing fatality rate for each age group."
   ]
  },
  {
   "cell_type": "code",
   "execution_count": 42,
   "id": "47629c91-87e0-4558-81ee-486f9e60a689",
   "metadata": {},
   "outputs": [
    {
     "name": "stdout",
     "output_type": "stream",
     "text": [
      " * mssql://CAMILO-PCI5\\SQLEXPRESS/CovidColombia?driver=SQL+Server\n",
      "Done.\n",
      "Returning data to local variable r6\n"
     ]
    }
   ],
   "source": [
    "%%sql r6 <<\n",
    "WITH CTE5_casos (año, semana, casos) AS (\n",
    "      SELECT YEAR(fecha_reporte_web) AS año, DATEPART(WEEK,fecha_reporte_web), COUNT(fecha_reporte_web) AS casos\n",
    "      FROM Casos_con_grupo_etario\n",
    "      GROUP BY YEAR(fecha_reporte_web), DATEPART(WEEK,fecha_reporte_web)\n",
    "      ),\n",
    "    CTE6_muertes (año, semana, fallecidos) AS (\n",
    "      SELECT YEAR(fecha_muerte) AS año, DATEPART(WEEK,fecha_reporte_web), COUNT(fecha_muerte) AS fallecidos\n",
    "      FROM Casos_con_grupo_etario\n",
    "      GROUP BY YEAR(fecha_muerte), DATEPART(WEEK,fecha_reporte_web), estado\n",
    "      HAVING estado = 'Fallecido'\n",
    "      )\n",
    "SELECT c.año, c.semana, fallecidos, casos\n",
    "FROM CTE5_casos c\n",
    "LEFT JOIN CTE6_muertes m ON c.año = m.año AND c.semana = m.semana\n",
    "ORDER BY año, semana"
   ]
  },
  {
   "cell_type": "code",
   "execution_count": 43,
   "id": "2d6e65bb-146e-429f-b9e0-154d57234988",
   "metadata": {},
   "outputs": [
    {
     "data": {
      "text/html": [
       "<div>\n",
       "<style scoped>\n",
       "    .dataframe tbody tr th:only-of-type {\n",
       "        vertical-align: middle;\n",
       "    }\n",
       "\n",
       "    .dataframe tbody tr th {\n",
       "        vertical-align: top;\n",
       "    }\n",
       "\n",
       "    .dataframe thead th {\n",
       "        text-align: right;\n",
       "    }\n",
       "</style>\n",
       "<table border=\"1\" class=\"dataframe\">\n",
       "  <thead>\n",
       "    <tr style=\"text-align: right;\">\n",
       "      <th></th>\n",
       "      <th>año</th>\n",
       "      <th>semana</th>\n",
       "      <th>fallecidos</th>\n",
       "      <th>casos</th>\n",
       "      <th>letalidad</th>\n",
       "      <th>año-semana</th>\n",
       "    </tr>\n",
       "  </thead>\n",
       "  <tbody>\n",
       "    <tr>\n",
       "      <th>0</th>\n",
       "      <td>2020</td>\n",
       "      <td>10</td>\n",
       "      <td>5</td>\n",
       "      <td>1</td>\n",
       "      <td>500.00</td>\n",
       "      <td>2020-10</td>\n",
       "    </tr>\n",
       "    <tr>\n",
       "      <th>1</th>\n",
       "      <td>2020</td>\n",
       "      <td>11</td>\n",
       "      <td>7</td>\n",
       "      <td>36</td>\n",
       "      <td>19.44</td>\n",
       "      <td>2020-11</td>\n",
       "    </tr>\n",
       "    <tr>\n",
       "      <th>2</th>\n",
       "      <td>2020</td>\n",
       "      <td>12</td>\n",
       "      <td>11</td>\n",
       "      <td>175</td>\n",
       "      <td>6.29</td>\n",
       "      <td>2020-12</td>\n",
       "    </tr>\n",
       "    <tr>\n",
       "      <th>3</th>\n",
       "      <td>2020</td>\n",
       "      <td>13</td>\n",
       "      <td>25</td>\n",
       "      <td>396</td>\n",
       "      <td>6.31</td>\n",
       "      <td>2020-13</td>\n",
       "    </tr>\n",
       "    <tr>\n",
       "      <th>4</th>\n",
       "      <td>2020</td>\n",
       "      <td>14</td>\n",
       "      <td>56</td>\n",
       "      <td>798</td>\n",
       "      <td>7.02</td>\n",
       "      <td>2020-14</td>\n",
       "    </tr>\n",
       "    <tr>\n",
       "      <th>...</th>\n",
       "      <td>...</td>\n",
       "      <td>...</td>\n",
       "      <td>...</td>\n",
       "      <td>...</td>\n",
       "      <td>...</td>\n",
       "      <td>...</td>\n",
       "    </tr>\n",
       "    <tr>\n",
       "      <th>77</th>\n",
       "      <td>2021</td>\n",
       "      <td>34</td>\n",
       "      <td>404</td>\n",
       "      <td>22268</td>\n",
       "      <td>1.81</td>\n",
       "      <td>2021-34</td>\n",
       "    </tr>\n",
       "    <tr>\n",
       "      <th>78</th>\n",
       "      <td>2021</td>\n",
       "      <td>35</td>\n",
       "      <td>308</td>\n",
       "      <td>16407</td>\n",
       "      <td>1.88</td>\n",
       "      <td>2021-35</td>\n",
       "    </tr>\n",
       "    <tr>\n",
       "      <th>79</th>\n",
       "      <td>2021</td>\n",
       "      <td>36</td>\n",
       "      <td>182</td>\n",
       "      <td>13676</td>\n",
       "      <td>1.33</td>\n",
       "      <td>2021-36</td>\n",
       "    </tr>\n",
       "    <tr>\n",
       "      <th>80</th>\n",
       "      <td>2021</td>\n",
       "      <td>37</td>\n",
       "      <td>147</td>\n",
       "      <td>11598</td>\n",
       "      <td>1.27</td>\n",
       "      <td>2021-37</td>\n",
       "    </tr>\n",
       "    <tr>\n",
       "      <th>81</th>\n",
       "      <td>2021</td>\n",
       "      <td>38</td>\n",
       "      <td>41</td>\n",
       "      <td>4420</td>\n",
       "      <td>0.93</td>\n",
       "      <td>2021-38</td>\n",
       "    </tr>\n",
       "  </tbody>\n",
       "</table>\n",
       "<p>82 rows × 6 columns</p>\n",
       "</div>"
      ],
      "text/plain": [
       "     año  semana  fallecidos  casos  letalidad año-semana\n",
       "0   2020      10           5      1     500.00    2020-10\n",
       "1   2020      11           7     36      19.44    2020-11\n",
       "2   2020      12          11    175       6.29    2020-12\n",
       "3   2020      13          25    396       6.31    2020-13\n",
       "4   2020      14          56    798       7.02    2020-14\n",
       "..   ...     ...         ...    ...        ...        ...\n",
       "77  2021      34         404  22268       1.81    2021-34\n",
       "78  2021      35         308  16407       1.88    2021-35\n",
       "79  2021      36         182  13676       1.33    2021-36\n",
       "80  2021      37         147  11598       1.27    2021-37\n",
       "81  2021      38          41   4420       0.93    2021-38\n",
       "\n",
       "[82 rows x 6 columns]"
      ]
     },
     "execution_count": 43,
     "metadata": {},
     "output_type": "execute_result"
    }
   ],
   "source": [
    "df_r6 = r6.DataFrame()\n",
    "df_r6['letalidad'] = round((df_r6.fallecidos/df_r6.casos)*100,2)\n",
    "df_r6['año-semana'] = df_r6.año.astype(str)+'-'+df_r6.semana.astype(str)\n",
    "df_r6"
   ]
  },
  {
   "cell_type": "markdown",
   "id": "0f221121-ebe4-45d7-b8d2-b54aa4aa1fce",
   "metadata": {},
   "source": [
    "- *Average change in the last two months:* "
   ]
  },
  {
   "cell_type": "code",
   "execution_count": 44,
   "id": "56eaff69-1189-40b5-a9b6-cadb0c746bf6",
   "metadata": {},
   "outputs": [
    {
     "data": {
      "text/plain": [
       "28.06"
      ]
     },
     "execution_count": 44,
     "metadata": {},
     "output_type": "execute_result"
    }
   ],
   "source": [
    "round(100-(df_r6.letalidad[78:].mean()/df_r6.letalidad[74:78].mean())*100,2)"
   ]
  },
  {
   "cell_type": "markdown",
   "id": "fafcd23d-232c-4d2f-91cd-77ad1f42f32f",
   "metadata": {},
   "source": [
    "- *Ploting Fatality Rate and Deaths by **Week**:*  \n",
    "We plot from week 3 due to the few records per week that were obtained during the first two weeks."
   ]
  },
  {
   "cell_type": "code",
   "execution_count": 45,
   "id": "77429cf4-88e4-458f-9285-6bf42ca7aecc",
   "metadata": {},
   "outputs": [
    {
     "data": {
      "text/plain": [
       "<function matplotlib.pyplot.show(close=None, block=None)>"
      ]
     },
     "execution_count": 45,
     "metadata": {},
     "output_type": "execute_result"
    },
    {
     "data": {
      "image/png": "[encoded data removed]",
      "text/plain": [
       "<Figure size 1080x360 with 2 Axes>"
      ]
     },
     "metadata": {
      "needs_background": "light"
     },
     "output_type": "display_data"
    }
   ],
   "source": [
    "plt.figure(figsize=(15,5))\n",
    "\n",
    "plt.ylabel('Fatality rate (%)')\n",
    "plt.xlabel('Year-Week')\n",
    "plt.xticks(rotation=45)\n",
    "plt.vlines(48, 0,8, linestyles=\"dashed\", colors=\"black\")\n",
    "\n",
    "sns.lineplot(x=df_r6['año-semana'][3:], y='letalidad', data=df_r6[3:], ci = None, color = 'royalblue')\n",
    "ax2 = plt.twinx()\n",
    "sns.barplot(x=df_r6['año-semana'][3:], y='fallecidos', data=df_r6[3:], color = 'tab:red', ci = None, alpha=0.1, ax=ax2,)\n",
    "\n",
    "plt.ylabel('Deaths')\n",
    "#plt.xticks(np.arange(0,80,1), [i if i in range(0,80,2) else '' for i in range(80)])\n",
    "x = np.random.randint(low=0, high=50, size=80)\n",
    "plt.xticks(np.arange(0, len(x)+1, 3))\n",
    "plt.show"
   ]
  },
  {
   "cell_type": "markdown",
   "id": "f0984290-6483-4183-b352-b3643a53b347",
   "metadata": {},
   "source": [
    "- *Grouping by **Age Group** and **Week**:* "
   ]
  },
  {
   "cell_type": "code",
   "execution_count": 46,
   "id": "b7177388-758a-4ecb-97cb-2cc43ed746e7",
   "metadata": {},
   "outputs": [
    {
     "name": "stdout",
     "output_type": "stream",
     "text": [
      " * mssql://CAMILO-PCI5\\SQLEXPRESS/CovidColombia?driver=SQL+Server\n",
      "Done.\n",
      "Returning data to local variable r7\n"
     ]
    }
   ],
   "source": [
    "%%sql r7 <<\n",
    "WITH CTE5_casos (año, semana, grupo_etario, casos) AS (\n",
    "      SELECT YEAR(fecha_reporte_web) AS año, DATEPART(WEEK,fecha_reporte_web) AS semana, grupo_etario, COUNT(fecha_reporte_web) AS casos\n",
    "      FROM Casos_con_grupo_etario\n",
    "      GROUP BY YEAR(fecha_reporte_web), DATEPART(WEEK,fecha_reporte_web), grupo_etario\n",
    "      ),\n",
    "    CTE6_muertes (año, semana, grupo_etario, fallecidos) AS (\n",
    "      SELECT YEAR(fecha_muerte) AS año, DATEPART(WEEK,fecha_reporte_web) AS semana, grupo_etario, COUNT(fecha_muerte) AS fallecidos\n",
    "      FROM Casos_con_grupo_etario\n",
    "      GROUP BY YEAR(fecha_muerte), DATEPART(WEEK,fecha_reporte_web), grupo_etario, estado\n",
    "      HAVING estado = 'Fallecido'\n",
    "      )\n",
    "SELECT c.año, c.semana, c.grupo_etario, fallecidos, casos\n",
    "FROM CTE5_casos c\n",
    "LEFT JOIN CTE6_muertes m ON c.año = m.año AND c.semana = m.semana AND c.grupo_etario = m.grupo_etario\n",
    "ORDER BY año, semana, grupo_etario"
   ]
  },
  {
   "cell_type": "code",
   "execution_count": 47,
   "id": "5a0c5fec-d67d-424b-9ad4-c5c60a860256",
   "metadata": {},
   "outputs": [
    {
     "name": "stdout",
     "output_type": "stream",
     "text": [
      "<class 'pandas.core.frame.DataFrame'>\n",
      "RangeIndex: 808 entries, 0 to 807\n",
      "Data columns (total 5 columns):\n",
      " #   Column        Non-Null Count  Dtype  \n",
      "---  ------        --------------  -----  \n",
      " 0   año           808 non-null    int64  \n",
      " 1   semana        808 non-null    int64  \n",
      " 2   grupo_etario  808 non-null    object \n",
      " 3   fallecidos    691 non-null    float64\n",
      " 4   casos         808 non-null    int64  \n",
      "dtypes: float64(1), int64(3), object(1)\n",
      "memory usage: 31.7+ KB\n"
     ]
    }
   ],
   "source": [
    "df_r7 = r7.DataFrame()\n",
    "df_r7.info()"
   ]
  },
  {
   "cell_type": "code",
   "execution_count": 48,
   "id": "9b5fe08f-57ce-40d5-a383-733a4918e9e6",
   "metadata": {},
   "outputs": [],
   "source": [
    "df_r7['año-semana'] = df_r7.año.astype(str)+'-'+df_r7.semana.astype(str)\n",
    "df_r7['letalidad'] = round((df_r7.fallecidos/df_r7.casos)*100,2)"
   ]
  },
  {
   "cell_type": "code",
   "execution_count": 49,
   "id": "1e7439b0-0154-44d4-991d-78018994040f",
   "metadata": {},
   "outputs": [],
   "source": [
    "order_ge = ['0 - 04', '05 - 09', '10 - 19', '20 - 29', '30 - 39',\n",
    "            '40 - 49', '50 - 59', '60 - 69', '70 - 79', '80 o más']"
   ]
  },
  {
   "cell_type": "code",
   "execution_count": 50,
   "id": "93d26b53-01d2-4ba1-887a-16bc4b760787",
   "metadata": {},
   "outputs": [
    {
     "data": {
      "text/html": [
       "<div>\n",
       "<style scoped>\n",
       "    .dataframe tbody tr th:only-of-type {\n",
       "        vertical-align: middle;\n",
       "    }\n",
       "\n",
       "    .dataframe tbody tr th {\n",
       "        vertical-align: top;\n",
       "    }\n",
       "\n",
       "    .dataframe thead th {\n",
       "        text-align: right;\n",
       "    }\n",
       "</style>\n",
       "<table border=\"1\" class=\"dataframe\">\n",
       "  <thead>\n",
       "    <tr style=\"text-align: right;\">\n",
       "      <th></th>\n",
       "      <th>año</th>\n",
       "      <th>semana</th>\n",
       "      <th>grupo_etario</th>\n",
       "      <th>fallecidos</th>\n",
       "      <th>casos</th>\n",
       "      <th>año-semana</th>\n",
       "      <th>letalidad</th>\n",
       "    </tr>\n",
       "  </thead>\n",
       "  <tbody>\n",
       "    <tr>\n",
       "      <th>0</th>\n",
       "      <td>2020</td>\n",
       "      <td>10</td>\n",
       "      <td>10 - 19</td>\n",
       "      <td>NaN</td>\n",
       "      <td>1</td>\n",
       "      <td>2020-10</td>\n",
       "      <td>NaN</td>\n",
       "    </tr>\n",
       "    <tr>\n",
       "      <th>1</th>\n",
       "      <td>2020</td>\n",
       "      <td>11</td>\n",
       "      <td>10 - 19</td>\n",
       "      <td>NaN</td>\n",
       "      <td>1</td>\n",
       "      <td>2020-11</td>\n",
       "      <td>NaN</td>\n",
       "    </tr>\n",
       "    <tr>\n",
       "      <th>2</th>\n",
       "      <td>2020</td>\n",
       "      <td>11</td>\n",
       "      <td>20 - 29</td>\n",
       "      <td>1.0</td>\n",
       "      <td>11</td>\n",
       "      <td>2020-11</td>\n",
       "      <td>9.09</td>\n",
       "    </tr>\n",
       "    <tr>\n",
       "      <th>3</th>\n",
       "      <td>2020</td>\n",
       "      <td>11</td>\n",
       "      <td>30 - 39</td>\n",
       "      <td>NaN</td>\n",
       "      <td>4</td>\n",
       "      <td>2020-11</td>\n",
       "      <td>NaN</td>\n",
       "    </tr>\n",
       "    <tr>\n",
       "      <th>4</th>\n",
       "      <td>2020</td>\n",
       "      <td>11</td>\n",
       "      <td>40 - 49</td>\n",
       "      <td>1.0</td>\n",
       "      <td>4</td>\n",
       "      <td>2020-11</td>\n",
       "      <td>25.00</td>\n",
       "    </tr>\n",
       "  </tbody>\n",
       "</table>\n",
       "</div>"
      ],
      "text/plain": [
       "    año  semana grupo_etario  fallecidos  casos año-semana  letalidad\n",
       "0  2020      10      10 - 19         NaN      1    2020-10        NaN\n",
       "1  2020      11      10 - 19         NaN      1    2020-11        NaN\n",
       "2  2020      11      20 - 29         1.0     11    2020-11       9.09\n",
       "3  2020      11      30 - 39         NaN      4    2020-11        NaN\n",
       "4  2020      11      40 - 49         1.0      4    2020-11      25.00"
      ]
     },
     "execution_count": 50,
     "metadata": {},
     "output_type": "execute_result"
    }
   ],
   "source": [
    "df_r7.head()"
   ]
  },
  {
   "cell_type": "code",
   "execution_count": 51,
   "id": "6c0ecbfd-11e4-4528-bfe4-162eec736a5e",
   "metadata": {},
   "outputs": [
    {
     "data": {
      "text/html": [
       "<div>\n",
       "<style scoped>\n",
       "    .dataframe tbody tr th:only-of-type {\n",
       "        vertical-align: middle;\n",
       "    }\n",
       "\n",
       "    .dataframe tbody tr th {\n",
       "        vertical-align: top;\n",
       "    }\n",
       "\n",
       "    .dataframe thead th {\n",
       "        text-align: right;\n",
       "    }\n",
       "</style>\n",
       "<table border=\"1\" class=\"dataframe\">\n",
       "  <thead>\n",
       "    <tr style=\"text-align: right;\">\n",
       "      <th></th>\n",
       "      <th>año</th>\n",
       "      <th>semana</th>\n",
       "      <th>grupo_etario</th>\n",
       "      <th>fallecidos</th>\n",
       "      <th>casos</th>\n",
       "      <th>año-semana</th>\n",
       "      <th>letalidad</th>\n",
       "    </tr>\n",
       "  </thead>\n",
       "  <tbody>\n",
       "    <tr>\n",
       "      <th>18</th>\n",
       "      <td>2020</td>\n",
       "      <td>13</td>\n",
       "      <td>0 - 04</td>\n",
       "      <td>NaN</td>\n",
       "      <td>1</td>\n",
       "      <td>2020-13</td>\n",
       "      <td>NaN</td>\n",
       "    </tr>\n",
       "    <tr>\n",
       "      <th>19</th>\n",
       "      <td>2020</td>\n",
       "      <td>13</td>\n",
       "      <td>05 - 09</td>\n",
       "      <td>NaN</td>\n",
       "      <td>2</td>\n",
       "      <td>2020-13</td>\n",
       "      <td>NaN</td>\n",
       "    </tr>\n",
       "    <tr>\n",
       "      <th>20</th>\n",
       "      <td>2020</td>\n",
       "      <td>13</td>\n",
       "      <td>10 - 19</td>\n",
       "      <td>NaN</td>\n",
       "      <td>12</td>\n",
       "      <td>2020-13</td>\n",
       "      <td>NaN</td>\n",
       "    </tr>\n",
       "    <tr>\n",
       "      <th>21</th>\n",
       "      <td>2020</td>\n",
       "      <td>13</td>\n",
       "      <td>20 - 29</td>\n",
       "      <td>1.0</td>\n",
       "      <td>75</td>\n",
       "      <td>2020-13</td>\n",
       "      <td>1.33</td>\n",
       "    </tr>\n",
       "    <tr>\n",
       "      <th>22</th>\n",
       "      <td>2020</td>\n",
       "      <td>13</td>\n",
       "      <td>30 - 39</td>\n",
       "      <td>NaN</td>\n",
       "      <td>101</td>\n",
       "      <td>2020-13</td>\n",
       "      <td>NaN</td>\n",
       "    </tr>\n",
       "  </tbody>\n",
       "</table>\n",
       "</div>"
      ],
      "text/plain": [
       "     año  semana grupo_etario  fallecidos  casos año-semana  letalidad\n",
       "18  2020      13       0 - 04         NaN      1    2020-13        NaN\n",
       "19  2020      13      05 - 09         NaN      2    2020-13        NaN\n",
       "20  2020      13      10 - 19         NaN     12    2020-13        NaN\n",
       "21  2020      13      20 - 29         1.0     75    2020-13       1.33\n",
       "22  2020      13      30 - 39         NaN    101    2020-13        NaN"
      ]
     },
     "execution_count": 51,
     "metadata": {},
     "output_type": "execute_result"
    }
   ],
   "source": [
    "df_r77 = df_r7.loc[~df_r7['año-semana'].isin(['2020-10','2020-11','2020-12']) ,:]\n",
    "df_r77.head()"
   ]
  },
  {
   "cell_type": "markdown",
   "id": "1c4c5b79-59ed-4567-927e-e5fb645acabe",
   "metadata": {},
   "source": [
    "- *Ploting Fatality Rate and Deaths by **Age Group** and **Week**:* "
   ]
  },
  {
   "cell_type": "code",
   "execution_count": 52,
   "id": "b0725c3a-ca1a-4ec1-8bf7-de400b23112c",
   "metadata": {},
   "outputs": [
    {
     "data": {
      "text/plain": [
       "<function matplotlib.pyplot.show(close=None, block=None)>"
      ]
     },
     "execution_count": 52,
     "metadata": {},
     "output_type": "execute_result"
    },
    {
     "data": {
      "image/png": "[encoded data removed]",
      "text/plain": [
       "<Figure size 1080x504 with 2 Axes>"
      ]
     },
     "metadata": {
      "needs_background": "light"
     },
     "output_type": "display_data"
    }
   ],
   "source": [
    "plt.figure(figsize=(15,7))\n",
    "\n",
    "plt.ylabel('Fatality rate (%)')\n",
    "plt.xlabel('Year-Week')\n",
    "plt.xticks(rotation=45)\n",
    "plt.vlines(48, 0,50, linestyles=\"dashed\", colors=\"black\")\n",
    "\n",
    "sns.lineplot(data = df_r77, x ='año-semana', y = 'letalidad', hue='grupo_etario', hue_order = order_ge, ci = None)\n",
    "ax2 = plt.twinx()\n",
    "sns.barplot(data = df_r77, x = 'año-semana', y = 'fallecidos', color = 'tab:red', alpha=0.1, ax=ax2, ci = None)\n",
    "\n",
    "plt.ylabel('Deaths')\n",
    "#plt.xticks(np.arange(0,80,1), [i if i in range(0,80,2) else '' for i in range(80)])\n",
    "x = np.random.randint(low=0, high=50, size=80)\n",
    "plt.xticks(np.arange(0, len(x)+1, 3))\n",
    "plt.show"
   ]
  },
  {
   "cell_type": "markdown",
   "id": "8d5b9799-67ab-4dac-a277-19b23c7286fe",
   "metadata": {},
   "source": [
    "- *Filtering by **Age Group**:* "
   ]
  },
  {
   "cell_type": "code",
   "execution_count": 53,
   "id": "5c7b22f4-37b5-4b85-9585-57a93cae331e",
   "metadata": {},
   "outputs": [
    {
     "data": {
      "text/plain": [
       "<function matplotlib.pyplot.show(close=None, block=None)>"
      ]
     },
     "execution_count": 53,
     "metadata": {},
     "output_type": "execute_result"
    },
    {
     "data": {
      "image/png": "[encoded data removed]",
      "text/plain": [
       "<Figure size 720x252 with 2 Axes>"
      ]
     },
     "metadata": {
      "needs_background": "light"
     },
     "output_type": "display_data"
    }
   ],
   "source": [
    "plt.figure(figsize=(10,3.5))\n",
    "\n",
    "plt.ylabel('Fatality rate (%)')\n",
    "plt.xlabel('Year-Week')\n",
    "plt.xticks(rotation=45)\n",
    "plt.vlines(48, 0,25, linestyles=\"dashed\", colors=\"black\")\n",
    "\n",
    "sns.lineplot(data = df_r77.loc[df_r77.grupo_etario == '60 - 69',:], x ='año-semana', y = 'letalidad', color='sienna', hue='grupo_etario', ci = None)\n",
    "ax2 = plt.twinx()\n",
    "sns.barplot(data = df_r77.loc[df_r77.grupo_etario == '60 - 69',:], x = 'año-semana', y = 'casos', color = 'tab:red', alpha=0.1, ax=ax2, ci = None)\n",
    "\n",
    "plt.ylabel('Deaths')\n",
    "#plt.xticks(np.arange(0,80,1), [i if i in range(0,80,2) else '' for i in range(80)])\n",
    "x = np.random.randint(low=0, high=50, size=80)\n",
    "plt.xticks(np.arange(0, len(x)+1, 4))\n",
    "plt.show"
   ]
  },
  {
   "cell_type": "markdown",
   "id": "89308341-2c75-40cd-8015-abf7bb7fb96a",
   "metadata": {},
   "source": [
    "- *Calculating average change in fatality rate for one age group:*"
   ]
  },
  {
   "cell_type": "code",
   "execution_count": 54,
   "id": "e70b3a47-164c-48b2-a187-028bafe6b155",
   "metadata": {},
   "outputs": [],
   "source": [
    "df_r78 = df_r77.loc[df_r77.grupo_etario == '60 - 69',:].reset_index(drop=True)"
   ]
  },
  {
   "cell_type": "code",
   "execution_count": 55,
   "id": "c6c1caee-454c-4b48-9723-618355758866",
   "metadata": {
    "tags": []
   },
   "outputs": [
    {
     "data": {
      "text/plain": [
       "48     2021-8\n",
       "49     2021-9\n",
       "50    2021-10\n",
       "51    2021-11\n",
       "52    2021-12\n",
       "53    2021-13\n",
       "54    2021-14\n",
       "55    2021-15\n",
       "56    2021-16\n",
       "57    2021-17\n",
       "58    2021-18\n",
       "59    2021-19\n",
       "60    2021-20\n",
       "61    2021-21\n",
       "62    2021-22\n",
       "63    2021-23\n",
       "Name: año-semana, dtype: object"
      ]
     },
     "execution_count": 55,
     "metadata": {},
     "output_type": "execute_result"
    }
   ],
   "source": [
    "df_r78['año-semana'][48:64]"
   ]
  },
  {
   "cell_type": "code",
   "execution_count": 56,
   "id": "5bbdce24-037a-437c-b926-068a22f4c827",
   "metadata": {},
   "outputs": [
    {
     "data": {
      "text/plain": [
       "31.63"
      ]
     },
     "execution_count": 56,
     "metadata": {},
     "output_type": "execute_result"
    }
   ],
   "source": [
    "round(100-(df_r78.letalidad[64:].mean()/df_r78.letalidad[48:64].mean())*100,2)"
   ]
  },
  {
   "cell_type": "markdown",
   "id": "2b4814c2-1ee1-435d-96b5-55403205361e",
   "metadata": {},
   "source": [
    "- *Comparing fatality rate of all age groups with a relplot:**"
   ]
  },
  {
   "cell_type": "code",
   "execution_count": 57,
   "id": "6ffb5c3e-d798-4766-b4ba-7433cc07713e",
   "metadata": {
    "tags": []
   },
   "outputs": [
    {
     "data": {
      "image/png": "[encoded data removed]",
      "text/plain": [
       "<Figure size 432x2160 with 10 Axes>"
      ]
     },
     "metadata": {
      "needs_background": "light"
     },
     "output_type": "display_data"
    }
   ],
   "source": [
    "#plt.figure(figsize=(20,5))\n",
    "sns.relplot(data = df_r77, x='año-semana', y='letalidad',\n",
    "               height = 3,\n",
    "               aspect = 2,\n",
    "               row='grupo_etario',\n",
    "               row_order = order_ge,\n",
    "               kind='line',\n",
    "               color = 'royalblue',\n",
    "               ci=None)\n",
    "plt.xticks(rotation=60)\n",
    "plt.vlines(48, 0,80, linestyles=\"dashed\", colors=\"black\")\n",
    "x = np.random.randint(low=0, high=50, size=80)\n",
    "plt.xticks(np.arange(0, len(x)+1, 3))\n",
    "plt.show()"
   ]
  },
  {
   "cell_type": "markdown",
   "id": "d1dc911b-f98f-4b35-ade1-c06115901b6f",
   "metadata": {},
   "source": [
    ">**Remarks:**\n",
    ">- *According to the graphs, a general downward trend in fatality is observed.*\n",
    ">- *However, during the first three months after the start of vaccination, there does not seem to be a significant change that indicates a decrease in fatality rate. During this time, there are notable peaks and valleys in its behavior given the sudden increase and decrease in the number of infections during those months.*\n",
    ">- *A slight decrease in the fatality rate starts to be noticeable only four months after the start of vaccination (from week 2021-23). From there, a downward trend in fatality is observed reaching 2.03% in 09-2021 which is the lowest value in the entire pandemic.*\n",
    ">- *Fatality rate tends to be higher in older age groups. This behavior is maintained throughout the pandemic, confirming that older people have been the hardest hit by the virus.\n",
    ">- *The final downward trend in the fatality rate is very pronounced in the \"70 -79\" and \"80 or more\" groups.*"
   ]
  },
  {
   "cell_type": "markdown",
   "id": "50fecedf-cf55-4e2e-b5aa-54066388b56d",
   "metadata": {},
   "source": [
    "- *Relationship between Cases and Deaths by **Age Group**:*"
   ]
  },
  {
   "cell_type": "code",
   "execution_count": 58,
   "id": "1422a026-7af1-42e3-bfcc-583e3bca2d5d",
   "metadata": {},
   "outputs": [
    {
     "data": {
      "image/png": "[encoded data removed]",
      "text/plain": [
       "<Figure size 1800x360 with 10 Axes>"
      ]
     },
     "metadata": {
      "needs_background": "light"
     },
     "output_type": "display_data"
    }
   ],
   "source": [
    "#plt.figure(figsize = (10,10))\n",
    "sns.lmplot(data =df_r7, x='casos', y='fallecidos',  col='grupo_etario', col_order= order_ge, height = 5, aspect = 0.5)\n",
    "plt.show()"
   ]
  },
  {
   "cell_type": "markdown",
   "id": "80239a24-09fc-4205-9f65-f55c5becf319",
   "metadata": {},
   "source": [
    "- *Comparing **Cases** vs **Deaths by week**:*  \n",
    "The height of the bar is relative to the y axis scale. They are not proportional to the real numbers."
   ]
  },
  {
   "cell_type": "code",
   "execution_count": 59,
   "id": "926166ff-e79e-47c3-8440-6394f27af7cd",
   "metadata": {},
   "outputs": [
    {
     "data": {
      "text/plain": [
       "<function matplotlib.pyplot.show(close=None, block=None)>"
      ]
     },
     "execution_count": 59,
     "metadata": {},
     "output_type": "execute_result"
    },
    {
     "data": {
      "image/png": "[encoded data removed]",
      "text/plain": [
       "<Figure size 1080x432 with 2 Axes>"
      ]
     },
     "metadata": {
      "needs_background": "light"
     },
     "output_type": "display_data"
    }
   ],
   "source": [
    "plt.figure(figsize=(15,6))\n",
    "plt.ylabel('Cases')\n",
    "plt.xlabel('Year-Week')\n",
    "plt.xticks(rotation=80)\n",
    "\n",
    "sns.barplot(x='año-semana', y='casos', data = df_r7, color = 'b', alpha=0.4, ci=None)\n",
    "ax2 = plt.twinx()\n",
    "sns.barplot(x='año-semana', y='fallecidos', data=df_r7, ax=ax2, ci = None, color='r', alpha=0.5)\n",
    "\n",
    "plt.ylabel('Deaths')\n",
    "x = np.random.randint(low=0, high=50, size=80)\n",
    "plt.xticks(np.arange(0, len(x)+1, 3))\n",
    "plt.vlines(51, 0,1000, linestyles=\"dashed\", colors=\"black\")\n",
    "\n",
    "plt.show"
   ]
  },
  {
   "cell_type": "markdown",
   "id": "f1e0b67c-ad8b-491b-b03e-1e9be0dd1444",
   "metadata": {},
   "source": [
    "---\n",
    "#### Vaccinations vs Fatality Rate"
   ]
  },
  {
   "cell_type": "markdown",
   "id": "9e827d88-063c-44f8-a739-8a9c5e82d9c0",
   "metadata": {},
   "source": [
    "- *Grouping vaccinations **by week**:*"
   ]
  },
  {
   "cell_type": "code",
   "execution_count": 60,
   "id": "0e3a79a2-7ec5-4fdc-a754-3343d090be86",
   "metadata": {
    "tags": []
   },
   "outputs": [
    {
     "name": "stdout",
     "output_type": "stream",
     "text": [
      " * mssql://CAMILO-PCI5\\SQLEXPRESS/CovidColombia?driver=SQL+Server\n",
      "Done.\n",
      "Returning data to local variable r8\n"
     ]
    }
   ],
   "source": [
    "%%sql r8 <<\n",
    "SELECT YEAR(date) AS año, DATEPART(WEEK, date) AS semana, SUM(daily_vaccinations) AS vaccinations\n",
    "FROM Vaccinations\n",
    "WHERE location = 'Colombia'\n",
    "GROUP BY YEAR(date), DATEPART(WEEK, date)"
   ]
  },
  {
   "cell_type": "code",
   "execution_count": 61,
   "id": "8f9fd55b-d138-468b-a9c2-1529b7a0efe1",
   "metadata": {},
   "outputs": [
    {
     "data": {
      "text/html": [
       "<div>\n",
       "<style scoped>\n",
       "    .dataframe tbody tr th:only-of-type {\n",
       "        vertical-align: middle;\n",
       "    }\n",
       "\n",
       "    .dataframe tbody tr th {\n",
       "        vertical-align: top;\n",
       "    }\n",
       "\n",
       "    .dataframe thead th {\n",
       "        text-align: right;\n",
       "    }\n",
       "</style>\n",
       "<table border=\"1\" class=\"dataframe\">\n",
       "  <thead>\n",
       "    <tr style=\"text-align: right;\">\n",
       "      <th></th>\n",
       "      <th>año</th>\n",
       "      <th>semana</th>\n",
       "      <th>vaccinations</th>\n",
       "    </tr>\n",
       "  </thead>\n",
       "  <tbody>\n",
       "    <tr>\n",
       "      <th>0</th>\n",
       "      <td>2021</td>\n",
       "      <td>8</td>\n",
       "      <td>31602.0</td>\n",
       "    </tr>\n",
       "    <tr>\n",
       "      <th>1</th>\n",
       "      <td>2021</td>\n",
       "      <td>9</td>\n",
       "      <td>62383.0</td>\n",
       "    </tr>\n",
       "    <tr>\n",
       "      <th>2</th>\n",
       "      <td>2021</td>\n",
       "      <td>10</td>\n",
       "      <td>130334.0</td>\n",
       "    </tr>\n",
       "    <tr>\n",
       "      <th>3</th>\n",
       "      <td>2021</td>\n",
       "      <td>11</td>\n",
       "      <td>315182.0</td>\n",
       "    </tr>\n",
       "    <tr>\n",
       "      <th>4</th>\n",
       "      <td>2021</td>\n",
       "      <td>12</td>\n",
       "      <td>512062.0</td>\n",
       "    </tr>\n",
       "  </tbody>\n",
       "</table>\n",
       "</div>"
      ],
      "text/plain": [
       "    año  semana  vaccinations\n",
       "0  2021       8       31602.0\n",
       "1  2021       9       62383.0\n",
       "2  2021      10      130334.0\n",
       "3  2021      11      315182.0\n",
       "4  2021      12      512062.0"
      ]
     },
     "execution_count": 61,
     "metadata": {},
     "output_type": "execute_result"
    }
   ],
   "source": [
    "df_r8 = r8.DataFrame()\n",
    "df_r8.head()"
   ]
  },
  {
   "cell_type": "code",
   "execution_count": 62,
   "id": "614f8965-3b74-487a-a7e2-aaa705790661",
   "metadata": {},
   "outputs": [
    {
     "data": {
      "text/html": [
       "<div>\n",
       "<style scoped>\n",
       "    .dataframe tbody tr th:only-of-type {\n",
       "        vertical-align: middle;\n",
       "    }\n",
       "\n",
       "    .dataframe tbody tr th {\n",
       "        vertical-align: top;\n",
       "    }\n",
       "\n",
       "    .dataframe thead th {\n",
       "        text-align: right;\n",
       "    }\n",
       "</style>\n",
       "<table border=\"1\" class=\"dataframe\">\n",
       "  <thead>\n",
       "    <tr style=\"text-align: right;\">\n",
       "      <th></th>\n",
       "      <th>año</th>\n",
       "      <th>semana</th>\n",
       "      <th>fallecidos</th>\n",
       "      <th>casos</th>\n",
       "      <th>letalidad</th>\n",
       "      <th>año-semana</th>\n",
       "    </tr>\n",
       "  </thead>\n",
       "  <tbody>\n",
       "    <tr>\n",
       "      <th>0</th>\n",
       "      <td>2021</td>\n",
       "      <td>8</td>\n",
       "      <td>724</td>\n",
       "      <td>31907</td>\n",
       "      <td>2.27</td>\n",
       "      <td>2021-8</td>\n",
       "    </tr>\n",
       "    <tr>\n",
       "      <th>1</th>\n",
       "      <td>2021</td>\n",
       "      <td>9</td>\n",
       "      <td>617</td>\n",
       "      <td>26113</td>\n",
       "      <td>2.36</td>\n",
       "      <td>2021-9</td>\n",
       "    </tr>\n",
       "    <tr>\n",
       "      <th>2</th>\n",
       "      <td>2021</td>\n",
       "      <td>10</td>\n",
       "      <td>644</td>\n",
       "      <td>25110</td>\n",
       "      <td>2.56</td>\n",
       "      <td>2021-10</td>\n",
       "    </tr>\n",
       "    <tr>\n",
       "      <th>3</th>\n",
       "      <td>2021</td>\n",
       "      <td>11</td>\n",
       "      <td>761</td>\n",
       "      <td>25837</td>\n",
       "      <td>2.95</td>\n",
       "      <td>2021-11</td>\n",
       "    </tr>\n",
       "    <tr>\n",
       "      <th>4</th>\n",
       "      <td>2021</td>\n",
       "      <td>12</td>\n",
       "      <td>909</td>\n",
       "      <td>32104</td>\n",
       "      <td>2.83</td>\n",
       "      <td>2021-12</td>\n",
       "    </tr>\n",
       "  </tbody>\n",
       "</table>\n",
       "</div>"
      ],
      "text/plain": [
       "    año  semana  fallecidos  casos  letalidad año-semana\n",
       "0  2021       8         724  31907       2.27     2021-8\n",
       "1  2021       9         617  26113       2.36     2021-9\n",
       "2  2021      10         644  25110       2.56    2021-10\n",
       "3  2021      11         761  25837       2.95    2021-11\n",
       "4  2021      12         909  32104       2.83    2021-12"
      ]
     },
     "execution_count": 62,
     "metadata": {},
     "output_type": "execute_result"
    }
   ],
   "source": [
    "df_r9 = df_r6.loc[(df_r6.año == 2021) & (df_r6.semana >=8) ,:].reset_index(drop=True)\n",
    "df_r9.head()"
   ]
  },
  {
   "cell_type": "markdown",
   "id": "77a461af-acff-42e3-9d62-c4e9a4d4755e",
   "metadata": {},
   "source": [
    "- *Joining Vaccinations by week with Fatality rate by week:*"
   ]
  },
  {
   "cell_type": "code",
   "execution_count": 63,
   "id": "3031c4e5-df4c-45ed-80e6-4e5d2c050625",
   "metadata": {},
   "outputs": [
    {
     "data": {
      "text/html": [
       "<div>\n",
       "<style scoped>\n",
       "    .dataframe tbody tr th:only-of-type {\n",
       "        vertical-align: middle;\n",
       "    }\n",
       "\n",
       "    .dataframe tbody tr th {\n",
       "        vertical-align: top;\n",
       "    }\n",
       "\n",
       "    .dataframe thead th {\n",
       "        text-align: right;\n",
       "    }\n",
       "</style>\n",
       "<table border=\"1\" class=\"dataframe\">\n",
       "  <thead>\n",
       "    <tr style=\"text-align: right;\">\n",
       "      <th></th>\n",
       "      <th>año</th>\n",
       "      <th>semana</th>\n",
       "      <th>fallecidos</th>\n",
       "      <th>casos</th>\n",
       "      <th>letalidad</th>\n",
       "      <th>año-semana</th>\n",
       "      <th>vaccinations</th>\n",
       "    </tr>\n",
       "  </thead>\n",
       "  <tbody>\n",
       "    <tr>\n",
       "      <th>26</th>\n",
       "      <td>2021</td>\n",
       "      <td>34</td>\n",
       "      <td>404</td>\n",
       "      <td>22268</td>\n",
       "      <td>1.81</td>\n",
       "      <td>2021-34</td>\n",
       "      <td>1400427.0</td>\n",
       "    </tr>\n",
       "    <tr>\n",
       "      <th>27</th>\n",
       "      <td>2021</td>\n",
       "      <td>35</td>\n",
       "      <td>308</td>\n",
       "      <td>16407</td>\n",
       "      <td>1.88</td>\n",
       "      <td>2021-35</td>\n",
       "      <td>1737702.0</td>\n",
       "    </tr>\n",
       "    <tr>\n",
       "      <th>28</th>\n",
       "      <td>2021</td>\n",
       "      <td>36</td>\n",
       "      <td>182</td>\n",
       "      <td>13676</td>\n",
       "      <td>1.33</td>\n",
       "      <td>2021-36</td>\n",
       "      <td>1440250.0</td>\n",
       "    </tr>\n",
       "    <tr>\n",
       "      <th>29</th>\n",
       "      <td>2021</td>\n",
       "      <td>37</td>\n",
       "      <td>147</td>\n",
       "      <td>11598</td>\n",
       "      <td>1.27</td>\n",
       "      <td>2021-37</td>\n",
       "      <td>1216630.0</td>\n",
       "    </tr>\n",
       "    <tr>\n",
       "      <th>30</th>\n",
       "      <td>2021</td>\n",
       "      <td>38</td>\n",
       "      <td>41</td>\n",
       "      <td>4420</td>\n",
       "      <td>0.93</td>\n",
       "      <td>2021-38</td>\n",
       "      <td>149843.0</td>\n",
       "    </tr>\n",
       "  </tbody>\n",
       "</table>\n",
       "</div>"
      ],
      "text/plain": [
       "     año  semana  fallecidos  casos  letalidad año-semana  vaccinations\n",
       "26  2021      34         404  22268       1.81    2021-34     1400427.0\n",
       "27  2021      35         308  16407       1.88    2021-35     1737702.0\n",
       "28  2021      36         182  13676       1.33    2021-36     1440250.0\n",
       "29  2021      37         147  11598       1.27    2021-37     1216630.0\n",
       "30  2021      38          41   4420       0.93    2021-38      149843.0"
      ]
     },
     "execution_count": 63,
     "metadata": {},
     "output_type": "execute_result"
    }
   ],
   "source": [
    "df_r8_9 = df_r9.merge(df_r8, how = 'left', on = 'año' and 'semana').drop('año_y', axis = 1).rename({'año_x' : 'año'}, axis = 1)\n",
    "df_r8_9.tail()"
   ]
  },
  {
   "cell_type": "markdown",
   "id": "a69530ae-29f3-4c82-bd5e-43c484d777c4",
   "metadata": {},
   "source": [
    "- *Scatterplot: Vaccinations vs Fatality Rate (week by week):*"
   ]
  },
  {
   "cell_type": "code",
   "execution_count": 64,
   "id": "67856d76-5c25-4707-9e1c-c3bf3bc600a6",
   "metadata": {},
   "outputs": [
    {
     "data": {
      "text/plain": [
       "<Figure size 720x720 with 0 Axes>"
      ]
     },
     "metadata": {},
     "output_type": "display_data"
    },
    {
     "data": {
      "image/png": "[encoded data removed]",
      "text/plain": [
       "<Figure size 720x360 with 1 Axes>"
      ]
     },
     "metadata": {
      "needs_background": "light"
     },
     "output_type": "display_data"
    }
   ],
   "source": [
    "plt.figure(figsize = (10,10))\n",
    "sns.lmplot(data = df_r8_9, x='vaccinations', y='letalidad',  height = 5, aspect = 2)\n",
    "\n",
    "plt.ylabel('Fatality Rate (%)')\n",
    "plt.xlabel('Vaccinations')\n",
    "plt.show()"
   ]
  },
  {
   "cell_type": "markdown",
   "id": "7de28652-dd9e-498d-993c-072146d83d61",
   "metadata": {},
   "source": [
    "- *Comparig Fatality Rate and Vaccinations through time (by week):*"
   ]
  },
  {
   "cell_type": "code",
   "execution_count": 65,
   "id": "69060475-1946-4bcb-b147-594f0bf5fab6",
   "metadata": {},
   "outputs": [
    {
     "data": {
      "text/plain": [
       "<function matplotlib.pyplot.show(close=None, block=None)>"
      ]
     },
     "execution_count": 65,
     "metadata": {},
     "output_type": "execute_result"
    },
    {
     "data": {
      "image/png": "[encoded data removed]",
      "text/plain": [
       "<Figure size 1080x360 with 2 Axes>"
      ]
     },
     "metadata": {
      "needs_background": "light"
     },
     "output_type": "display_data"
    }
   ],
   "source": [
    "plt.figure(figsize=(15,5))\n",
    "plt.ylabel('Fatality Rate (%)')\n",
    "plt.xlabel('Year-Week')\n",
    "plt.xticks(rotation=45)\n",
    "\n",
    "sns.lineplot(x='año-semana', y='letalidad', data = df_r8_9, color = 'royalblue', ci=None)\n",
    "ax2 = plt.twinx()\n",
    "sns.barplot(x='año-semana', y='vaccinations', data=df_r8_9, ax=ax2, ci = None, color='forestgreen', alpha=0.2)\n",
    "\n",
    "plt.ylabel('Vaccinations')\n",
    "x = np.random.randint(low=0, high=50, size=30)\n",
    "plt.xticks(np.arange(0, len(x)+1, 2))\n",
    "\n",
    "plt.show"
   ]
  },
  {
   "cell_type": "markdown",
   "id": "4cd1ebc3-ad98-4dd6-835b-2623592f723b",
   "metadata": {},
   "source": [
    "- *Calculating correlation coefficient:*"
   ]
  },
  {
   "cell_type": "code",
   "execution_count": 66,
   "id": "22ef328d-02b8-4d24-b2a6-f9b87c72b1b2",
   "metadata": {},
   "outputs": [
    {
     "data": {
      "text/html": [
       "<div>\n",
       "<style scoped>\n",
       "    .dataframe tbody tr th:only-of-type {\n",
       "        vertical-align: middle;\n",
       "    }\n",
       "\n",
       "    .dataframe tbody tr th {\n",
       "        vertical-align: top;\n",
       "    }\n",
       "\n",
       "    .dataframe thead th {\n",
       "        text-align: right;\n",
       "    }\n",
       "</style>\n",
       "<table border=\"1\" class=\"dataframe\">\n",
       "  <thead>\n",
       "    <tr style=\"text-align: right;\">\n",
       "      <th></th>\n",
       "      <th>fallecidos</th>\n",
       "      <th>casos</th>\n",
       "      <th>letalidad</th>\n",
       "      <th>vaccinations</th>\n",
       "    </tr>\n",
       "  </thead>\n",
       "  <tbody>\n",
       "    <tr>\n",
       "      <th>fallecidos</th>\n",
       "      <td>1.000000</td>\n",
       "      <td>0.955338</td>\n",
       "      <td>0.401504</td>\n",
       "      <td>0.248688</td>\n",
       "    </tr>\n",
       "    <tr>\n",
       "      <th>casos</th>\n",
       "      <td>0.955338</td>\n",
       "      <td>1.000000</td>\n",
       "      <td>0.178002</td>\n",
       "      <td>0.428150</td>\n",
       "    </tr>\n",
       "    <tr>\n",
       "      <th>letalidad</th>\n",
       "      <td>0.401504</td>\n",
       "      <td>0.178002</td>\n",
       "      <td>1.000000</td>\n",
       "      <td>-0.444976</td>\n",
       "    </tr>\n",
       "    <tr>\n",
       "      <th>vaccinations</th>\n",
       "      <td>0.248688</td>\n",
       "      <td>0.428150</td>\n",
       "      <td>-0.444976</td>\n",
       "      <td>1.000000</td>\n",
       "    </tr>\n",
       "  </tbody>\n",
       "</table>\n",
       "</div>"
      ],
      "text/plain": [
       "              fallecidos     casos  letalidad  vaccinations\n",
       "fallecidos      1.000000  0.955338   0.401504      0.248688\n",
       "casos           0.955338  1.000000   0.178002      0.428150\n",
       "letalidad       0.401504  0.178002   1.000000     -0.444976\n",
       "vaccinations    0.248688  0.428150  -0.444976      1.000000"
      ]
     },
     "execution_count": 66,
     "metadata": {},
     "output_type": "execute_result"
    }
   ],
   "source": [
    "df_r8_9[['fallecidos', 'casos','letalidad', 'vaccinations']].corr()"
   ]
  },
  {
   "cell_type": "code",
   "execution_count": 67,
   "id": "c3d72bc9-f5ca-4250-b784-5b9279139c13",
   "metadata": {},
   "outputs": [
    {
     "data": {
      "image/png": "[encoded data removed]",
      "text/plain": [
       "<Figure size 432x432 with 2 Axes>"
      ]
     },
     "metadata": {
      "needs_background": "light"
     },
     "output_type": "display_data"
    }
   ],
   "source": [
    "df_r8_9[['fallecidos', 'casos','letalidad', 'vaccinations']].corr()\n",
    "plt.figure(figsize = (6,6))\n",
    "sns.heatmap(df_r8_9[['fallecidos', 'casos','letalidad', 'vaccinations']].corr(), vmin=-1, vmax=1, center=0 , annot=True, cmap=\"coolwarm\", linewidths=1)\n",
    "plt.show()"
   ]
  },
  {
   "cell_type": "markdown",
   "id": "fb7cee44-08b1-4406-8115-f8802c7afbd3",
   "metadata": {},
   "source": [
    ">**Remarks:**\n",
    ">- *Fatality rate tends to be higher in older age groups. This behavior is maintained throughout the pandemic. Therefore, it is correct to conclude that the older a person is, the greater risk of dying if they contract the disease.*\n",
    ">- *According to the research, the people least affected by the pandemic are between 0 and 49 years old. In these age groups, fatality averages below 2%.*\n",
    ">- *During the first three months after the start of vaccination, there does not seem to be a significant change that indicates a decrease in fatality rate, however, a slight decrease in the fatality rate starts to be noticeable four months after the start of vaccination (from week 2021-23). Naturally, this change is evident in the more advanced age groups since they were a priority in the country's vaccination scheme.*\n",
    ">- *The age group of '60 - 69' is the one that has had the greatest reduction in the fatality rate since the beginning of vaccination: about 31% on average.*\n",
    ">- *If we look the whole picture, a general downward trend in the fatality rate is observed. It can be caused by multiple reasons: from a better effectiveness in hospital treatments to the immunity obtained by the vaccine. The data presented here show us that even though it is slight, the correlation exists: as the number of doses applied increases, the overall fatality rate decreases.*\n",
    ">- *It is true that there is a long way to go in the vaccination scheme, but the results of the advances may already begin to be noticed. In the coming months, vaccines will be able to be tested upon the arrival of a fourth wave of infections.*"
   ]
  }
 ],
 "metadata": {
  "kernelspec": {
   "display_name": "Python 3 (ipykernel)",
   "language": "python",
   "name": "python3"
  },
  "language_info": {
   "codemirror_mode": {
    "name": "ipython",
    "version": 3
   },
   "file_extension": ".py",
   "mimetype": "text/x-python",
   "name": "python",
   "nbconvert_exporter": "python",
   "pygments_lexer": "ipython3",
   "version": "3.9.5"
  }
 },
 "nbformat": 4,
 "nbformat_minor": 5
}
